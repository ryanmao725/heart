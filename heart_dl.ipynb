{
 "metadata": {
  "language_info": {
   "codemirror_mode": {
    "name": "ipython",
    "version": 3
   },
   "file_extension": ".py",
   "mimetype": "text/x-python",
   "name": "python",
   "nbconvert_exporter": "python",
   "pygments_lexer": "ipython3",
   "version": "3.8.8"
  },
  "orig_nbformat": 4,
  "kernelspec": {
   "name": "python3",
   "display_name": "Python 3.8.8 64-bit ('base': conda)"
  },
  "interpreter": {
   "hash": "82e8262cf087a91f1a028f9e216492ce78a585e03708ccd4bc6ff8e50fd7fe13"
  }
 },
 "nbformat": 4,
 "nbformat_minor": 2,
 "cells": [
  {
   "cell_type": "code",
   "execution_count": 172,
   "metadata": {},
   "outputs": [],
   "source": [
    "import pandas as pd\n",
    "import numpy as np\n",
    "from scipy import stats as spstats\n",
    "\n",
    "from sklearn import model_selection as skms\n",
    "\n",
    "import tensorflow as tf\n",
    "\n",
    "import plotly.express as px"
   ]
  },
  {
   "cell_type": "code",
   "execution_count": 173,
   "metadata": {},
   "outputs": [
    {
     "output_type": "stream",
     "name": "stdout",
     "text": [
      "<class 'pandas.core.frame.DataFrame'>\nRangeIndex: 303 entries, 0 to 302\nData columns (total 14 columns):\n #   Column    Non-Null Count  Dtype  \n---  ------    --------------  -----  \n 0   age       303 non-null    int64  \n 1   sex       303 non-null    int64  \n 2   cp        303 non-null    int64  \n 3   trtbps    303 non-null    int64  \n 4   chol      303 non-null    int64  \n 5   fbs       303 non-null    int64  \n 6   restecg   303 non-null    int64  \n 7   thalachh  303 non-null    int64  \n 8   exng      303 non-null    int64  \n 9   oldpeak   303 non-null    float64\n 10  slp       303 non-null    int64  \n 11  caa       303 non-null    int64  \n 12  thall     303 non-null    int64  \n 13  output    303 non-null    int64  \ndtypes: float64(1), int64(13)\nmemory usage: 33.3 KB\n"
     ]
    },
    {
     "output_type": "display_data",
     "data": {
      "text/plain": "     age  sex  cp  trtbps  chol  fbs  restecg  thalachh  exng  oldpeak  slp  \\\n0     63    1   3     145   233    1        0       150     0      2.3    0   \n1     37    1   2     130   250    0        1       187     0      3.5    0   \n2     41    0   1     130   204    0        0       172     0      1.4    2   \n3     56    1   1     120   236    0        1       178     0      0.8    2   \n4     57    0   0     120   354    0        1       163     1      0.6    2   \n..   ...  ...  ..     ...   ...  ...      ...       ...   ...      ...  ...   \n298   57    0   0     140   241    0        1       123     1      0.2    1   \n299   45    1   3     110   264    0        1       132     0      1.2    1   \n300   68    1   0     144   193    1        1       141     0      3.4    1   \n301   57    1   0     130   131    0        1       115     1      1.2    1   \n302   57    0   1     130   236    0        0       174     0      0.0    1   \n\n     caa  thall  output  \n0      0      1       1  \n1      0      2       1  \n2      0      2       1  \n3      0      2       1  \n4      0      2       1  \n..   ...    ...     ...  \n298    0      3       0  \n299    0      3       0  \n300    2      3       0  \n301    1      3       0  \n302    1      2       0  \n\n[303 rows x 14 columns]",
      "text/html": "<div>\n<style scoped>\n    .dataframe tbody tr th:only-of-type {\n        vertical-align: middle;\n    }\n\n    .dataframe tbody tr th {\n        vertical-align: top;\n    }\n\n    .dataframe thead th {\n        text-align: right;\n    }\n</style>\n<table border=\"1\" class=\"dataframe\">\n  <thead>\n    <tr style=\"text-align: right;\">\n      <th></th>\n      <th>age</th>\n      <th>sex</th>\n      <th>cp</th>\n      <th>trtbps</th>\n      <th>chol</th>\n      <th>fbs</th>\n      <th>restecg</th>\n      <th>thalachh</th>\n      <th>exng</th>\n      <th>oldpeak</th>\n      <th>slp</th>\n      <th>caa</th>\n      <th>thall</th>\n      <th>output</th>\n    </tr>\n  </thead>\n  <tbody>\n    <tr>\n      <th>0</th>\n      <td>63</td>\n      <td>1</td>\n      <td>3</td>\n      <td>145</td>\n      <td>233</td>\n      <td>1</td>\n      <td>0</td>\n      <td>150</td>\n      <td>0</td>\n      <td>2.3</td>\n      <td>0</td>\n      <td>0</td>\n      <td>1</td>\n      <td>1</td>\n    </tr>\n    <tr>\n      <th>1</th>\n      <td>37</td>\n      <td>1</td>\n      <td>2</td>\n      <td>130</td>\n      <td>250</td>\n      <td>0</td>\n      <td>1</td>\n      <td>187</td>\n      <td>0</td>\n      <td>3.5</td>\n      <td>0</td>\n      <td>0</td>\n      <td>2</td>\n      <td>1</td>\n    </tr>\n    <tr>\n      <th>2</th>\n      <td>41</td>\n      <td>0</td>\n      <td>1</td>\n      <td>130</td>\n      <td>204</td>\n      <td>0</td>\n      <td>0</td>\n      <td>172</td>\n      <td>0</td>\n      <td>1.4</td>\n      <td>2</td>\n      <td>0</td>\n      <td>2</td>\n      <td>1</td>\n    </tr>\n    <tr>\n      <th>3</th>\n      <td>56</td>\n      <td>1</td>\n      <td>1</td>\n      <td>120</td>\n      <td>236</td>\n      <td>0</td>\n      <td>1</td>\n      <td>178</td>\n      <td>0</td>\n      <td>0.8</td>\n      <td>2</td>\n      <td>0</td>\n      <td>2</td>\n      <td>1</td>\n    </tr>\n    <tr>\n      <th>4</th>\n      <td>57</td>\n      <td>0</td>\n      <td>0</td>\n      <td>120</td>\n      <td>354</td>\n      <td>0</td>\n      <td>1</td>\n      <td>163</td>\n      <td>1</td>\n      <td>0.6</td>\n      <td>2</td>\n      <td>0</td>\n      <td>2</td>\n      <td>1</td>\n    </tr>\n    <tr>\n      <th>...</th>\n      <td>...</td>\n      <td>...</td>\n      <td>...</td>\n      <td>...</td>\n      <td>...</td>\n      <td>...</td>\n      <td>...</td>\n      <td>...</td>\n      <td>...</td>\n      <td>...</td>\n      <td>...</td>\n      <td>...</td>\n      <td>...</td>\n      <td>...</td>\n    </tr>\n    <tr>\n      <th>298</th>\n      <td>57</td>\n      <td>0</td>\n      <td>0</td>\n      <td>140</td>\n      <td>241</td>\n      <td>0</td>\n      <td>1</td>\n      <td>123</td>\n      <td>1</td>\n      <td>0.2</td>\n      <td>1</td>\n      <td>0</td>\n      <td>3</td>\n      <td>0</td>\n    </tr>\n    <tr>\n      <th>299</th>\n      <td>45</td>\n      <td>1</td>\n      <td>3</td>\n      <td>110</td>\n      <td>264</td>\n      <td>0</td>\n      <td>1</td>\n      <td>132</td>\n      <td>0</td>\n      <td>1.2</td>\n      <td>1</td>\n      <td>0</td>\n      <td>3</td>\n      <td>0</td>\n    </tr>\n    <tr>\n      <th>300</th>\n      <td>68</td>\n      <td>1</td>\n      <td>0</td>\n      <td>144</td>\n      <td>193</td>\n      <td>1</td>\n      <td>1</td>\n      <td>141</td>\n      <td>0</td>\n      <td>3.4</td>\n      <td>1</td>\n      <td>2</td>\n      <td>3</td>\n      <td>0</td>\n    </tr>\n    <tr>\n      <th>301</th>\n      <td>57</td>\n      <td>1</td>\n      <td>0</td>\n      <td>130</td>\n      <td>131</td>\n      <td>0</td>\n      <td>1</td>\n      <td>115</td>\n      <td>1</td>\n      <td>1.2</td>\n      <td>1</td>\n      <td>1</td>\n      <td>3</td>\n      <td>0</td>\n    </tr>\n    <tr>\n      <th>302</th>\n      <td>57</td>\n      <td>0</td>\n      <td>1</td>\n      <td>130</td>\n      <td>236</td>\n      <td>0</td>\n      <td>0</td>\n      <td>174</td>\n      <td>0</td>\n      <td>0.0</td>\n      <td>1</td>\n      <td>1</td>\n      <td>2</td>\n      <td>0</td>\n    </tr>\n  </tbody>\n</table>\n<p>303 rows × 14 columns</p>\n</div>"
     },
     "metadata": {}
    }
   ],
   "source": [
    "heart_data = pd.read_csv('heart.csv')\n",
    "heart_data.info()\n",
    "display(heart_data)"
   ]
  },
  {
   "cell_type": "code",
   "execution_count": 174,
   "metadata": {},
   "outputs": [
    {
     "output_type": "stream",
     "name": "stdout",
     "text": [
      "<class 'pandas.core.frame.DataFrame'>\nRangeIndex: 303 entries, 0 to 302\nData columns (total 14 columns):\n #   Column    Non-Null Count  Dtype  \n---  ------    --------------  -----  \n 0   age       303 non-null    int64  \n 1   sex       303 non-null    int64  \n 2   cp        303 non-null    int64  \n 3   trtbps    303 non-null    int64  \n 4   chol      303 non-null    int64  \n 5   fbs       303 non-null    int64  \n 6   restecg   303 non-null    int64  \n 7   thalachh  303 non-null    int64  \n 8   exng      303 non-null    int64  \n 9   oldpeak   303 non-null    float64\n 10  slp       303 non-null    int64  \n 11  caa       303 non-null    int64  \n 12  thall     303 non-null    int64  \n 13  target    303 non-null    int64  \ndtypes: float64(1), int64(13)\nmemory usage: 33.3 KB\n"
     ]
    },
    {
     "output_type": "display_data",
     "data": {
      "text/plain": "     age  sex  cp  trtbps  chol  fbs  restecg  thalachh  exng  oldpeak  slp  \\\n0     63    1   3     145   233    1        0       150     0      2.3    0   \n1     37    1   2     130   250    0        1       187     0      3.5    0   \n2     41    0   1     130   204    0        0       172     0      1.4    2   \n3     56    1   1     120   236    0        1       178     0      0.8    2   \n4     57    0   0     120   354    0        1       163     1      0.6    2   \n..   ...  ...  ..     ...   ...  ...      ...       ...   ...      ...  ...   \n298   57    0   0     140   241    0        1       123     1      0.2    1   \n299   45    1   3     110   264    0        1       132     0      1.2    1   \n300   68    1   0     144   193    1        1       141     0      3.4    1   \n301   57    1   0     130   131    0        1       115     1      1.2    1   \n302   57    0   1     130   236    0        0       174     0      0.0    1   \n\n     caa  thall  target  \n0      0      1       1  \n1      0      2       1  \n2      0      2       1  \n3      0      2       1  \n4      0      2       1  \n..   ...    ...     ...  \n298    0      3       0  \n299    0      3       0  \n300    2      3       0  \n301    1      3       0  \n302    1      2       0  \n\n[303 rows x 14 columns]",
      "text/html": "<div>\n<style scoped>\n    .dataframe tbody tr th:only-of-type {\n        vertical-align: middle;\n    }\n\n    .dataframe tbody tr th {\n        vertical-align: top;\n    }\n\n    .dataframe thead th {\n        text-align: right;\n    }\n</style>\n<table border=\"1\" class=\"dataframe\">\n  <thead>\n    <tr style=\"text-align: right;\">\n      <th></th>\n      <th>age</th>\n      <th>sex</th>\n      <th>cp</th>\n      <th>trtbps</th>\n      <th>chol</th>\n      <th>fbs</th>\n      <th>restecg</th>\n      <th>thalachh</th>\n      <th>exng</th>\n      <th>oldpeak</th>\n      <th>slp</th>\n      <th>caa</th>\n      <th>thall</th>\n      <th>target</th>\n    </tr>\n  </thead>\n  <tbody>\n    <tr>\n      <th>0</th>\n      <td>63</td>\n      <td>1</td>\n      <td>3</td>\n      <td>145</td>\n      <td>233</td>\n      <td>1</td>\n      <td>0</td>\n      <td>150</td>\n      <td>0</td>\n      <td>2.3</td>\n      <td>0</td>\n      <td>0</td>\n      <td>1</td>\n      <td>1</td>\n    </tr>\n    <tr>\n      <th>1</th>\n      <td>37</td>\n      <td>1</td>\n      <td>2</td>\n      <td>130</td>\n      <td>250</td>\n      <td>0</td>\n      <td>1</td>\n      <td>187</td>\n      <td>0</td>\n      <td>3.5</td>\n      <td>0</td>\n      <td>0</td>\n      <td>2</td>\n      <td>1</td>\n    </tr>\n    <tr>\n      <th>2</th>\n      <td>41</td>\n      <td>0</td>\n      <td>1</td>\n      <td>130</td>\n      <td>204</td>\n      <td>0</td>\n      <td>0</td>\n      <td>172</td>\n      <td>0</td>\n      <td>1.4</td>\n      <td>2</td>\n      <td>0</td>\n      <td>2</td>\n      <td>1</td>\n    </tr>\n    <tr>\n      <th>3</th>\n      <td>56</td>\n      <td>1</td>\n      <td>1</td>\n      <td>120</td>\n      <td>236</td>\n      <td>0</td>\n      <td>1</td>\n      <td>178</td>\n      <td>0</td>\n      <td>0.8</td>\n      <td>2</td>\n      <td>0</td>\n      <td>2</td>\n      <td>1</td>\n    </tr>\n    <tr>\n      <th>4</th>\n      <td>57</td>\n      <td>0</td>\n      <td>0</td>\n      <td>120</td>\n      <td>354</td>\n      <td>0</td>\n      <td>1</td>\n      <td>163</td>\n      <td>1</td>\n      <td>0.6</td>\n      <td>2</td>\n      <td>0</td>\n      <td>2</td>\n      <td>1</td>\n    </tr>\n    <tr>\n      <th>...</th>\n      <td>...</td>\n      <td>...</td>\n      <td>...</td>\n      <td>...</td>\n      <td>...</td>\n      <td>...</td>\n      <td>...</td>\n      <td>...</td>\n      <td>...</td>\n      <td>...</td>\n      <td>...</td>\n      <td>...</td>\n      <td>...</td>\n      <td>...</td>\n    </tr>\n    <tr>\n      <th>298</th>\n      <td>57</td>\n      <td>0</td>\n      <td>0</td>\n      <td>140</td>\n      <td>241</td>\n      <td>0</td>\n      <td>1</td>\n      <td>123</td>\n      <td>1</td>\n      <td>0.2</td>\n      <td>1</td>\n      <td>0</td>\n      <td>3</td>\n      <td>0</td>\n    </tr>\n    <tr>\n      <th>299</th>\n      <td>45</td>\n      <td>1</td>\n      <td>3</td>\n      <td>110</td>\n      <td>264</td>\n      <td>0</td>\n      <td>1</td>\n      <td>132</td>\n      <td>0</td>\n      <td>1.2</td>\n      <td>1</td>\n      <td>0</td>\n      <td>3</td>\n      <td>0</td>\n    </tr>\n    <tr>\n      <th>300</th>\n      <td>68</td>\n      <td>1</td>\n      <td>0</td>\n      <td>144</td>\n      <td>193</td>\n      <td>1</td>\n      <td>1</td>\n      <td>141</td>\n      <td>0</td>\n      <td>3.4</td>\n      <td>1</td>\n      <td>2</td>\n      <td>3</td>\n      <td>0</td>\n    </tr>\n    <tr>\n      <th>301</th>\n      <td>57</td>\n      <td>1</td>\n      <td>0</td>\n      <td>130</td>\n      <td>131</td>\n      <td>0</td>\n      <td>1</td>\n      <td>115</td>\n      <td>1</td>\n      <td>1.2</td>\n      <td>1</td>\n      <td>1</td>\n      <td>3</td>\n      <td>0</td>\n    </tr>\n    <tr>\n      <th>302</th>\n      <td>57</td>\n      <td>0</td>\n      <td>1</td>\n      <td>130</td>\n      <td>236</td>\n      <td>0</td>\n      <td>0</td>\n      <td>174</td>\n      <td>0</td>\n      <td>0.0</td>\n      <td>1</td>\n      <td>1</td>\n      <td>2</td>\n      <td>0</td>\n    </tr>\n  </tbody>\n</table>\n<p>303 rows × 14 columns</p>\n</div>"
     },
     "metadata": {}
    }
   ],
   "source": [
    "heart_data.rename(columns = {'output': 'target'}, inplace = True)\n",
    "heart_data.info()\n",
    "display(heart_data)"
   ]
  },
  {
   "cell_type": "code",
   "execution_count": 212,
   "metadata": {
    "tags": []
   },
   "outputs": [],
   "source": [
    "# Create training, validation, and testing datasets\n",
    "X = heart_data.drop(columns = 'target')\n",
    "y = heart_data['target']\n",
    "split_ratios = {\n",
    "    'train': 0.70,\n",
    "    'validation': 0.2,\n",
    "    'test': 0.1\n",
    "}\n",
    "\n",
    "X_train, X_test, y_train, y_test = skms.train_test_split(X, y, train_size = split_ratios['train'])\n",
    "X_val, X_test, y_val, y_test = skms.train_test_split(X_test, y_test, train_size = split_ratios['validation'] / (1 - split_ratios['train']))\n",
    "\n",
    "# Convert dataframe/series into tf datasets\n",
    "\n",
    "# Printing function to look at dataset\n",
    "# for features_tensor, target_tensor in train_dataset:\n",
    "#     print(f'features: {features_tensor} target: {target_tensor}')\n",
    "\n",
    "\n",
    "def dataframe_to_dataset(dataframe, batch_size = 32):\n",
    "    dataframe = dataframe.copy()\n",
    "    targets = dataframe.pop('target')\n",
    "    dataset = tf.data.Dataset.from_tensor_slices((dataframe.values, targets.values)).batch(batch_size)\n",
    "    return dataset\n",
    "\n",
    "# train_dataset = tf.data.Dataset.from_tensor_slices((X_train.values, y_train.values))\n",
    "# val_dataset = tf.data.Dataset.from_tensor_slices((X_val.values, y_val.values))\n",
    "train_dataset = dataframe_to_dataset(X_train.merge(y_train, left_index = True, right_index = True), 10)\n",
    "val_dataset = dataframe_to_dataset(X_val.merge(y_val, left_index = True, right_index = True), 10)\n"
   ]
  },
  {
   "cell_type": "code",
   "execution_count": 238,
   "metadata": {
    "tags": []
   },
   "outputs": [
    {
     "output_type": "stream",
     "name": "stdout",
     "text": [
      "Epoch 1/60\n",
      "22/22 [==============================] - 0s 4ms/step - loss: 2.4614 - accuracy: 0.4340 - val_loss: 1.6108 - val_accuracy: 0.5000\n",
      "Epoch 2/60\n",
      "22/22 [==============================] - 0s 725us/step - loss: 1.1919 - accuracy: 0.4528 - val_loss: 0.9848 - val_accuracy: 0.5833\n",
      "Epoch 3/60\n",
      "22/22 [==============================] - 0s 725us/step - loss: 0.8425 - accuracy: 0.5708 - val_loss: 0.8842 - val_accuracy: 0.6667\n",
      "Epoch 4/60\n",
      "22/22 [==============================] - 0s 680us/step - loss: 0.7406 - accuracy: 0.6226 - val_loss: 0.8515 - val_accuracy: 0.6833\n",
      "Epoch 5/60\n",
      "22/22 [==============================] - 0s 725us/step - loss: 0.6874 - accuracy: 0.6557 - val_loss: 0.8249 - val_accuracy: 0.6833\n",
      "Epoch 6/60\n",
      "22/22 [==============================] - 0s 749us/step - loss: 0.6558 - accuracy: 0.6698 - val_loss: 0.7953 - val_accuracy: 0.7167\n",
      "Epoch 7/60\n",
      "22/22 [==============================] - 0s 771us/step - loss: 0.6324 - accuracy: 0.6934 - val_loss: 0.7573 - val_accuracy: 0.7333\n",
      "Epoch 8/60\n",
      "22/22 [==============================] - 0s 680us/step - loss: 0.6144 - accuracy: 0.6934 - val_loss: 0.7293 - val_accuracy: 0.7500\n",
      "Epoch 9/60\n",
      "22/22 [==============================] - 0s 725us/step - loss: 0.6010 - accuracy: 0.6887 - val_loss: 0.7138 - val_accuracy: 0.7333\n",
      "Epoch 10/60\n",
      "22/22 [==============================] - 0s 826us/step - loss: 0.5896 - accuracy: 0.6934 - val_loss: 0.7077 - val_accuracy: 0.7167\n",
      "Epoch 11/60\n",
      "22/22 [==============================] - 0s 725us/step - loss: 0.5799 - accuracy: 0.6934 - val_loss: 0.7002 - val_accuracy: 0.7333\n",
      "Epoch 12/60\n",
      "22/22 [==============================] - 0s 771us/step - loss: 0.5698 - accuracy: 0.6792 - val_loss: 0.6958 - val_accuracy: 0.7167\n",
      "Epoch 13/60\n",
      "22/22 [==============================] - 0s 725us/step - loss: 0.5616 - accuracy: 0.6840 - val_loss: 0.6775 - val_accuracy: 0.7167\n",
      "Epoch 14/60\n",
      "22/22 [==============================] - 0s 725us/step - loss: 0.5535 - accuracy: 0.6840 - val_loss: 0.6606 - val_accuracy: 0.7333\n",
      "Epoch 15/60\n",
      "22/22 [==============================] - 0s 1ms/step - loss: 0.5467 - accuracy: 0.6840 - val_loss: 0.6592 - val_accuracy: 0.7333\n",
      "Epoch 16/60\n",
      "22/22 [==============================] - 0s 1ms/step - loss: 0.5415 - accuracy: 0.6887 - val_loss: 0.6572 - val_accuracy: 0.7500\n",
      "Epoch 17/60\n",
      "22/22 [==============================] - 0s 865us/step - loss: 0.5355 - accuracy: 0.6934 - val_loss: 0.6527 - val_accuracy: 0.7500\n",
      "Epoch 18/60\n",
      "22/22 [==============================] - 0s 725us/step - loss: 0.5302 - accuracy: 0.6934 - val_loss: 0.6407 - val_accuracy: 0.7500\n",
      "Epoch 19/60\n",
      "22/22 [==============================] - 0s 771us/step - loss: 0.5262 - accuracy: 0.7075 - val_loss: 0.6239 - val_accuracy: 0.7500\n",
      "Epoch 20/60\n",
      "22/22 [==============================] - 0s 725us/step - loss: 0.5212 - accuracy: 0.7123 - val_loss: 0.6236 - val_accuracy: 0.7500\n",
      "Epoch 21/60\n",
      "22/22 [==============================] - 0s 725us/step - loss: 0.5163 - accuracy: 0.7123 - val_loss: 0.6283 - val_accuracy: 0.7500\n",
      "Epoch 22/60\n",
      "22/22 [==============================] - 0s 725us/step - loss: 0.5119 - accuracy: 0.7123 - val_loss: 0.6247 - val_accuracy: 0.7500\n",
      "Epoch 23/60\n",
      "22/22 [==============================] - 0s 753us/step - loss: 0.5078 - accuracy: 0.7170 - val_loss: 0.6168 - val_accuracy: 0.7500\n",
      "Epoch 24/60\n",
      "22/22 [==============================] - 0s 704us/step - loss: 0.5030 - accuracy: 0.7170 - val_loss: 0.6149 - val_accuracy: 0.7500\n",
      "Epoch 25/60\n",
      "22/22 [==============================] - 0s 747us/step - loss: 0.4992 - accuracy: 0.7311 - val_loss: 0.6115 - val_accuracy: 0.7667\n",
      "Epoch 26/60\n",
      "22/22 [==============================] - 0s 771us/step - loss: 0.4948 - accuracy: 0.7358 - val_loss: 0.5978 - val_accuracy: 0.7667\n",
      "Epoch 27/60\n",
      "22/22 [==============================] - 0s 725us/step - loss: 0.4918 - accuracy: 0.7358 - val_loss: 0.5903 - val_accuracy: 0.7667\n",
      "Epoch 28/60\n",
      "22/22 [==============================] - 0s 725us/step - loss: 0.4879 - accuracy: 0.7453 - val_loss: 0.5964 - val_accuracy: 0.7667\n",
      "Epoch 29/60\n",
      "22/22 [==============================] - 0s 725us/step - loss: 0.4837 - accuracy: 0.7500 - val_loss: 0.5974 - val_accuracy: 0.7667\n",
      "Epoch 30/60\n",
      "22/22 [==============================] - 0s 771us/step - loss: 0.4801 - accuracy: 0.7500 - val_loss: 0.5946 - val_accuracy: 0.7500\n",
      "Epoch 31/60\n",
      "22/22 [==============================] - 0s 725us/step - loss: 0.4768 - accuracy: 0.7500 - val_loss: 0.5853 - val_accuracy: 0.7500\n",
      "Epoch 32/60\n",
      "22/22 [==============================] - 0s 771us/step - loss: 0.4732 - accuracy: 0.7453 - val_loss: 0.5850 - val_accuracy: 0.7500\n",
      "Epoch 33/60\n",
      "22/22 [==============================] - 0s 725us/step - loss: 0.4700 - accuracy: 0.7500 - val_loss: 0.5838 - val_accuracy: 0.7500\n",
      "Epoch 34/60\n",
      "22/22 [==============================] - 0s 771us/step - loss: 0.4671 - accuracy: 0.7547 - val_loss: 0.5730 - val_accuracy: 0.7500\n",
      "Epoch 35/60\n",
      "22/22 [==============================] - 0s 725us/step - loss: 0.4638 - accuracy: 0.7642 - val_loss: 0.5647 - val_accuracy: 0.7500\n",
      "Epoch 36/60\n",
      "22/22 [==============================] - 0s 725us/step - loss: 0.4609 - accuracy: 0.7689 - val_loss: 0.5683 - val_accuracy: 0.7667\n",
      "Epoch 37/60\n",
      "22/22 [==============================] - 0s 725us/step - loss: 0.4575 - accuracy: 0.7689 - val_loss: 0.5711 - val_accuracy: 0.7667\n",
      "Epoch 38/60\n",
      "22/22 [==============================] - 0s 725us/step - loss: 0.4558 - accuracy: 0.7689 - val_loss: 0.5712 - val_accuracy: 0.7667\n",
      "Epoch 39/60\n",
      "22/22 [==============================] - 0s 771us/step - loss: 0.4515 - accuracy: 0.7642 - val_loss: 0.5658 - val_accuracy: 0.7833\n",
      "Epoch 40/60\n",
      "22/22 [==============================] - 0s 771us/step - loss: 0.4493 - accuracy: 0.7642 - val_loss: 0.5646 - val_accuracy: 0.7833\n",
      "Epoch 41/60\n",
      "22/22 [==============================] - 0s 771us/step - loss: 0.4464 - accuracy: 0.7642 - val_loss: 0.5577 - val_accuracy: 0.7833\n",
      "Epoch 42/60\n",
      "22/22 [==============================] - 0s 725us/step - loss: 0.4435 - accuracy: 0.7689 - val_loss: 0.5606 - val_accuracy: 0.7833\n",
      "Epoch 43/60\n",
      "22/22 [==============================] - 0s 771us/step - loss: 0.4423 - accuracy: 0.7642 - val_loss: 0.5631 - val_accuracy: 0.7833\n",
      "Epoch 44/60\n",
      "22/22 [==============================] - 0s 771us/step - loss: 0.4387 - accuracy: 0.7642 - val_loss: 0.5530 - val_accuracy: 0.7833\n",
      "Epoch 45/60\n",
      "22/22 [==============================] - 0s 771us/step - loss: 0.4372 - accuracy: 0.7736 - val_loss: 0.5444 - val_accuracy: 0.7833\n",
      "Epoch 46/60\n",
      "22/22 [==============================] - 0s 725us/step - loss: 0.4349 - accuracy: 0.7736 - val_loss: 0.5405 - val_accuracy: 0.7833\n",
      "Epoch 47/60\n",
      "22/22 [==============================] - 0s 726us/step - loss: 0.4325 - accuracy: 0.7736 - val_loss: 0.5466 - val_accuracy: 0.7833\n",
      "Epoch 48/60\n",
      "22/22 [==============================] - 0s 725us/step - loss: 0.4318 - accuracy: 0.7689 - val_loss: 0.5511 - val_accuracy: 0.7833\n",
      "Epoch 49/60\n",
      "22/22 [==============================] - 0s 771us/step - loss: 0.4280 - accuracy: 0.7736 - val_loss: 0.5438 - val_accuracy: 0.7833\n",
      "Epoch 50/60\n",
      "22/22 [==============================] - 0s 725us/step - loss: 0.4276 - accuracy: 0.7689 - val_loss: 0.5473 - val_accuracy: 0.7833\n",
      "Epoch 51/60\n",
      "22/22 [==============================] - 0s 771us/step - loss: 0.4244 - accuracy: 0.7736 - val_loss: 0.5418 - val_accuracy: 0.7833\n",
      "Epoch 52/60\n",
      "22/22 [==============================] - 0s 725us/step - loss: 0.4235 - accuracy: 0.7736 - val_loss: 0.5426 - val_accuracy: 0.8000\n",
      "Epoch 53/60\n",
      "22/22 [==============================] - 0s 725us/step - loss: 0.4210 - accuracy: 0.7689 - val_loss: 0.5369 - val_accuracy: 0.8000\n",
      "Epoch 54/60\n",
      "22/22 [==============================] - 0s 725us/step - loss: 0.4202 - accuracy: 0.7783 - val_loss: 0.5364 - val_accuracy: 0.8000\n",
      "Epoch 55/60\n",
      "22/22 [==============================] - 0s 680us/step - loss: 0.4181 - accuracy: 0.7877 - val_loss: 0.5299 - val_accuracy: 0.8000\n",
      "Epoch 56/60\n",
      "22/22 [==============================] - 0s 725us/step - loss: 0.4166 - accuracy: 0.7830 - val_loss: 0.5338 - val_accuracy: 0.8000\n",
      "Epoch 57/60\n",
      "22/22 [==============================] - 0s 725us/step - loss: 0.4157 - accuracy: 0.7830 - val_loss: 0.5345 - val_accuracy: 0.8167\n",
      "Epoch 58/60\n",
      "22/22 [==============================] - 0s 816us/step - loss: 0.4137 - accuracy: 0.7830 - val_loss: 0.5287 - val_accuracy: 0.8167\n",
      "Epoch 59/60\n",
      "22/22 [==============================] - 0s 771us/step - loss: 0.4124 - accuracy: 0.7830 - val_loss: 0.5297 - val_accuracy: 0.8167\n",
      "Epoch 60/60\n",
      "22/22 [==============================] - 0s 742us/step - loss: 0.4125 - accuracy: 0.7830 - val_loss: 0.5282 - val_accuracy: 0.8167\n"
     ]
    }
   ],
   "source": [
    "def get_compiled_model():\n",
    "    model = tf.keras.Sequential([\n",
    "        tf.keras.Input(shape = (13, )),\n",
    "        tf.keras.layers.Dense(10, activation='relu'),\n",
    "        tf.keras.layers.Dense(10, activation='relu'),\n",
    "        tf.keras.layers.Dense(1)\n",
    "    ])\n",
    "    model.compile(optimizer = 'adam', loss = tf.keras.losses.BinaryCrossentropy(from_logits=True), metrics = ['accuracy'])\n",
    "    return model\n",
    "\n",
    "model = get_compiled_model()\n",
    "history = model.fit(train_dataset, epochs = 60, validation_data = val_dataset)\n"
   ]
  },
  {
   "cell_type": "code",
   "execution_count": 239,
   "metadata": {},
   "outputs": [
    {
     "output_type": "stream",
     "name": "stdout",
     "text": [
      "<tensorflow.python.keras.callbacks.History object at 0x000001DDABB6A520>\n",
      "4/4 [==============================] - 0s 748us/step - loss: 0.4950 - accuracy: 0.7742\n",
      "[0.49502986669540405, 0.774193525314331]\n"
     ]
    }
   ],
   "source": [
    "# Checkout out the history\n",
    "print(history.)\n",
    "\n",
    "# Evaluate the model on our test data\n",
    "test_dataset = dataframe_to_dataset(X_test.merge(y_test, left_index = True, right_index = True), 10)\n",
    "test_results = model.evaluate(test_dataset, verbose = 1)\n",
    "print(test_results)"
   ]
  }
 ]
}