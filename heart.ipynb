{
 "metadata": {
  "language_info": {
   "codemirror_mode": {
    "name": "ipython",
    "version": 3
   },
   "file_extension": ".py",
   "mimetype": "text/x-python",
   "name": "python",
   "nbconvert_exporter": "python",
   "pygments_lexer": "ipython3",
   "version": "3.8.8"
  },
  "orig_nbformat": 2,
  "kernelspec": {
   "name": "python388jvsc74a57bd082e8262cf087a91f1a028f9e216492ce78a585e03708ccd4bc6ff8e50fd7fe13",
   "display_name": "Python 3.8.8 64-bit ('base': conda)"
  }
 },
 "nbformat": 4,
 "nbformat_minor": 2,
 "cells": [
  {
   "source": [
    "### Imports"
   ],
   "cell_type": "markdown",
   "metadata": {}
  },
  {
   "cell_type": "code",
   "execution_count": 15,
   "metadata": {},
   "outputs": [],
   "source": [
    "import pandas as pd\n",
    "import numpy as np\n",
    "\n",
    "from sklearn import model_selection as skms\n",
    "\n",
    "# import plotly.graph_objects as go\n",
    "import plotly.express as px\n",
    "import seaborn as sns\n",
    "import matplotlib.pyplot as plt\n",
    "%matplotlib inline\n"
   ]
  },
  {
   "source": [
    "### Load csv data into pandas dataframe\n",
    "#### We want our actual feature data to drop the output column"
   ],
   "cell_type": "markdown",
   "metadata": {}
  },
  {
   "cell_type": "code",
   "execution_count": 16,
   "metadata": {},
   "outputs": [],
   "source": [
    "heart_data = pd.read_csv('heart.csv')\n",
    "heart_feature = heart_data.drop('output', axis = 1)"
   ]
  },
  {
   "cell_type": "code",
   "execution_count": 17,
   "metadata": {},
   "outputs": [
    {
     "output_type": "execute_result",
     "data": {
      "text/plain": [
       "   age  sex  cp  trtbps  chol  fbs  restecg  thalachh  exng  oldpeak  slp  \\\n",
       "0   63    1   3     145   233    1        0       150     0      2.3    0   \n",
       "1   37    1   2     130   250    0        1       187     0      3.5    0   \n",
       "2   41    0   1     130   204    0        0       172     0      1.4    2   \n",
       "3   56    1   1     120   236    0        1       178     0      0.8    2   \n",
       "4   57    0   0     120   354    0        1       163     1      0.6    2   \n",
       "\n",
       "   caa  thall  output  \n",
       "0    0      1       1  \n",
       "1    0      2       1  \n",
       "2    0      2       1  \n",
       "3    0      2       1  \n",
       "4    0      2       1  "
      ],
      "text/html": "<div>\n<style scoped>\n    .dataframe tbody tr th:only-of-type {\n        vertical-align: middle;\n    }\n\n    .dataframe tbody tr th {\n        vertical-align: top;\n    }\n\n    .dataframe thead th {\n        text-align: right;\n    }\n</style>\n<table border=\"1\" class=\"dataframe\">\n  <thead>\n    <tr style=\"text-align: right;\">\n      <th></th>\n      <th>age</th>\n      <th>sex</th>\n      <th>cp</th>\n      <th>trtbps</th>\n      <th>chol</th>\n      <th>fbs</th>\n      <th>restecg</th>\n      <th>thalachh</th>\n      <th>exng</th>\n      <th>oldpeak</th>\n      <th>slp</th>\n      <th>caa</th>\n      <th>thall</th>\n      <th>output</th>\n    </tr>\n  </thead>\n  <tbody>\n    <tr>\n      <th>0</th>\n      <td>63</td>\n      <td>1</td>\n      <td>3</td>\n      <td>145</td>\n      <td>233</td>\n      <td>1</td>\n      <td>0</td>\n      <td>150</td>\n      <td>0</td>\n      <td>2.3</td>\n      <td>0</td>\n      <td>0</td>\n      <td>1</td>\n      <td>1</td>\n    </tr>\n    <tr>\n      <th>1</th>\n      <td>37</td>\n      <td>1</td>\n      <td>2</td>\n      <td>130</td>\n      <td>250</td>\n      <td>0</td>\n      <td>1</td>\n      <td>187</td>\n      <td>0</td>\n      <td>3.5</td>\n      <td>0</td>\n      <td>0</td>\n      <td>2</td>\n      <td>1</td>\n    </tr>\n    <tr>\n      <th>2</th>\n      <td>41</td>\n      <td>0</td>\n      <td>1</td>\n      <td>130</td>\n      <td>204</td>\n      <td>0</td>\n      <td>0</td>\n      <td>172</td>\n      <td>0</td>\n      <td>1.4</td>\n      <td>2</td>\n      <td>0</td>\n      <td>2</td>\n      <td>1</td>\n    </tr>\n    <tr>\n      <th>3</th>\n      <td>56</td>\n      <td>1</td>\n      <td>1</td>\n      <td>120</td>\n      <td>236</td>\n      <td>0</td>\n      <td>1</td>\n      <td>178</td>\n      <td>0</td>\n      <td>0.8</td>\n      <td>2</td>\n      <td>0</td>\n      <td>2</td>\n      <td>1</td>\n    </tr>\n    <tr>\n      <th>4</th>\n      <td>57</td>\n      <td>0</td>\n      <td>0</td>\n      <td>120</td>\n      <td>354</td>\n      <td>0</td>\n      <td>1</td>\n      <td>163</td>\n      <td>1</td>\n      <td>0.6</td>\n      <td>2</td>\n      <td>0</td>\n      <td>2</td>\n      <td>1</td>\n    </tr>\n  </tbody>\n</table>\n</div>"
     },
     "metadata": {},
     "execution_count": 17
    }
   ],
   "source": [
    "heart_data.head()"
   ]
  },
  {
   "cell_type": "code",
   "execution_count": 18,
   "metadata": {},
   "outputs": [
    {
     "output_type": "execute_result",
     "data": {
      "text/plain": [
       "   age  sex  cp  trtbps  chol  fbs  restecg  thalachh  exng  oldpeak  slp  \\\n",
       "0   63    1   3     145   233    1        0       150     0      2.3    0   \n",
       "1   37    1   2     130   250    0        1       187     0      3.5    0   \n",
       "2   41    0   1     130   204    0        0       172     0      1.4    2   \n",
       "3   56    1   1     120   236    0        1       178     0      0.8    2   \n",
       "4   57    0   0     120   354    0        1       163     1      0.6    2   \n",
       "\n",
       "   caa  thall  \n",
       "0    0      1  \n",
       "1    0      2  \n",
       "2    0      2  \n",
       "3    0      2  \n",
       "4    0      2  "
      ],
      "text/html": "<div>\n<style scoped>\n    .dataframe tbody tr th:only-of-type {\n        vertical-align: middle;\n    }\n\n    .dataframe tbody tr th {\n        vertical-align: top;\n    }\n\n    .dataframe thead th {\n        text-align: right;\n    }\n</style>\n<table border=\"1\" class=\"dataframe\">\n  <thead>\n    <tr style=\"text-align: right;\">\n      <th></th>\n      <th>age</th>\n      <th>sex</th>\n      <th>cp</th>\n      <th>trtbps</th>\n      <th>chol</th>\n      <th>fbs</th>\n      <th>restecg</th>\n      <th>thalachh</th>\n      <th>exng</th>\n      <th>oldpeak</th>\n      <th>slp</th>\n      <th>caa</th>\n      <th>thall</th>\n    </tr>\n  </thead>\n  <tbody>\n    <tr>\n      <th>0</th>\n      <td>63</td>\n      <td>1</td>\n      <td>3</td>\n      <td>145</td>\n      <td>233</td>\n      <td>1</td>\n      <td>0</td>\n      <td>150</td>\n      <td>0</td>\n      <td>2.3</td>\n      <td>0</td>\n      <td>0</td>\n      <td>1</td>\n    </tr>\n    <tr>\n      <th>1</th>\n      <td>37</td>\n      <td>1</td>\n      <td>2</td>\n      <td>130</td>\n      <td>250</td>\n      <td>0</td>\n      <td>1</td>\n      <td>187</td>\n      <td>0</td>\n      <td>3.5</td>\n      <td>0</td>\n      <td>0</td>\n      <td>2</td>\n    </tr>\n    <tr>\n      <th>2</th>\n      <td>41</td>\n      <td>0</td>\n      <td>1</td>\n      <td>130</td>\n      <td>204</td>\n      <td>0</td>\n      <td>0</td>\n      <td>172</td>\n      <td>0</td>\n      <td>1.4</td>\n      <td>2</td>\n      <td>0</td>\n      <td>2</td>\n    </tr>\n    <tr>\n      <th>3</th>\n      <td>56</td>\n      <td>1</td>\n      <td>1</td>\n      <td>120</td>\n      <td>236</td>\n      <td>0</td>\n      <td>1</td>\n      <td>178</td>\n      <td>0</td>\n      <td>0.8</td>\n      <td>2</td>\n      <td>0</td>\n      <td>2</td>\n    </tr>\n    <tr>\n      <th>4</th>\n      <td>57</td>\n      <td>0</td>\n      <td>0</td>\n      <td>120</td>\n      <td>354</td>\n      <td>0</td>\n      <td>1</td>\n      <td>163</td>\n      <td>1</td>\n      <td>0.6</td>\n      <td>2</td>\n      <td>0</td>\n      <td>2</td>\n    </tr>\n  </tbody>\n</table>\n</div>"
     },
     "metadata": {},
     "execution_count": 18
    }
   ],
   "source": [
    "heart_feature.head()"
   ]
  },
  {
   "source": [
    "### Retrieve correlation between columns"
   ],
   "cell_type": "markdown",
   "metadata": {}
  },
  {
   "cell_type": "code",
   "execution_count": 19,
   "metadata": {},
   "outputs": [
    {
     "output_type": "execute_result",
     "data": {
      "text/plain": [
       "               age       sex        cp    trtbps      chol       fbs  \\\n",
       "age       1.000000 -0.098447 -0.068653  0.279351  0.213678  0.121308   \n",
       "sex      -0.098447  1.000000 -0.049353 -0.056769 -0.197912  0.045032   \n",
       "cp       -0.068653 -0.049353  1.000000  0.047608 -0.076904  0.094444   \n",
       "trtbps    0.279351 -0.056769  0.047608  1.000000  0.123174  0.177531   \n",
       "chol      0.213678 -0.197912 -0.076904  0.123174  1.000000  0.013294   \n",
       "fbs       0.121308  0.045032  0.094444  0.177531  0.013294  1.000000   \n",
       "restecg  -0.116211 -0.058196  0.044421 -0.114103 -0.151040 -0.084189   \n",
       "thalachh -0.398522 -0.044020  0.295762 -0.046698 -0.009940 -0.008567   \n",
       "exng      0.096801  0.141664 -0.394280  0.067616  0.067023  0.025665   \n",
       "oldpeak   0.210013  0.096093 -0.149230  0.193216  0.053952  0.005747   \n",
       "slp      -0.168814 -0.030711  0.119717 -0.121475 -0.004038 -0.059894   \n",
       "caa       0.276326  0.118261 -0.181053  0.101389  0.070511  0.137979   \n",
       "thall     0.068001  0.210041 -0.161736  0.062210  0.098803 -0.032019   \n",
       "output   -0.225439 -0.280937  0.433798 -0.144931 -0.085239 -0.028046   \n",
       "\n",
       "           restecg  thalachh      exng   oldpeak       slp       caa  \\\n",
       "age      -0.116211 -0.398522  0.096801  0.210013 -0.168814  0.276326   \n",
       "sex      -0.058196 -0.044020  0.141664  0.096093 -0.030711  0.118261   \n",
       "cp        0.044421  0.295762 -0.394280 -0.149230  0.119717 -0.181053   \n",
       "trtbps   -0.114103 -0.046698  0.067616  0.193216 -0.121475  0.101389   \n",
       "chol     -0.151040 -0.009940  0.067023  0.053952 -0.004038  0.070511   \n",
       "fbs      -0.084189 -0.008567  0.025665  0.005747 -0.059894  0.137979   \n",
       "restecg   1.000000  0.044123 -0.070733 -0.058770  0.093045 -0.072042   \n",
       "thalachh  0.044123  1.000000 -0.378812 -0.344187  0.386784 -0.213177   \n",
       "exng     -0.070733 -0.378812  1.000000  0.288223 -0.257748  0.115739   \n",
       "oldpeak  -0.058770 -0.344187  0.288223  1.000000 -0.577537  0.222682   \n",
       "slp       0.093045  0.386784 -0.257748 -0.577537  1.000000 -0.080155   \n",
       "caa      -0.072042 -0.213177  0.115739  0.222682 -0.080155  1.000000   \n",
       "thall    -0.011981 -0.096439  0.206754  0.210244 -0.104764  0.151832   \n",
       "output    0.137230  0.421741 -0.436757 -0.430696  0.345877 -0.391724   \n",
       "\n",
       "             thall    output  \n",
       "age       0.068001 -0.225439  \n",
       "sex       0.210041 -0.280937  \n",
       "cp       -0.161736  0.433798  \n",
       "trtbps    0.062210 -0.144931  \n",
       "chol      0.098803 -0.085239  \n",
       "fbs      -0.032019 -0.028046  \n",
       "restecg  -0.011981  0.137230  \n",
       "thalachh -0.096439  0.421741  \n",
       "exng      0.206754 -0.436757  \n",
       "oldpeak   0.210244 -0.430696  \n",
       "slp      -0.104764  0.345877  \n",
       "caa       0.151832 -0.391724  \n",
       "thall     1.000000 -0.344029  \n",
       "output   -0.344029  1.000000  "
      ],
      "text/html": "<div>\n<style scoped>\n    .dataframe tbody tr th:only-of-type {\n        vertical-align: middle;\n    }\n\n    .dataframe tbody tr th {\n        vertical-align: top;\n    }\n\n    .dataframe thead th {\n        text-align: right;\n    }\n</style>\n<table border=\"1\" class=\"dataframe\">\n  <thead>\n    <tr style=\"text-align: right;\">\n      <th></th>\n      <th>age</th>\n      <th>sex</th>\n      <th>cp</th>\n      <th>trtbps</th>\n      <th>chol</th>\n      <th>fbs</th>\n      <th>restecg</th>\n      <th>thalachh</th>\n      <th>exng</th>\n      <th>oldpeak</th>\n      <th>slp</th>\n      <th>caa</th>\n      <th>thall</th>\n      <th>output</th>\n    </tr>\n  </thead>\n  <tbody>\n    <tr>\n      <th>age</th>\n      <td>1.000000</td>\n      <td>-0.098447</td>\n      <td>-0.068653</td>\n      <td>0.279351</td>\n      <td>0.213678</td>\n      <td>0.121308</td>\n      <td>-0.116211</td>\n      <td>-0.398522</td>\n      <td>0.096801</td>\n      <td>0.210013</td>\n      <td>-0.168814</td>\n      <td>0.276326</td>\n      <td>0.068001</td>\n      <td>-0.225439</td>\n    </tr>\n    <tr>\n      <th>sex</th>\n      <td>-0.098447</td>\n      <td>1.000000</td>\n      <td>-0.049353</td>\n      <td>-0.056769</td>\n      <td>-0.197912</td>\n      <td>0.045032</td>\n      <td>-0.058196</td>\n      <td>-0.044020</td>\n      <td>0.141664</td>\n      <td>0.096093</td>\n      <td>-0.030711</td>\n      <td>0.118261</td>\n      <td>0.210041</td>\n      <td>-0.280937</td>\n    </tr>\n    <tr>\n      <th>cp</th>\n      <td>-0.068653</td>\n      <td>-0.049353</td>\n      <td>1.000000</td>\n      <td>0.047608</td>\n      <td>-0.076904</td>\n      <td>0.094444</td>\n      <td>0.044421</td>\n      <td>0.295762</td>\n      <td>-0.394280</td>\n      <td>-0.149230</td>\n      <td>0.119717</td>\n      <td>-0.181053</td>\n      <td>-0.161736</td>\n      <td>0.433798</td>\n    </tr>\n    <tr>\n      <th>trtbps</th>\n      <td>0.279351</td>\n      <td>-0.056769</td>\n      <td>0.047608</td>\n      <td>1.000000</td>\n      <td>0.123174</td>\n      <td>0.177531</td>\n      <td>-0.114103</td>\n      <td>-0.046698</td>\n      <td>0.067616</td>\n      <td>0.193216</td>\n      <td>-0.121475</td>\n      <td>0.101389</td>\n      <td>0.062210</td>\n      <td>-0.144931</td>\n    </tr>\n    <tr>\n      <th>chol</th>\n      <td>0.213678</td>\n      <td>-0.197912</td>\n      <td>-0.076904</td>\n      <td>0.123174</td>\n      <td>1.000000</td>\n      <td>0.013294</td>\n      <td>-0.151040</td>\n      <td>-0.009940</td>\n      <td>0.067023</td>\n      <td>0.053952</td>\n      <td>-0.004038</td>\n      <td>0.070511</td>\n      <td>0.098803</td>\n      <td>-0.085239</td>\n    </tr>\n    <tr>\n      <th>fbs</th>\n      <td>0.121308</td>\n      <td>0.045032</td>\n      <td>0.094444</td>\n      <td>0.177531</td>\n      <td>0.013294</td>\n      <td>1.000000</td>\n      <td>-0.084189</td>\n      <td>-0.008567</td>\n      <td>0.025665</td>\n      <td>0.005747</td>\n      <td>-0.059894</td>\n      <td>0.137979</td>\n      <td>-0.032019</td>\n      <td>-0.028046</td>\n    </tr>\n    <tr>\n      <th>restecg</th>\n      <td>-0.116211</td>\n      <td>-0.058196</td>\n      <td>0.044421</td>\n      <td>-0.114103</td>\n      <td>-0.151040</td>\n      <td>-0.084189</td>\n      <td>1.000000</td>\n      <td>0.044123</td>\n      <td>-0.070733</td>\n      <td>-0.058770</td>\n      <td>0.093045</td>\n      <td>-0.072042</td>\n      <td>-0.011981</td>\n      <td>0.137230</td>\n    </tr>\n    <tr>\n      <th>thalachh</th>\n      <td>-0.398522</td>\n      <td>-0.044020</td>\n      <td>0.295762</td>\n      <td>-0.046698</td>\n      <td>-0.009940</td>\n      <td>-0.008567</td>\n      <td>0.044123</td>\n      <td>1.000000</td>\n      <td>-0.378812</td>\n      <td>-0.344187</td>\n      <td>0.386784</td>\n      <td>-0.213177</td>\n      <td>-0.096439</td>\n      <td>0.421741</td>\n    </tr>\n    <tr>\n      <th>exng</th>\n      <td>0.096801</td>\n      <td>0.141664</td>\n      <td>-0.394280</td>\n      <td>0.067616</td>\n      <td>0.067023</td>\n      <td>0.025665</td>\n      <td>-0.070733</td>\n      <td>-0.378812</td>\n      <td>1.000000</td>\n      <td>0.288223</td>\n      <td>-0.257748</td>\n      <td>0.115739</td>\n      <td>0.206754</td>\n      <td>-0.436757</td>\n    </tr>\n    <tr>\n      <th>oldpeak</th>\n      <td>0.210013</td>\n      <td>0.096093</td>\n      <td>-0.149230</td>\n      <td>0.193216</td>\n      <td>0.053952</td>\n      <td>0.005747</td>\n      <td>-0.058770</td>\n      <td>-0.344187</td>\n      <td>0.288223</td>\n      <td>1.000000</td>\n      <td>-0.577537</td>\n      <td>0.222682</td>\n      <td>0.210244</td>\n      <td>-0.430696</td>\n    </tr>\n    <tr>\n      <th>slp</th>\n      <td>-0.168814</td>\n      <td>-0.030711</td>\n      <td>0.119717</td>\n      <td>-0.121475</td>\n      <td>-0.004038</td>\n      <td>-0.059894</td>\n      <td>0.093045</td>\n      <td>0.386784</td>\n      <td>-0.257748</td>\n      <td>-0.577537</td>\n      <td>1.000000</td>\n      <td>-0.080155</td>\n      <td>-0.104764</td>\n      <td>0.345877</td>\n    </tr>\n    <tr>\n      <th>caa</th>\n      <td>0.276326</td>\n      <td>0.118261</td>\n      <td>-0.181053</td>\n      <td>0.101389</td>\n      <td>0.070511</td>\n      <td>0.137979</td>\n      <td>-0.072042</td>\n      <td>-0.213177</td>\n      <td>0.115739</td>\n      <td>0.222682</td>\n      <td>-0.080155</td>\n      <td>1.000000</td>\n      <td>0.151832</td>\n      <td>-0.391724</td>\n    </tr>\n    <tr>\n      <th>thall</th>\n      <td>0.068001</td>\n      <td>0.210041</td>\n      <td>-0.161736</td>\n      <td>0.062210</td>\n      <td>0.098803</td>\n      <td>-0.032019</td>\n      <td>-0.011981</td>\n      <td>-0.096439</td>\n      <td>0.206754</td>\n      <td>0.210244</td>\n      <td>-0.104764</td>\n      <td>0.151832</td>\n      <td>1.000000</td>\n      <td>-0.344029</td>\n    </tr>\n    <tr>\n      <th>output</th>\n      <td>-0.225439</td>\n      <td>-0.280937</td>\n      <td>0.433798</td>\n      <td>-0.144931</td>\n      <td>-0.085239</td>\n      <td>-0.028046</td>\n      <td>0.137230</td>\n      <td>0.421741</td>\n      <td>-0.436757</td>\n      <td>-0.430696</td>\n      <td>0.345877</td>\n      <td>-0.391724</td>\n      <td>-0.344029</td>\n      <td>1.000000</td>\n    </tr>\n  </tbody>\n</table>\n</div>"
     },
     "metadata": {},
     "execution_count": 19
    }
   ],
   "source": [
    "heart_data.corr(method = 'pearson')"
   ]
  },
  {
   "source": [
    "### Since it's hard to understand what some of these features are, we add descriptions to each feature\n",
    "1. age - age in years\n",
    "\n",
    "2. sex - sex (1 = male; 0 = female)\n",
    "\n",
    "3. cp - chest pain type (1 = typical angina; 2 = atypical angina; 3 = non-anginal pain; 0 = asymptomatic)\n",
    "\n",
    "4. trestbps - resting blood pressure (in mm Hg on admission to the hospital)\n",
    "\n",
    "5. chol - serum cholestoral in mg/dl\n",
    "\n",
    "6. fbs - fasting blood sugar > 120 mg/dl (1 = true; 0 = false)\n",
    "\n",
    "7. restecg - resting electrocardiographic results (1 = normal; 2 = having ST-T wave abnormality; 0 = hypertrophy)\n",
    "\n",
    "8. thalach - maximum heart rate achieved\n",
    "\n",
    "9. exang - exercise induced angina (1 = yes; 0 = no)\n",
    "\n",
    "10. oldpeak - ST depression induced by exercise relative to rest\n",
    "\n",
    "11. slope - the slope of the peak exercise ST segment (2 = upsloping; 1 = flat; 0 = downsloping)\n",
    "\n",
    "12. ca - number of major vessels (0-3) colored by flourosopy\n",
    "\n",
    "13. thal - 2 = normal; 1 = fixed defect; 3 = reversable defect\n",
    "\n",
    "14. num - the predicted attribute - diagnosis of heart disease (angiographic disease status) (Value 0 = < diameter narrowing; Value 1 = > 50% diameter narrowing) "
   ],
   "cell_type": "markdown",
   "metadata": {}
  },
  {
   "source": [
    "### Perform a description of the data"
   ],
   "cell_type": "markdown",
   "metadata": {}
  },
  {
   "cell_type": "code",
   "execution_count": 20,
   "metadata": {},
   "outputs": [
    {
     "output_type": "execute_result",
     "data": {
      "text/plain": [
       "              age         sex          cp      trtbps        chol         fbs  \\\n",
       "count  303.000000  303.000000  303.000000  303.000000  303.000000  303.000000   \n",
       "mean    54.366337    0.683168    0.966997  131.623762  246.264026    0.148515   \n",
       "std      9.082101    0.466011    1.032052   17.538143   51.830751    0.356198   \n",
       "min     29.000000    0.000000    0.000000   94.000000  126.000000    0.000000   \n",
       "25%     47.500000    0.000000    0.000000  120.000000  211.000000    0.000000   \n",
       "50%     55.000000    1.000000    1.000000  130.000000  240.000000    0.000000   \n",
       "75%     61.000000    1.000000    2.000000  140.000000  274.500000    0.000000   \n",
       "max     77.000000    1.000000    3.000000  200.000000  564.000000    1.000000   \n",
       "\n",
       "          restecg    thalachh        exng     oldpeak         slp         caa  \\\n",
       "count  303.000000  303.000000  303.000000  303.000000  303.000000  303.000000   \n",
       "mean     0.528053  149.646865    0.326733    1.039604    1.399340    0.729373   \n",
       "std      0.525860   22.905161    0.469794    1.161075    0.616226    1.022606   \n",
       "min      0.000000   71.000000    0.000000    0.000000    0.000000    0.000000   \n",
       "25%      0.000000  133.500000    0.000000    0.000000    1.000000    0.000000   \n",
       "50%      1.000000  153.000000    0.000000    0.800000    1.000000    0.000000   \n",
       "75%      1.000000  166.000000    1.000000    1.600000    2.000000    1.000000   \n",
       "max      2.000000  202.000000    1.000000    6.200000    2.000000    4.000000   \n",
       "\n",
       "            thall      output  \n",
       "count  303.000000  303.000000  \n",
       "mean     2.313531    0.544554  \n",
       "std      0.612277    0.498835  \n",
       "min      0.000000    0.000000  \n",
       "25%      2.000000    0.000000  \n",
       "50%      2.000000    1.000000  \n",
       "75%      3.000000    1.000000  \n",
       "max      3.000000    1.000000  "
      ],
      "text/html": "<div>\n<style scoped>\n    .dataframe tbody tr th:only-of-type {\n        vertical-align: middle;\n    }\n\n    .dataframe tbody tr th {\n        vertical-align: top;\n    }\n\n    .dataframe thead th {\n        text-align: right;\n    }\n</style>\n<table border=\"1\" class=\"dataframe\">\n  <thead>\n    <tr style=\"text-align: right;\">\n      <th></th>\n      <th>age</th>\n      <th>sex</th>\n      <th>cp</th>\n      <th>trtbps</th>\n      <th>chol</th>\n      <th>fbs</th>\n      <th>restecg</th>\n      <th>thalachh</th>\n      <th>exng</th>\n      <th>oldpeak</th>\n      <th>slp</th>\n      <th>caa</th>\n      <th>thall</th>\n      <th>output</th>\n    </tr>\n  </thead>\n  <tbody>\n    <tr>\n      <th>count</th>\n      <td>303.000000</td>\n      <td>303.000000</td>\n      <td>303.000000</td>\n      <td>303.000000</td>\n      <td>303.000000</td>\n      <td>303.000000</td>\n      <td>303.000000</td>\n      <td>303.000000</td>\n      <td>303.000000</td>\n      <td>303.000000</td>\n      <td>303.000000</td>\n      <td>303.000000</td>\n      <td>303.000000</td>\n      <td>303.000000</td>\n    </tr>\n    <tr>\n      <th>mean</th>\n      <td>54.366337</td>\n      <td>0.683168</td>\n      <td>0.966997</td>\n      <td>131.623762</td>\n      <td>246.264026</td>\n      <td>0.148515</td>\n      <td>0.528053</td>\n      <td>149.646865</td>\n      <td>0.326733</td>\n      <td>1.039604</td>\n      <td>1.399340</td>\n      <td>0.729373</td>\n      <td>2.313531</td>\n      <td>0.544554</td>\n    </tr>\n    <tr>\n      <th>std</th>\n      <td>9.082101</td>\n      <td>0.466011</td>\n      <td>1.032052</td>\n      <td>17.538143</td>\n      <td>51.830751</td>\n      <td>0.356198</td>\n      <td>0.525860</td>\n      <td>22.905161</td>\n      <td>0.469794</td>\n      <td>1.161075</td>\n      <td>0.616226</td>\n      <td>1.022606</td>\n      <td>0.612277</td>\n      <td>0.498835</td>\n    </tr>\n    <tr>\n      <th>min</th>\n      <td>29.000000</td>\n      <td>0.000000</td>\n      <td>0.000000</td>\n      <td>94.000000</td>\n      <td>126.000000</td>\n      <td>0.000000</td>\n      <td>0.000000</td>\n      <td>71.000000</td>\n      <td>0.000000</td>\n      <td>0.000000</td>\n      <td>0.000000</td>\n      <td>0.000000</td>\n      <td>0.000000</td>\n      <td>0.000000</td>\n    </tr>\n    <tr>\n      <th>25%</th>\n      <td>47.500000</td>\n      <td>0.000000</td>\n      <td>0.000000</td>\n      <td>120.000000</td>\n      <td>211.000000</td>\n      <td>0.000000</td>\n      <td>0.000000</td>\n      <td>133.500000</td>\n      <td>0.000000</td>\n      <td>0.000000</td>\n      <td>1.000000</td>\n      <td>0.000000</td>\n      <td>2.000000</td>\n      <td>0.000000</td>\n    </tr>\n    <tr>\n      <th>50%</th>\n      <td>55.000000</td>\n      <td>1.000000</td>\n      <td>1.000000</td>\n      <td>130.000000</td>\n      <td>240.000000</td>\n      <td>0.000000</td>\n      <td>1.000000</td>\n      <td>153.000000</td>\n      <td>0.000000</td>\n      <td>0.800000</td>\n      <td>1.000000</td>\n      <td>0.000000</td>\n      <td>2.000000</td>\n      <td>1.000000</td>\n    </tr>\n    <tr>\n      <th>75%</th>\n      <td>61.000000</td>\n      <td>1.000000</td>\n      <td>2.000000</td>\n      <td>140.000000</td>\n      <td>274.500000</td>\n      <td>0.000000</td>\n      <td>1.000000</td>\n      <td>166.000000</td>\n      <td>1.000000</td>\n      <td>1.600000</td>\n      <td>2.000000</td>\n      <td>1.000000</td>\n      <td>3.000000</td>\n      <td>1.000000</td>\n    </tr>\n    <tr>\n      <th>max</th>\n      <td>77.000000</td>\n      <td>1.000000</td>\n      <td>3.000000</td>\n      <td>200.000000</td>\n      <td>564.000000</td>\n      <td>1.000000</td>\n      <td>2.000000</td>\n      <td>202.000000</td>\n      <td>1.000000</td>\n      <td>6.200000</td>\n      <td>2.000000</td>\n      <td>4.000000</td>\n      <td>3.000000</td>\n      <td>1.000000</td>\n    </tr>\n  </tbody>\n</table>\n</div>"
     },
     "metadata": {},
     "execution_count": 20
    }
   ],
   "source": [
    "heart_data.describe()"
   ]
  },
  {
   "cell_type": "code",
   "execution_count": 21,
   "metadata": {},
   "outputs": [
    {
     "output_type": "stream",
     "name": "stdout",
     "text": [
      "<class 'pandas.core.frame.DataFrame'>\nRangeIndex: 303 entries, 0 to 302\nData columns (total 14 columns):\n #   Column    Non-Null Count  Dtype  \n---  ------    --------------  -----  \n 0   age       303 non-null    int64  \n 1   sex       303 non-null    int64  \n 2   cp        303 non-null    int64  \n 3   trtbps    303 non-null    int64  \n 4   chol      303 non-null    int64  \n 5   fbs       303 non-null    int64  \n 6   restecg   303 non-null    int64  \n 7   thalachh  303 non-null    int64  \n 8   exng      303 non-null    int64  \n 9   oldpeak   303 non-null    float64\n 10  slp       303 non-null    int64  \n 11  caa       303 non-null    int64  \n 12  thall     303 non-null    int64  \n 13  output    303 non-null    int64  \ndtypes: float64(1), int64(13)\nmemory usage: 33.3 KB\n"
     ]
    }
   ],
   "source": [
    "heart_data.info()"
   ]
  },
  {
   "source": [
    "### The data looks clean (no nulls and no object as the dtype)\n",
    "So we plot the outputs"
   ],
   "cell_type": "markdown",
   "metadata": {}
  },
  {
   "cell_type": "code",
   "execution_count": 22,
   "metadata": {},
   "outputs": [
    {
     "output_type": "display_data",
     "data": {
      "application/vnd.plotly.v1+json": {
       "config": {
        "plotlyServerURL": "https://plot.ly"
       },
       "data": [
        {
         "alignmentgroup": "True",
         "bingroup": "x",
         "hovertemplate": "output=%{x}<br>count=%{y}<extra></extra>",
         "legendgroup": "1",
         "marker": {
          "color": "#636efa"
         },
         "name": "1",
         "offsetgroup": "1",
         "orientation": "v",
         "showlegend": true,
         "type": "histogram",
         "x": [
          1,
          1,
          1,
          1,
          1,
          1,
          1,
          1,
          1,
          1,
          1,
          1,
          1,
          1,
          1,
          1,
          1,
          1,
          1,
          1,
          1,
          1,
          1,
          1,
          1,
          1,
          1,
          1,
          1,
          1,
          1,
          1,
          1,
          1,
          1,
          1,
          1,
          1,
          1,
          1,
          1,
          1,
          1,
          1,
          1,
          1,
          1,
          1,
          1,
          1,
          1,
          1,
          1,
          1,
          1,
          1,
          1,
          1,
          1,
          1,
          1,
          1,
          1,
          1,
          1,
          1,
          1,
          1,
          1,
          1,
          1,
          1,
          1,
          1,
          1,
          1,
          1,
          1,
          1,
          1,
          1,
          1,
          1,
          1,
          1,
          1,
          1,
          1,
          1,
          1,
          1,
          1,
          1,
          1,
          1,
          1,
          1,
          1,
          1,
          1,
          1,
          1,
          1,
          1,
          1,
          1,
          1,
          1,
          1,
          1,
          1,
          1,
          1,
          1,
          1,
          1,
          1,
          1,
          1,
          1,
          1,
          1,
          1,
          1,
          1,
          1,
          1,
          1,
          1,
          1,
          1,
          1,
          1,
          1,
          1,
          1,
          1,
          1,
          1,
          1,
          1,
          1,
          1,
          1,
          1,
          1,
          1,
          1,
          1,
          1,
          1,
          1,
          1,
          1,
          1,
          1,
          1,
          1,
          1,
          1,
          1,
          1,
          1,
          1,
          1
         ],
         "xaxis": "x",
         "yaxis": "y"
        },
        {
         "alignmentgroup": "True",
         "bingroup": "x",
         "hovertemplate": "output=%{x}<br>count=%{y}<extra></extra>",
         "legendgroup": "0",
         "marker": {
          "color": "#EF553B"
         },
         "name": "0",
         "offsetgroup": "0",
         "orientation": "v",
         "showlegend": true,
         "type": "histogram",
         "x": [
          0,
          0,
          0,
          0,
          0,
          0,
          0,
          0,
          0,
          0,
          0,
          0,
          0,
          0,
          0,
          0,
          0,
          0,
          0,
          0,
          0,
          0,
          0,
          0,
          0,
          0,
          0,
          0,
          0,
          0,
          0,
          0,
          0,
          0,
          0,
          0,
          0,
          0,
          0,
          0,
          0,
          0,
          0,
          0,
          0,
          0,
          0,
          0,
          0,
          0,
          0,
          0,
          0,
          0,
          0,
          0,
          0,
          0,
          0,
          0,
          0,
          0,
          0,
          0,
          0,
          0,
          0,
          0,
          0,
          0,
          0,
          0,
          0,
          0,
          0,
          0,
          0,
          0,
          0,
          0,
          0,
          0,
          0,
          0,
          0,
          0,
          0,
          0,
          0,
          0,
          0,
          0,
          0,
          0,
          0,
          0,
          0,
          0,
          0,
          0,
          0,
          0,
          0,
          0,
          0,
          0,
          0,
          0,
          0,
          0,
          0,
          0,
          0,
          0,
          0,
          0,
          0,
          0,
          0,
          0,
          0,
          0,
          0,
          0,
          0,
          0,
          0,
          0,
          0,
          0,
          0,
          0,
          0,
          0,
          0,
          0,
          0,
          0
         ],
         "xaxis": "x",
         "yaxis": "y"
        }
       ],
       "layout": {
        "barmode": "relative",
        "legend": {
         "title": {
          "text": "output"
         },
         "tracegroupgap": 0
        },
        "margin": {
         "t": 60
        },
        "template": {
         "data": {
          "bar": [
           {
            "error_x": {
             "color": "#f2f5fa"
            },
            "error_y": {
             "color": "#f2f5fa"
            },
            "marker": {
             "line": {
              "color": "rgb(17,17,17)",
              "width": 0.5
             }
            },
            "type": "bar"
           }
          ],
          "barpolar": [
           {
            "marker": {
             "line": {
              "color": "rgb(17,17,17)",
              "width": 0.5
             }
            },
            "type": "barpolar"
           }
          ],
          "carpet": [
           {
            "aaxis": {
             "endlinecolor": "#A2B1C6",
             "gridcolor": "#506784",
             "linecolor": "#506784",
             "minorgridcolor": "#506784",
             "startlinecolor": "#A2B1C6"
            },
            "baxis": {
             "endlinecolor": "#A2B1C6",
             "gridcolor": "#506784",
             "linecolor": "#506784",
             "minorgridcolor": "#506784",
             "startlinecolor": "#A2B1C6"
            },
            "type": "carpet"
           }
          ],
          "choropleth": [
           {
            "colorbar": {
             "outlinewidth": 0,
             "ticks": ""
            },
            "type": "choropleth"
           }
          ],
          "contour": [
           {
            "colorbar": {
             "outlinewidth": 0,
             "ticks": ""
            },
            "colorscale": [
             [
              0,
              "#0d0887"
             ],
             [
              0.1111111111111111,
              "#46039f"
             ],
             [
              0.2222222222222222,
              "#7201a8"
             ],
             [
              0.3333333333333333,
              "#9c179e"
             ],
             [
              0.4444444444444444,
              "#bd3786"
             ],
             [
              0.5555555555555556,
              "#d8576b"
             ],
             [
              0.6666666666666666,
              "#ed7953"
             ],
             [
              0.7777777777777778,
              "#fb9f3a"
             ],
             [
              0.8888888888888888,
              "#fdca26"
             ],
             [
              1,
              "#f0f921"
             ]
            ],
            "type": "contour"
           }
          ],
          "contourcarpet": [
           {
            "colorbar": {
             "outlinewidth": 0,
             "ticks": ""
            },
            "type": "contourcarpet"
           }
          ],
          "heatmap": [
           {
            "colorbar": {
             "outlinewidth": 0,
             "ticks": ""
            },
            "colorscale": [
             [
              0,
              "#0d0887"
             ],
             [
              0.1111111111111111,
              "#46039f"
             ],
             [
              0.2222222222222222,
              "#7201a8"
             ],
             [
              0.3333333333333333,
              "#9c179e"
             ],
             [
              0.4444444444444444,
              "#bd3786"
             ],
             [
              0.5555555555555556,
              "#d8576b"
             ],
             [
              0.6666666666666666,
              "#ed7953"
             ],
             [
              0.7777777777777778,
              "#fb9f3a"
             ],
             [
              0.8888888888888888,
              "#fdca26"
             ],
             [
              1,
              "#f0f921"
             ]
            ],
            "type": "heatmap"
           }
          ],
          "heatmapgl": [
           {
            "colorbar": {
             "outlinewidth": 0,
             "ticks": ""
            },
            "colorscale": [
             [
              0,
              "#0d0887"
             ],
             [
              0.1111111111111111,
              "#46039f"
             ],
             [
              0.2222222222222222,
              "#7201a8"
             ],
             [
              0.3333333333333333,
              "#9c179e"
             ],
             [
              0.4444444444444444,
              "#bd3786"
             ],
             [
              0.5555555555555556,
              "#d8576b"
             ],
             [
              0.6666666666666666,
              "#ed7953"
             ],
             [
              0.7777777777777778,
              "#fb9f3a"
             ],
             [
              0.8888888888888888,
              "#fdca26"
             ],
             [
              1,
              "#f0f921"
             ]
            ],
            "type": "heatmapgl"
           }
          ],
          "histogram": [
           {
            "marker": {
             "colorbar": {
              "outlinewidth": 0,
              "ticks": ""
             }
            },
            "type": "histogram"
           }
          ],
          "histogram2d": [
           {
            "colorbar": {
             "outlinewidth": 0,
             "ticks": ""
            },
            "colorscale": [
             [
              0,
              "#0d0887"
             ],
             [
              0.1111111111111111,
              "#46039f"
             ],
             [
              0.2222222222222222,
              "#7201a8"
             ],
             [
              0.3333333333333333,
              "#9c179e"
             ],
             [
              0.4444444444444444,
              "#bd3786"
             ],
             [
              0.5555555555555556,
              "#d8576b"
             ],
             [
              0.6666666666666666,
              "#ed7953"
             ],
             [
              0.7777777777777778,
              "#fb9f3a"
             ],
             [
              0.8888888888888888,
              "#fdca26"
             ],
             [
              1,
              "#f0f921"
             ]
            ],
            "type": "histogram2d"
           }
          ],
          "histogram2dcontour": [
           {
            "colorbar": {
             "outlinewidth": 0,
             "ticks": ""
            },
            "colorscale": [
             [
              0,
              "#0d0887"
             ],
             [
              0.1111111111111111,
              "#46039f"
             ],
             [
              0.2222222222222222,
              "#7201a8"
             ],
             [
              0.3333333333333333,
              "#9c179e"
             ],
             [
              0.4444444444444444,
              "#bd3786"
             ],
             [
              0.5555555555555556,
              "#d8576b"
             ],
             [
              0.6666666666666666,
              "#ed7953"
             ],
             [
              0.7777777777777778,
              "#fb9f3a"
             ],
             [
              0.8888888888888888,
              "#fdca26"
             ],
             [
              1,
              "#f0f921"
             ]
            ],
            "type": "histogram2dcontour"
           }
          ],
          "mesh3d": [
           {
            "colorbar": {
             "outlinewidth": 0,
             "ticks": ""
            },
            "type": "mesh3d"
           }
          ],
          "parcoords": [
           {
            "line": {
             "colorbar": {
              "outlinewidth": 0,
              "ticks": ""
             }
            },
            "type": "parcoords"
           }
          ],
          "pie": [
           {
            "automargin": true,
            "type": "pie"
           }
          ],
          "scatter": [
           {
            "marker": {
             "line": {
              "color": "#283442"
             }
            },
            "type": "scatter"
           }
          ],
          "scatter3d": [
           {
            "line": {
             "colorbar": {
              "outlinewidth": 0,
              "ticks": ""
             }
            },
            "marker": {
             "colorbar": {
              "outlinewidth": 0,
              "ticks": ""
             }
            },
            "type": "scatter3d"
           }
          ],
          "scattercarpet": [
           {
            "marker": {
             "colorbar": {
              "outlinewidth": 0,
              "ticks": ""
             }
            },
            "type": "scattercarpet"
           }
          ],
          "scattergeo": [
           {
            "marker": {
             "colorbar": {
              "outlinewidth": 0,
              "ticks": ""
             }
            },
            "type": "scattergeo"
           }
          ],
          "scattergl": [
           {
            "marker": {
             "line": {
              "color": "#283442"
             }
            },
            "type": "scattergl"
           }
          ],
          "scattermapbox": [
           {
            "marker": {
             "colorbar": {
              "outlinewidth": 0,
              "ticks": ""
             }
            },
            "type": "scattermapbox"
           }
          ],
          "scatterpolar": [
           {
            "marker": {
             "colorbar": {
              "outlinewidth": 0,
              "ticks": ""
             }
            },
            "type": "scatterpolar"
           }
          ],
          "scatterpolargl": [
           {
            "marker": {
             "colorbar": {
              "outlinewidth": 0,
              "ticks": ""
             }
            },
            "type": "scatterpolargl"
           }
          ],
          "scatterternary": [
           {
            "marker": {
             "colorbar": {
              "outlinewidth": 0,
              "ticks": ""
             }
            },
            "type": "scatterternary"
           }
          ],
          "surface": [
           {
            "colorbar": {
             "outlinewidth": 0,
             "ticks": ""
            },
            "colorscale": [
             [
              0,
              "#0d0887"
             ],
             [
              0.1111111111111111,
              "#46039f"
             ],
             [
              0.2222222222222222,
              "#7201a8"
             ],
             [
              0.3333333333333333,
              "#9c179e"
             ],
             [
              0.4444444444444444,
              "#bd3786"
             ],
             [
              0.5555555555555556,
              "#d8576b"
             ],
             [
              0.6666666666666666,
              "#ed7953"
             ],
             [
              0.7777777777777778,
              "#fb9f3a"
             ],
             [
              0.8888888888888888,
              "#fdca26"
             ],
             [
              1,
              "#f0f921"
             ]
            ],
            "type": "surface"
           }
          ],
          "table": [
           {
            "cells": {
             "fill": {
              "color": "#506784"
             },
             "line": {
              "color": "rgb(17,17,17)"
             }
            },
            "header": {
             "fill": {
              "color": "#2a3f5f"
             },
             "line": {
              "color": "rgb(17,17,17)"
             }
            },
            "type": "table"
           }
          ]
         },
         "layout": {
          "annotationdefaults": {
           "arrowcolor": "#f2f5fa",
           "arrowhead": 0,
           "arrowwidth": 1
          },
          "autotypenumbers": "strict",
          "coloraxis": {
           "colorbar": {
            "outlinewidth": 0,
            "ticks": ""
           }
          },
          "colorscale": {
           "diverging": [
            [
             0,
             "#8e0152"
            ],
            [
             0.1,
             "#c51b7d"
            ],
            [
             0.2,
             "#de77ae"
            ],
            [
             0.3,
             "#f1b6da"
            ],
            [
             0.4,
             "#fde0ef"
            ],
            [
             0.5,
             "#f7f7f7"
            ],
            [
             0.6,
             "#e6f5d0"
            ],
            [
             0.7,
             "#b8e186"
            ],
            [
             0.8,
             "#7fbc41"
            ],
            [
             0.9,
             "#4d9221"
            ],
            [
             1,
             "#276419"
            ]
           ],
           "sequential": [
            [
             0,
             "#0d0887"
            ],
            [
             0.1111111111111111,
             "#46039f"
            ],
            [
             0.2222222222222222,
             "#7201a8"
            ],
            [
             0.3333333333333333,
             "#9c179e"
            ],
            [
             0.4444444444444444,
             "#bd3786"
            ],
            [
             0.5555555555555556,
             "#d8576b"
            ],
            [
             0.6666666666666666,
             "#ed7953"
            ],
            [
             0.7777777777777778,
             "#fb9f3a"
            ],
            [
             0.8888888888888888,
             "#fdca26"
            ],
            [
             1,
             "#f0f921"
            ]
           ],
           "sequentialminus": [
            [
             0,
             "#0d0887"
            ],
            [
             0.1111111111111111,
             "#46039f"
            ],
            [
             0.2222222222222222,
             "#7201a8"
            ],
            [
             0.3333333333333333,
             "#9c179e"
            ],
            [
             0.4444444444444444,
             "#bd3786"
            ],
            [
             0.5555555555555556,
             "#d8576b"
            ],
            [
             0.6666666666666666,
             "#ed7953"
            ],
            [
             0.7777777777777778,
             "#fb9f3a"
            ],
            [
             0.8888888888888888,
             "#fdca26"
            ],
            [
             1,
             "#f0f921"
            ]
           ]
          },
          "colorway": [
           "#636efa",
           "#EF553B",
           "#00cc96",
           "#ab63fa",
           "#FFA15A",
           "#19d3f3",
           "#FF6692",
           "#B6E880",
           "#FF97FF",
           "#FECB52"
          ],
          "font": {
           "color": "#f2f5fa"
          },
          "geo": {
           "bgcolor": "rgb(17,17,17)",
           "lakecolor": "rgb(17,17,17)",
           "landcolor": "rgb(17,17,17)",
           "showlakes": true,
           "showland": true,
           "subunitcolor": "#506784"
          },
          "hoverlabel": {
           "align": "left"
          },
          "hovermode": "closest",
          "mapbox": {
           "style": "dark"
          },
          "paper_bgcolor": "rgb(17,17,17)",
          "plot_bgcolor": "rgb(17,17,17)",
          "polar": {
           "angularaxis": {
            "gridcolor": "#506784",
            "linecolor": "#506784",
            "ticks": ""
           },
           "bgcolor": "rgb(17,17,17)",
           "radialaxis": {
            "gridcolor": "#506784",
            "linecolor": "#506784",
            "ticks": ""
           }
          },
          "scene": {
           "xaxis": {
            "backgroundcolor": "rgb(17,17,17)",
            "gridcolor": "#506784",
            "gridwidth": 2,
            "linecolor": "#506784",
            "showbackground": true,
            "ticks": "",
            "zerolinecolor": "#C8D4E3"
           },
           "yaxis": {
            "backgroundcolor": "rgb(17,17,17)",
            "gridcolor": "#506784",
            "gridwidth": 2,
            "linecolor": "#506784",
            "showbackground": true,
            "ticks": "",
            "zerolinecolor": "#C8D4E3"
           },
           "zaxis": {
            "backgroundcolor": "rgb(17,17,17)",
            "gridcolor": "#506784",
            "gridwidth": 2,
            "linecolor": "#506784",
            "showbackground": true,
            "ticks": "",
            "zerolinecolor": "#C8D4E3"
           }
          },
          "shapedefaults": {
           "line": {
            "color": "#f2f5fa"
           }
          },
          "sliderdefaults": {
           "bgcolor": "#C8D4E3",
           "bordercolor": "rgb(17,17,17)",
           "borderwidth": 1,
           "tickwidth": 0
          },
          "ternary": {
           "aaxis": {
            "gridcolor": "#506784",
            "linecolor": "#506784",
            "ticks": ""
           },
           "baxis": {
            "gridcolor": "#506784",
            "linecolor": "#506784",
            "ticks": ""
           },
           "bgcolor": "rgb(17,17,17)",
           "caxis": {
            "gridcolor": "#506784",
            "linecolor": "#506784",
            "ticks": ""
           }
          },
          "title": {
           "x": 0.05
          },
          "updatemenudefaults": {
           "bgcolor": "#506784",
           "borderwidth": 0
          },
          "xaxis": {
           "automargin": true,
           "gridcolor": "#283442",
           "linecolor": "#506784",
           "ticks": "",
           "title": {
            "standoff": 15
           },
           "zerolinecolor": "#283442",
           "zerolinewidth": 2
          },
          "yaxis": {
           "automargin": true,
           "gridcolor": "#283442",
           "linecolor": "#506784",
           "ticks": "",
           "title": {
            "standoff": 15
           },
           "zerolinecolor": "#283442",
           "zerolinewidth": 2
          }
         }
        },
        "xaxis": {
         "anchor": "y",
         "categoryarray": [
          1,
          0
         ],
         "categoryorder": "array",
         "domain": [
          0,
          1
         ],
         "title": {
          "text": "output"
         }
        },
        "yaxis": {
         "anchor": "x",
         "domain": [
          0,
          1
         ],
         "title": {
          "text": "count"
         }
        }
       }
      }
     },
     "metadata": {}
    }
   ],
   "source": [
    "px.histogram(heart_data, x = 'output', color = 'output', template = 'plotly_dark')"
   ]
  },
  {
   "cell_type": "code",
   "execution_count": 23,
   "metadata": {},
   "outputs": [
    {
     "output_type": "display_data",
     "data": {
      "application/vnd.plotly.v1+json": {
       "config": {
        "plotlyServerURL": "https://plot.ly"
       },
       "data": [
        {
         "alignmentgroup": "True",
         "bingroup": "x",
         "hovertemplate": "output=1<br>age=%{x}<br>count=%{y}<extra></extra>",
         "legendgroup": "1",
         "marker": {
          "color": "#636efa"
         },
         "name": "1",
         "offsetgroup": "1",
         "orientation": "v",
         "showlegend": true,
         "type": "histogram",
         "x": [
          63,
          37,
          41,
          56,
          57,
          57,
          56,
          44,
          52,
          57,
          54,
          48,
          49,
          64,
          58,
          50,
          58,
          66,
          43,
          69,
          59,
          44,
          42,
          61,
          40,
          71,
          59,
          51,
          65,
          53,
          41,
          65,
          44,
          54,
          51,
          46,
          54,
          54,
          65,
          65,
          51,
          48,
          45,
          53,
          39,
          52,
          44,
          47,
          53,
          53,
          51,
          66,
          62,
          44,
          63,
          52,
          48,
          45,
          34,
          57,
          71,
          54,
          52,
          41,
          58,
          35,
          51,
          45,
          44,
          62,
          54,
          51,
          29,
          51,
          43,
          55,
          51,
          59,
          52,
          58,
          41,
          45,
          60,
          52,
          42,
          67,
          68,
          46,
          54,
          58,
          48,
          57,
          52,
          54,
          45,
          53,
          62,
          52,
          43,
          53,
          42,
          59,
          63,
          42,
          50,
          68,
          69,
          45,
          50,
          50,
          64,
          57,
          64,
          43,
          55,
          37,
          41,
          56,
          46,
          46,
          64,
          59,
          41,
          54,
          39,
          34,
          47,
          67,
          52,
          74,
          54,
          49,
          42,
          41,
          41,
          49,
          60,
          62,
          57,
          64,
          51,
          43,
          42,
          67,
          76,
          70,
          44,
          60,
          44,
          42,
          66,
          71,
          64,
          66,
          39,
          58,
          47,
          35,
          58,
          56,
          56,
          55,
          41,
          38,
          38
         ],
         "xaxis": "x",
         "yaxis": "y"
        },
        {
         "alignmentgroup": "True",
         "bingroup": "x",
         "hovertemplate": "output=0<br>age=%{x}<br>count=%{y}<extra></extra>",
         "legendgroup": "0",
         "marker": {
          "color": "#EF553B"
         },
         "name": "0",
         "offsetgroup": "0",
         "orientation": "v",
         "showlegend": true,
         "type": "histogram",
         "x": [
          67,
          67,
          62,
          63,
          53,
          56,
          48,
          58,
          58,
          60,
          40,
          60,
          64,
          43,
          57,
          55,
          65,
          61,
          58,
          50,
          44,
          60,
          54,
          50,
          41,
          51,
          58,
          54,
          60,
          60,
          59,
          46,
          67,
          62,
          65,
          44,
          60,
          58,
          68,
          62,
          52,
          59,
          60,
          49,
          59,
          57,
          61,
          39,
          61,
          56,
          43,
          62,
          63,
          65,
          48,
          63,
          55,
          65,
          56,
          54,
          70,
          62,
          35,
          59,
          64,
          47,
          57,
          55,
          64,
          70,
          51,
          58,
          60,
          77,
          35,
          70,
          59,
          64,
          57,
          56,
          48,
          56,
          66,
          54,
          69,
          51,
          43,
          62,
          67,
          59,
          45,
          58,
          50,
          62,
          38,
          66,
          52,
          53,
          63,
          54,
          66,
          55,
          49,
          54,
          56,
          46,
          61,
          67,
          58,
          47,
          52,
          58,
          57,
          58,
          61,
          42,
          52,
          59,
          40,
          61,
          46,
          59,
          57,
          57,
          55,
          61,
          58,
          58,
          67,
          44,
          63,
          63,
          59,
          57,
          45,
          68,
          57,
          57
         ],
         "xaxis": "x",
         "yaxis": "y"
        }
       ],
       "layout": {
        "barmode": "relative",
        "legend": {
         "title": {
          "text": "output"
         },
         "tracegroupgap": 0
        },
        "margin": {
         "t": 60
        },
        "template": {
         "data": {
          "bar": [
           {
            "error_x": {
             "color": "#f2f5fa"
            },
            "error_y": {
             "color": "#f2f5fa"
            },
            "marker": {
             "line": {
              "color": "rgb(17,17,17)",
              "width": 0.5
             }
            },
            "type": "bar"
           }
          ],
          "barpolar": [
           {
            "marker": {
             "line": {
              "color": "rgb(17,17,17)",
              "width": 0.5
             }
            },
            "type": "barpolar"
           }
          ],
          "carpet": [
           {
            "aaxis": {
             "endlinecolor": "#A2B1C6",
             "gridcolor": "#506784",
             "linecolor": "#506784",
             "minorgridcolor": "#506784",
             "startlinecolor": "#A2B1C6"
            },
            "baxis": {
             "endlinecolor": "#A2B1C6",
             "gridcolor": "#506784",
             "linecolor": "#506784",
             "minorgridcolor": "#506784",
             "startlinecolor": "#A2B1C6"
            },
            "type": "carpet"
           }
          ],
          "choropleth": [
           {
            "colorbar": {
             "outlinewidth": 0,
             "ticks": ""
            },
            "type": "choropleth"
           }
          ],
          "contour": [
           {
            "colorbar": {
             "outlinewidth": 0,
             "ticks": ""
            },
            "colorscale": [
             [
              0,
              "#0d0887"
             ],
             [
              0.1111111111111111,
              "#46039f"
             ],
             [
              0.2222222222222222,
              "#7201a8"
             ],
             [
              0.3333333333333333,
              "#9c179e"
             ],
             [
              0.4444444444444444,
              "#bd3786"
             ],
             [
              0.5555555555555556,
              "#d8576b"
             ],
             [
              0.6666666666666666,
              "#ed7953"
             ],
             [
              0.7777777777777778,
              "#fb9f3a"
             ],
             [
              0.8888888888888888,
              "#fdca26"
             ],
             [
              1,
              "#f0f921"
             ]
            ],
            "type": "contour"
           }
          ],
          "contourcarpet": [
           {
            "colorbar": {
             "outlinewidth": 0,
             "ticks": ""
            },
            "type": "contourcarpet"
           }
          ],
          "heatmap": [
           {
            "colorbar": {
             "outlinewidth": 0,
             "ticks": ""
            },
            "colorscale": [
             [
              0,
              "#0d0887"
             ],
             [
              0.1111111111111111,
              "#46039f"
             ],
             [
              0.2222222222222222,
              "#7201a8"
             ],
             [
              0.3333333333333333,
              "#9c179e"
             ],
             [
              0.4444444444444444,
              "#bd3786"
             ],
             [
              0.5555555555555556,
              "#d8576b"
             ],
             [
              0.6666666666666666,
              "#ed7953"
             ],
             [
              0.7777777777777778,
              "#fb9f3a"
             ],
             [
              0.8888888888888888,
              "#fdca26"
             ],
             [
              1,
              "#f0f921"
             ]
            ],
            "type": "heatmap"
           }
          ],
          "heatmapgl": [
           {
            "colorbar": {
             "outlinewidth": 0,
             "ticks": ""
            },
            "colorscale": [
             [
              0,
              "#0d0887"
             ],
             [
              0.1111111111111111,
              "#46039f"
             ],
             [
              0.2222222222222222,
              "#7201a8"
             ],
             [
              0.3333333333333333,
              "#9c179e"
             ],
             [
              0.4444444444444444,
              "#bd3786"
             ],
             [
              0.5555555555555556,
              "#d8576b"
             ],
             [
              0.6666666666666666,
              "#ed7953"
             ],
             [
              0.7777777777777778,
              "#fb9f3a"
             ],
             [
              0.8888888888888888,
              "#fdca26"
             ],
             [
              1,
              "#f0f921"
             ]
            ],
            "type": "heatmapgl"
           }
          ],
          "histogram": [
           {
            "marker": {
             "colorbar": {
              "outlinewidth": 0,
              "ticks": ""
             }
            },
            "type": "histogram"
           }
          ],
          "histogram2d": [
           {
            "colorbar": {
             "outlinewidth": 0,
             "ticks": ""
            },
            "colorscale": [
             [
              0,
              "#0d0887"
             ],
             [
              0.1111111111111111,
              "#46039f"
             ],
             [
              0.2222222222222222,
              "#7201a8"
             ],
             [
              0.3333333333333333,
              "#9c179e"
             ],
             [
              0.4444444444444444,
              "#bd3786"
             ],
             [
              0.5555555555555556,
              "#d8576b"
             ],
             [
              0.6666666666666666,
              "#ed7953"
             ],
             [
              0.7777777777777778,
              "#fb9f3a"
             ],
             [
              0.8888888888888888,
              "#fdca26"
             ],
             [
              1,
              "#f0f921"
             ]
            ],
            "type": "histogram2d"
           }
          ],
          "histogram2dcontour": [
           {
            "colorbar": {
             "outlinewidth": 0,
             "ticks": ""
            },
            "colorscale": [
             [
              0,
              "#0d0887"
             ],
             [
              0.1111111111111111,
              "#46039f"
             ],
             [
              0.2222222222222222,
              "#7201a8"
             ],
             [
              0.3333333333333333,
              "#9c179e"
             ],
             [
              0.4444444444444444,
              "#bd3786"
             ],
             [
              0.5555555555555556,
              "#d8576b"
             ],
             [
              0.6666666666666666,
              "#ed7953"
             ],
             [
              0.7777777777777778,
              "#fb9f3a"
             ],
             [
              0.8888888888888888,
              "#fdca26"
             ],
             [
              1,
              "#f0f921"
             ]
            ],
            "type": "histogram2dcontour"
           }
          ],
          "mesh3d": [
           {
            "colorbar": {
             "outlinewidth": 0,
             "ticks": ""
            },
            "type": "mesh3d"
           }
          ],
          "parcoords": [
           {
            "line": {
             "colorbar": {
              "outlinewidth": 0,
              "ticks": ""
             }
            },
            "type": "parcoords"
           }
          ],
          "pie": [
           {
            "automargin": true,
            "type": "pie"
           }
          ],
          "scatter": [
           {
            "marker": {
             "line": {
              "color": "#283442"
             }
            },
            "type": "scatter"
           }
          ],
          "scatter3d": [
           {
            "line": {
             "colorbar": {
              "outlinewidth": 0,
              "ticks": ""
             }
            },
            "marker": {
             "colorbar": {
              "outlinewidth": 0,
              "ticks": ""
             }
            },
            "type": "scatter3d"
           }
          ],
          "scattercarpet": [
           {
            "marker": {
             "colorbar": {
              "outlinewidth": 0,
              "ticks": ""
             }
            },
            "type": "scattercarpet"
           }
          ],
          "scattergeo": [
           {
            "marker": {
             "colorbar": {
              "outlinewidth": 0,
              "ticks": ""
             }
            },
            "type": "scattergeo"
           }
          ],
          "scattergl": [
           {
            "marker": {
             "line": {
              "color": "#283442"
             }
            },
            "type": "scattergl"
           }
          ],
          "scattermapbox": [
           {
            "marker": {
             "colorbar": {
              "outlinewidth": 0,
              "ticks": ""
             }
            },
            "type": "scattermapbox"
           }
          ],
          "scatterpolar": [
           {
            "marker": {
             "colorbar": {
              "outlinewidth": 0,
              "ticks": ""
             }
            },
            "type": "scatterpolar"
           }
          ],
          "scatterpolargl": [
           {
            "marker": {
             "colorbar": {
              "outlinewidth": 0,
              "ticks": ""
             }
            },
            "type": "scatterpolargl"
           }
          ],
          "scatterternary": [
           {
            "marker": {
             "colorbar": {
              "outlinewidth": 0,
              "ticks": ""
             }
            },
            "type": "scatterternary"
           }
          ],
          "surface": [
           {
            "colorbar": {
             "outlinewidth": 0,
             "ticks": ""
            },
            "colorscale": [
             [
              0,
              "#0d0887"
             ],
             [
              0.1111111111111111,
              "#46039f"
             ],
             [
              0.2222222222222222,
              "#7201a8"
             ],
             [
              0.3333333333333333,
              "#9c179e"
             ],
             [
              0.4444444444444444,
              "#bd3786"
             ],
             [
              0.5555555555555556,
              "#d8576b"
             ],
             [
              0.6666666666666666,
              "#ed7953"
             ],
             [
              0.7777777777777778,
              "#fb9f3a"
             ],
             [
              0.8888888888888888,
              "#fdca26"
             ],
             [
              1,
              "#f0f921"
             ]
            ],
            "type": "surface"
           }
          ],
          "table": [
           {
            "cells": {
             "fill": {
              "color": "#506784"
             },
             "line": {
              "color": "rgb(17,17,17)"
             }
            },
            "header": {
             "fill": {
              "color": "#2a3f5f"
             },
             "line": {
              "color": "rgb(17,17,17)"
             }
            },
            "type": "table"
           }
          ]
         },
         "layout": {
          "annotationdefaults": {
           "arrowcolor": "#f2f5fa",
           "arrowhead": 0,
           "arrowwidth": 1
          },
          "autotypenumbers": "strict",
          "coloraxis": {
           "colorbar": {
            "outlinewidth": 0,
            "ticks": ""
           }
          },
          "colorscale": {
           "diverging": [
            [
             0,
             "#8e0152"
            ],
            [
             0.1,
             "#c51b7d"
            ],
            [
             0.2,
             "#de77ae"
            ],
            [
             0.3,
             "#f1b6da"
            ],
            [
             0.4,
             "#fde0ef"
            ],
            [
             0.5,
             "#f7f7f7"
            ],
            [
             0.6,
             "#e6f5d0"
            ],
            [
             0.7,
             "#b8e186"
            ],
            [
             0.8,
             "#7fbc41"
            ],
            [
             0.9,
             "#4d9221"
            ],
            [
             1,
             "#276419"
            ]
           ],
           "sequential": [
            [
             0,
             "#0d0887"
            ],
            [
             0.1111111111111111,
             "#46039f"
            ],
            [
             0.2222222222222222,
             "#7201a8"
            ],
            [
             0.3333333333333333,
             "#9c179e"
            ],
            [
             0.4444444444444444,
             "#bd3786"
            ],
            [
             0.5555555555555556,
             "#d8576b"
            ],
            [
             0.6666666666666666,
             "#ed7953"
            ],
            [
             0.7777777777777778,
             "#fb9f3a"
            ],
            [
             0.8888888888888888,
             "#fdca26"
            ],
            [
             1,
             "#f0f921"
            ]
           ],
           "sequentialminus": [
            [
             0,
             "#0d0887"
            ],
            [
             0.1111111111111111,
             "#46039f"
            ],
            [
             0.2222222222222222,
             "#7201a8"
            ],
            [
             0.3333333333333333,
             "#9c179e"
            ],
            [
             0.4444444444444444,
             "#bd3786"
            ],
            [
             0.5555555555555556,
             "#d8576b"
            ],
            [
             0.6666666666666666,
             "#ed7953"
            ],
            [
             0.7777777777777778,
             "#fb9f3a"
            ],
            [
             0.8888888888888888,
             "#fdca26"
            ],
            [
             1,
             "#f0f921"
            ]
           ]
          },
          "colorway": [
           "#636efa",
           "#EF553B",
           "#00cc96",
           "#ab63fa",
           "#FFA15A",
           "#19d3f3",
           "#FF6692",
           "#B6E880",
           "#FF97FF",
           "#FECB52"
          ],
          "font": {
           "color": "#f2f5fa"
          },
          "geo": {
           "bgcolor": "rgb(17,17,17)",
           "lakecolor": "rgb(17,17,17)",
           "landcolor": "rgb(17,17,17)",
           "showlakes": true,
           "showland": true,
           "subunitcolor": "#506784"
          },
          "hoverlabel": {
           "align": "left"
          },
          "hovermode": "closest",
          "mapbox": {
           "style": "dark"
          },
          "paper_bgcolor": "rgb(17,17,17)",
          "plot_bgcolor": "rgb(17,17,17)",
          "polar": {
           "angularaxis": {
            "gridcolor": "#506784",
            "linecolor": "#506784",
            "ticks": ""
           },
           "bgcolor": "rgb(17,17,17)",
           "radialaxis": {
            "gridcolor": "#506784",
            "linecolor": "#506784",
            "ticks": ""
           }
          },
          "scene": {
           "xaxis": {
            "backgroundcolor": "rgb(17,17,17)",
            "gridcolor": "#506784",
            "gridwidth": 2,
            "linecolor": "#506784",
            "showbackground": true,
            "ticks": "",
            "zerolinecolor": "#C8D4E3"
           },
           "yaxis": {
            "backgroundcolor": "rgb(17,17,17)",
            "gridcolor": "#506784",
            "gridwidth": 2,
            "linecolor": "#506784",
            "showbackground": true,
            "ticks": "",
            "zerolinecolor": "#C8D4E3"
           },
           "zaxis": {
            "backgroundcolor": "rgb(17,17,17)",
            "gridcolor": "#506784",
            "gridwidth": 2,
            "linecolor": "#506784",
            "showbackground": true,
            "ticks": "",
            "zerolinecolor": "#C8D4E3"
           }
          },
          "shapedefaults": {
           "line": {
            "color": "#f2f5fa"
           }
          },
          "sliderdefaults": {
           "bgcolor": "#C8D4E3",
           "bordercolor": "rgb(17,17,17)",
           "borderwidth": 1,
           "tickwidth": 0
          },
          "ternary": {
           "aaxis": {
            "gridcolor": "#506784",
            "linecolor": "#506784",
            "ticks": ""
           },
           "baxis": {
            "gridcolor": "#506784",
            "linecolor": "#506784",
            "ticks": ""
           },
           "bgcolor": "rgb(17,17,17)",
           "caxis": {
            "gridcolor": "#506784",
            "linecolor": "#506784",
            "ticks": ""
           }
          },
          "title": {
           "x": 0.05
          },
          "updatemenudefaults": {
           "bgcolor": "#506784",
           "borderwidth": 0
          },
          "xaxis": {
           "automargin": true,
           "gridcolor": "#283442",
           "linecolor": "#506784",
           "ticks": "",
           "title": {
            "standoff": 15
           },
           "zerolinecolor": "#283442",
           "zerolinewidth": 2
          },
          "yaxis": {
           "automargin": true,
           "gridcolor": "#283442",
           "linecolor": "#506784",
           "ticks": "",
           "title": {
            "standoff": 15
           },
           "zerolinecolor": "#283442",
           "zerolinewidth": 2
          }
         }
        },
        "xaxis": {
         "anchor": "y",
         "domain": [
          0,
          1
         ],
         "title": {
          "text": "age"
         }
        },
        "yaxis": {
         "anchor": "x",
         "domain": [
          0,
          1
         ],
         "title": {
          "text": "count"
         }
        }
       }
      }
     },
     "metadata": {}
    }
   ],
   "source": [
    "px.histogram(heart_data, x = 'age', color = 'output', template = 'plotly_dark')"
   ]
  },
  {
   "cell_type": "code",
   "execution_count": 24,
   "metadata": {},
   "outputs": [
    {
     "output_type": "display_data",
     "data": {
      "application/vnd.plotly.v1+json": {
       "config": {
        "plotlyServerURL": "https://plot.ly"
       },
       "data": [
        {
         "alignmentgroup": "True",
         "bingroup": "x",
         "hovertemplate": "output=1<br>chol=%{x}<br>count=%{y}<extra></extra>",
         "legendgroup": "1",
         "marker": {
          "color": "#636efa"
         },
         "name": "1",
         "offsetgroup": "1",
         "orientation": "v",
         "showlegend": true,
         "type": "histogram",
         "x": [
          233,
          250,
          204,
          236,
          354,
          192,
          294,
          263,
          199,
          168,
          239,
          275,
          266,
          211,
          283,
          219,
          340,
          226,
          247,
          239,
          234,
          233,
          226,
          243,
          199,
          302,
          212,
          175,
          417,
          197,
          198,
          177,
          219,
          273,
          213,
          177,
          304,
          232,
          269,
          360,
          308,
          245,
          208,
          264,
          321,
          325,
          235,
          257,
          216,
          234,
          256,
          302,
          231,
          141,
          252,
          201,
          222,
          260,
          182,
          303,
          265,
          309,
          186,
          203,
          211,
          183,
          222,
          234,
          220,
          209,
          258,
          227,
          204,
          261,
          213,
          250,
          245,
          221,
          205,
          240,
          250,
          308,
          318,
          298,
          265,
          564,
          277,
          197,
          214,
          248,
          255,
          207,
          223,
          288,
          160,
          226,
          394,
          233,
          315,
          246,
          244,
          270,
          195,
          240,
          196,
          211,
          234,
          236,
          244,
          254,
          325,
          126,
          313,
          211,
          262,
          215,
          214,
          193,
          204,
          243,
          303,
          271,
          268,
          267,
          199,
          210,
          204,
          277,
          196,
          269,
          201,
          271,
          295,
          235,
          306,
          269,
          178,
          208,
          201,
          263,
          295,
          303,
          209,
          223,
          197,
          245,
          242,
          240,
          226,
          180,
          228,
          149,
          227,
          278,
          220,
          197,
          253,
          192,
          220,
          221,
          240,
          342,
          157,
          175,
          175
         ],
         "xaxis": "x",
         "yaxis": "y"
        },
        {
         "alignmentgroup": "True",
         "bingroup": "x",
         "hovertemplate": "output=0<br>chol=%{x}<br>count=%{y}<extra></extra>",
         "legendgroup": "0",
         "marker": {
          "color": "#EF553B"
         },
         "name": "0",
         "offsetgroup": "0",
         "orientation": "v",
         "showlegend": true,
         "type": "histogram",
         "x": [
          286,
          229,
          268,
          254,
          203,
          256,
          229,
          284,
          224,
          206,
          167,
          230,
          335,
          177,
          276,
          353,
          225,
          330,
          230,
          243,
          290,
          253,
          266,
          233,
          172,
          305,
          216,
          188,
          282,
          185,
          326,
          231,
          254,
          267,
          248,
          197,
          258,
          270,
          274,
          164,
          255,
          239,
          258,
          188,
          177,
          229,
          260,
          219,
          307,
          249,
          341,
          263,
          330,
          254,
          256,
          407,
          217,
          282,
          288,
          239,
          174,
          281,
          198,
          288,
          309,
          243,
          289,
          289,
          246,
          322,
          299,
          300,
          293,
          304,
          282,
          269,
          249,
          212,
          274,
          184,
          274,
          409,
          246,
          283,
          254,
          298,
          247,
          294,
          299,
          273,
          309,
          259,
          200,
          244,
          231,
          228,
          230,
          282,
          269,
          206,
          212,
          327,
          149,
          286,
          283,
          249,
          234,
          237,
          234,
          275,
          212,
          218,
          261,
          319,
          166,
          315,
          204,
          218,
          223,
          207,
          311,
          204,
          232,
          335,
          205,
          203,
          318,
          225,
          212,
          169,
          187,
          197,
          176,
          241,
          264,
          193,
          131,
          236
         ],
         "xaxis": "x",
         "yaxis": "y"
        }
       ],
       "layout": {
        "barmode": "relative",
        "legend": {
         "title": {
          "text": "output"
         },
         "tracegroupgap": 0
        },
        "margin": {
         "t": 60
        },
        "template": {
         "data": {
          "bar": [
           {
            "error_x": {
             "color": "#f2f5fa"
            },
            "error_y": {
             "color": "#f2f5fa"
            },
            "marker": {
             "line": {
              "color": "rgb(17,17,17)",
              "width": 0.5
             }
            },
            "type": "bar"
           }
          ],
          "barpolar": [
           {
            "marker": {
             "line": {
              "color": "rgb(17,17,17)",
              "width": 0.5
             }
            },
            "type": "barpolar"
           }
          ],
          "carpet": [
           {
            "aaxis": {
             "endlinecolor": "#A2B1C6",
             "gridcolor": "#506784",
             "linecolor": "#506784",
             "minorgridcolor": "#506784",
             "startlinecolor": "#A2B1C6"
            },
            "baxis": {
             "endlinecolor": "#A2B1C6",
             "gridcolor": "#506784",
             "linecolor": "#506784",
             "minorgridcolor": "#506784",
             "startlinecolor": "#A2B1C6"
            },
            "type": "carpet"
           }
          ],
          "choropleth": [
           {
            "colorbar": {
             "outlinewidth": 0,
             "ticks": ""
            },
            "type": "choropleth"
           }
          ],
          "contour": [
           {
            "colorbar": {
             "outlinewidth": 0,
             "ticks": ""
            },
            "colorscale": [
             [
              0,
              "#0d0887"
             ],
             [
              0.1111111111111111,
              "#46039f"
             ],
             [
              0.2222222222222222,
              "#7201a8"
             ],
             [
              0.3333333333333333,
              "#9c179e"
             ],
             [
              0.4444444444444444,
              "#bd3786"
             ],
             [
              0.5555555555555556,
              "#d8576b"
             ],
             [
              0.6666666666666666,
              "#ed7953"
             ],
             [
              0.7777777777777778,
              "#fb9f3a"
             ],
             [
              0.8888888888888888,
              "#fdca26"
             ],
             [
              1,
              "#f0f921"
             ]
            ],
            "type": "contour"
           }
          ],
          "contourcarpet": [
           {
            "colorbar": {
             "outlinewidth": 0,
             "ticks": ""
            },
            "type": "contourcarpet"
           }
          ],
          "heatmap": [
           {
            "colorbar": {
             "outlinewidth": 0,
             "ticks": ""
            },
            "colorscale": [
             [
              0,
              "#0d0887"
             ],
             [
              0.1111111111111111,
              "#46039f"
             ],
             [
              0.2222222222222222,
              "#7201a8"
             ],
             [
              0.3333333333333333,
              "#9c179e"
             ],
             [
              0.4444444444444444,
              "#bd3786"
             ],
             [
              0.5555555555555556,
              "#d8576b"
             ],
             [
              0.6666666666666666,
              "#ed7953"
             ],
             [
              0.7777777777777778,
              "#fb9f3a"
             ],
             [
              0.8888888888888888,
              "#fdca26"
             ],
             [
              1,
              "#f0f921"
             ]
            ],
            "type": "heatmap"
           }
          ],
          "heatmapgl": [
           {
            "colorbar": {
             "outlinewidth": 0,
             "ticks": ""
            },
            "colorscale": [
             [
              0,
              "#0d0887"
             ],
             [
              0.1111111111111111,
              "#46039f"
             ],
             [
              0.2222222222222222,
              "#7201a8"
             ],
             [
              0.3333333333333333,
              "#9c179e"
             ],
             [
              0.4444444444444444,
              "#bd3786"
             ],
             [
              0.5555555555555556,
              "#d8576b"
             ],
             [
              0.6666666666666666,
              "#ed7953"
             ],
             [
              0.7777777777777778,
              "#fb9f3a"
             ],
             [
              0.8888888888888888,
              "#fdca26"
             ],
             [
              1,
              "#f0f921"
             ]
            ],
            "type": "heatmapgl"
           }
          ],
          "histogram": [
           {
            "marker": {
             "colorbar": {
              "outlinewidth": 0,
              "ticks": ""
             }
            },
            "type": "histogram"
           }
          ],
          "histogram2d": [
           {
            "colorbar": {
             "outlinewidth": 0,
             "ticks": ""
            },
            "colorscale": [
             [
              0,
              "#0d0887"
             ],
             [
              0.1111111111111111,
              "#46039f"
             ],
             [
              0.2222222222222222,
              "#7201a8"
             ],
             [
              0.3333333333333333,
              "#9c179e"
             ],
             [
              0.4444444444444444,
              "#bd3786"
             ],
             [
              0.5555555555555556,
              "#d8576b"
             ],
             [
              0.6666666666666666,
              "#ed7953"
             ],
             [
              0.7777777777777778,
              "#fb9f3a"
             ],
             [
              0.8888888888888888,
              "#fdca26"
             ],
             [
              1,
              "#f0f921"
             ]
            ],
            "type": "histogram2d"
           }
          ],
          "histogram2dcontour": [
           {
            "colorbar": {
             "outlinewidth": 0,
             "ticks": ""
            },
            "colorscale": [
             [
              0,
              "#0d0887"
             ],
             [
              0.1111111111111111,
              "#46039f"
             ],
             [
              0.2222222222222222,
              "#7201a8"
             ],
             [
              0.3333333333333333,
              "#9c179e"
             ],
             [
              0.4444444444444444,
              "#bd3786"
             ],
             [
              0.5555555555555556,
              "#d8576b"
             ],
             [
              0.6666666666666666,
              "#ed7953"
             ],
             [
              0.7777777777777778,
              "#fb9f3a"
             ],
             [
              0.8888888888888888,
              "#fdca26"
             ],
             [
              1,
              "#f0f921"
             ]
            ],
            "type": "histogram2dcontour"
           }
          ],
          "mesh3d": [
           {
            "colorbar": {
             "outlinewidth": 0,
             "ticks": ""
            },
            "type": "mesh3d"
           }
          ],
          "parcoords": [
           {
            "line": {
             "colorbar": {
              "outlinewidth": 0,
              "ticks": ""
             }
            },
            "type": "parcoords"
           }
          ],
          "pie": [
           {
            "automargin": true,
            "type": "pie"
           }
          ],
          "scatter": [
           {
            "marker": {
             "line": {
              "color": "#283442"
             }
            },
            "type": "scatter"
           }
          ],
          "scatter3d": [
           {
            "line": {
             "colorbar": {
              "outlinewidth": 0,
              "ticks": ""
             }
            },
            "marker": {
             "colorbar": {
              "outlinewidth": 0,
              "ticks": ""
             }
            },
            "type": "scatter3d"
           }
          ],
          "scattercarpet": [
           {
            "marker": {
             "colorbar": {
              "outlinewidth": 0,
              "ticks": ""
             }
            },
            "type": "scattercarpet"
           }
          ],
          "scattergeo": [
           {
            "marker": {
             "colorbar": {
              "outlinewidth": 0,
              "ticks": ""
             }
            },
            "type": "scattergeo"
           }
          ],
          "scattergl": [
           {
            "marker": {
             "line": {
              "color": "#283442"
             }
            },
            "type": "scattergl"
           }
          ],
          "scattermapbox": [
           {
            "marker": {
             "colorbar": {
              "outlinewidth": 0,
              "ticks": ""
             }
            },
            "type": "scattermapbox"
           }
          ],
          "scatterpolar": [
           {
            "marker": {
             "colorbar": {
              "outlinewidth": 0,
              "ticks": ""
             }
            },
            "type": "scatterpolar"
           }
          ],
          "scatterpolargl": [
           {
            "marker": {
             "colorbar": {
              "outlinewidth": 0,
              "ticks": ""
             }
            },
            "type": "scatterpolargl"
           }
          ],
          "scatterternary": [
           {
            "marker": {
             "colorbar": {
              "outlinewidth": 0,
              "ticks": ""
             }
            },
            "type": "scatterternary"
           }
          ],
          "surface": [
           {
            "colorbar": {
             "outlinewidth": 0,
             "ticks": ""
            },
            "colorscale": [
             [
              0,
              "#0d0887"
             ],
             [
              0.1111111111111111,
              "#46039f"
             ],
             [
              0.2222222222222222,
              "#7201a8"
             ],
             [
              0.3333333333333333,
              "#9c179e"
             ],
             [
              0.4444444444444444,
              "#bd3786"
             ],
             [
              0.5555555555555556,
              "#d8576b"
             ],
             [
              0.6666666666666666,
              "#ed7953"
             ],
             [
              0.7777777777777778,
              "#fb9f3a"
             ],
             [
              0.8888888888888888,
              "#fdca26"
             ],
             [
              1,
              "#f0f921"
             ]
            ],
            "type": "surface"
           }
          ],
          "table": [
           {
            "cells": {
             "fill": {
              "color": "#506784"
             },
             "line": {
              "color": "rgb(17,17,17)"
             }
            },
            "header": {
             "fill": {
              "color": "#2a3f5f"
             },
             "line": {
              "color": "rgb(17,17,17)"
             }
            },
            "type": "table"
           }
          ]
         },
         "layout": {
          "annotationdefaults": {
           "arrowcolor": "#f2f5fa",
           "arrowhead": 0,
           "arrowwidth": 1
          },
          "autotypenumbers": "strict",
          "coloraxis": {
           "colorbar": {
            "outlinewidth": 0,
            "ticks": ""
           }
          },
          "colorscale": {
           "diverging": [
            [
             0,
             "#8e0152"
            ],
            [
             0.1,
             "#c51b7d"
            ],
            [
             0.2,
             "#de77ae"
            ],
            [
             0.3,
             "#f1b6da"
            ],
            [
             0.4,
             "#fde0ef"
            ],
            [
             0.5,
             "#f7f7f7"
            ],
            [
             0.6,
             "#e6f5d0"
            ],
            [
             0.7,
             "#b8e186"
            ],
            [
             0.8,
             "#7fbc41"
            ],
            [
             0.9,
             "#4d9221"
            ],
            [
             1,
             "#276419"
            ]
           ],
           "sequential": [
            [
             0,
             "#0d0887"
            ],
            [
             0.1111111111111111,
             "#46039f"
            ],
            [
             0.2222222222222222,
             "#7201a8"
            ],
            [
             0.3333333333333333,
             "#9c179e"
            ],
            [
             0.4444444444444444,
             "#bd3786"
            ],
            [
             0.5555555555555556,
             "#d8576b"
            ],
            [
             0.6666666666666666,
             "#ed7953"
            ],
            [
             0.7777777777777778,
             "#fb9f3a"
            ],
            [
             0.8888888888888888,
             "#fdca26"
            ],
            [
             1,
             "#f0f921"
            ]
           ],
           "sequentialminus": [
            [
             0,
             "#0d0887"
            ],
            [
             0.1111111111111111,
             "#46039f"
            ],
            [
             0.2222222222222222,
             "#7201a8"
            ],
            [
             0.3333333333333333,
             "#9c179e"
            ],
            [
             0.4444444444444444,
             "#bd3786"
            ],
            [
             0.5555555555555556,
             "#d8576b"
            ],
            [
             0.6666666666666666,
             "#ed7953"
            ],
            [
             0.7777777777777778,
             "#fb9f3a"
            ],
            [
             0.8888888888888888,
             "#fdca26"
            ],
            [
             1,
             "#f0f921"
            ]
           ]
          },
          "colorway": [
           "#636efa",
           "#EF553B",
           "#00cc96",
           "#ab63fa",
           "#FFA15A",
           "#19d3f3",
           "#FF6692",
           "#B6E880",
           "#FF97FF",
           "#FECB52"
          ],
          "font": {
           "color": "#f2f5fa"
          },
          "geo": {
           "bgcolor": "rgb(17,17,17)",
           "lakecolor": "rgb(17,17,17)",
           "landcolor": "rgb(17,17,17)",
           "showlakes": true,
           "showland": true,
           "subunitcolor": "#506784"
          },
          "hoverlabel": {
           "align": "left"
          },
          "hovermode": "closest",
          "mapbox": {
           "style": "dark"
          },
          "paper_bgcolor": "rgb(17,17,17)",
          "plot_bgcolor": "rgb(17,17,17)",
          "polar": {
           "angularaxis": {
            "gridcolor": "#506784",
            "linecolor": "#506784",
            "ticks": ""
           },
           "bgcolor": "rgb(17,17,17)",
           "radialaxis": {
            "gridcolor": "#506784",
            "linecolor": "#506784",
            "ticks": ""
           }
          },
          "scene": {
           "xaxis": {
            "backgroundcolor": "rgb(17,17,17)",
            "gridcolor": "#506784",
            "gridwidth": 2,
            "linecolor": "#506784",
            "showbackground": true,
            "ticks": "",
            "zerolinecolor": "#C8D4E3"
           },
           "yaxis": {
            "backgroundcolor": "rgb(17,17,17)",
            "gridcolor": "#506784",
            "gridwidth": 2,
            "linecolor": "#506784",
            "showbackground": true,
            "ticks": "",
            "zerolinecolor": "#C8D4E3"
           },
           "zaxis": {
            "backgroundcolor": "rgb(17,17,17)",
            "gridcolor": "#506784",
            "gridwidth": 2,
            "linecolor": "#506784",
            "showbackground": true,
            "ticks": "",
            "zerolinecolor": "#C8D4E3"
           }
          },
          "shapedefaults": {
           "line": {
            "color": "#f2f5fa"
           }
          },
          "sliderdefaults": {
           "bgcolor": "#C8D4E3",
           "bordercolor": "rgb(17,17,17)",
           "borderwidth": 1,
           "tickwidth": 0
          },
          "ternary": {
           "aaxis": {
            "gridcolor": "#506784",
            "linecolor": "#506784",
            "ticks": ""
           },
           "baxis": {
            "gridcolor": "#506784",
            "linecolor": "#506784",
            "ticks": ""
           },
           "bgcolor": "rgb(17,17,17)",
           "caxis": {
            "gridcolor": "#506784",
            "linecolor": "#506784",
            "ticks": ""
           }
          },
          "title": {
           "x": 0.05
          },
          "updatemenudefaults": {
           "bgcolor": "#506784",
           "borderwidth": 0
          },
          "xaxis": {
           "automargin": true,
           "gridcolor": "#283442",
           "linecolor": "#506784",
           "ticks": "",
           "title": {
            "standoff": 15
           },
           "zerolinecolor": "#283442",
           "zerolinewidth": 2
          },
          "yaxis": {
           "automargin": true,
           "gridcolor": "#283442",
           "linecolor": "#506784",
           "ticks": "",
           "title": {
            "standoff": 15
           },
           "zerolinecolor": "#283442",
           "zerolinewidth": 2
          }
         }
        },
        "xaxis": {
         "anchor": "y",
         "domain": [
          0,
          1
         ],
         "title": {
          "text": "chol"
         }
        },
        "yaxis": {
         "anchor": "x",
         "domain": [
          0,
          1
         ],
         "title": {
          "text": "count"
         }
        }
       }
      }
     },
     "metadata": {}
    }
   ],
   "source": [
    "px.histogram(heart_data, x = 'chol', color = 'output', template = 'plotly_dark')"
   ]
  },
  {
   "source": [
    "### Heatmap of the correlation (We do not necessarily perform feature filtering based on correlation)"
   ],
   "cell_type": "markdown",
   "metadata": {}
  },
  {
   "cell_type": "code",
   "execution_count": 25,
   "metadata": {},
   "outputs": [
    {
     "output_type": "display_data",
     "data": {
      "text/plain": "<Figure size 1152x648 with 2 Axes>",
      "image/svg+xml": "<?xml version=\"1.0\" encoding=\"utf-8\" standalone=\"no\"?>\r\n<!DOCTYPE svg PUBLIC \"-//W3C//DTD SVG 1.1//EN\"\r\n  \"http://www.w3.org/Graphics/SVG/1.1/DTD/svg11.dtd\">\r\n<!-- Created with matplotlib (https://matplotlib.org/) -->\r\n<svg height=\"524.117344pt\" version=\"1.1\" viewBox=\"0 0 879.490438 524.117344\" width=\"879.490438pt\" xmlns=\"http://www.w3.org/2000/svg\" xmlns:xlink=\"http://www.w3.org/1999/xlink\">\r\n <metadata>\r\n  <rdf:RDF xmlns:cc=\"http://creativecommons.org/ns#\" xmlns:dc=\"http://purl.org/dc/elements/1.1/\" xmlns:rdf=\"http://www.w3.org/1999/02/22-rdf-syntax-ns#\">\r\n   <cc:Work>\r\n    <dc:type rdf:resource=\"http://purl.org/dc/dcmitype/StillImage\"/>\r\n    <dc:date>2021-06-09T15:51:56.594056</dc:date>\r\n    <dc:format>image/svg+xml</dc:format>\r\n    <dc:creator>\r\n     <cc:Agent>\r\n      <dc:title>Matplotlib v3.3.4, https://matplotlib.org/</dc:title>\r\n     </cc:Agent>\r\n    </dc:creator>\r\n   </cc:Work>\r\n  </rdf:RDF>\r\n </metadata>\r\n <defs>\r\n  <style type=\"text/css\">*{stroke-linecap:butt;stroke-linejoin:round;}</style>\r\n </defs>\r\n <g id=\"figure_1\">\r\n  <g id=\"patch_1\">\r\n   <path d=\"M 0 524.117344 \r\nL 879.490438 524.117344 \r\nL 879.490438 0 \r\nL 0 0 \r\nz\r\n\" style=\"fill:none;\"/>\r\n  </g>\r\n  <g id=\"axes_1\">\r\n   <g id=\"patch_2\">\r\n    <path d=\"M 57.665625 500.239219 \r\nL 771.905625 500.239219 \r\nL 771.905625 10.999219 \r\nL 57.665625 10.999219 \r\nz\r\n\" style=\"fill:#ffffff;\"/>\r\n   </g>\r\n   <g id=\"QuadMesh_1\">\r\n    <path clip-path=\"url(#p76eeb9735f)\" d=\"M 57.665625 10.999219 \r\nL 108.682768 10.999219 \r\nL 108.682768 45.944933 \r\nL 57.665625 45.944933 \r\nL 57.665625 10.999219 \r\n\" style=\"fill:#08306b;\"/>\r\n    <path clip-path=\"url(#p76eeb9735f)\" d=\"M 108.682768 10.999219 \r\nL 159.699911 10.999219 \r\nL 159.699911 45.944933 \r\nL 108.682768 45.944933 \r\nL 108.682768 10.999219 \r\n\" style=\"fill:#b5d4e9;\"/>\r\n    <path clip-path=\"url(#p76eeb9735f)\" d=\"M 159.699911 10.999219 \r\nL 210.717054 10.999219 \r\nL 210.717054 45.944933 \r\nL 159.699911 45.944933 \r\nL 159.699911 10.999219 \r\n\" style=\"fill:#afd1e7;\"/>\r\n    <path clip-path=\"url(#p76eeb9735f)\" d=\"M 210.717054 10.999219 \r\nL 261.734196 10.999219 \r\nL 261.734196 45.944933 \r\nL 210.717054 45.944933 \r\nL 210.717054 10.999219 \r\n\" style=\"fill:#5ca4d0;\"/>\r\n    <path clip-path=\"url(#p76eeb9735f)\" d=\"M 261.734196 10.999219 \r\nL 312.751339 10.999219 \r\nL 312.751339 45.944933 \r\nL 261.734196 45.944933 \r\nL 261.734196 10.999219 \r\n\" style=\"fill:#6aaed6;\"/>\r\n    <path clip-path=\"url(#p76eeb9735f)\" d=\"M 312.751339 10.999219 \r\nL 363.768482 10.999219 \r\nL 363.768482 45.944933 \r\nL 312.751339 45.944933 \r\nL 312.751339 10.999219 \r\n\" style=\"fill:#82bbdb;\"/>\r\n    <path clip-path=\"url(#p76eeb9735f)\" d=\"M 363.768482 10.999219 \r\nL 414.785625 10.999219 \r\nL 414.785625 45.944933 \r\nL 363.768482 45.944933 \r\nL 363.768482 10.999219 \r\n\" style=\"fill:#b9d6ea;\"/>\r\n    <path clip-path=\"url(#p76eeb9735f)\" d=\"M 414.785625 10.999219 \r\nL 465.802768 10.999219 \r\nL 465.802768 45.944933 \r\nL 414.785625 45.944933 \r\nL 414.785625 10.999219 \r\n\" style=\"fill:#e0ecf8;\"/>\r\n    <path clip-path=\"url(#p76eeb9735f)\" d=\"M 465.802768 10.999219 \r\nL 516.819911 10.999219 \r\nL 516.819911 45.944933 \r\nL 465.802768 45.944933 \r\nL 465.802768 10.999219 \r\n\" style=\"fill:#89bedc;\"/>\r\n    <path clip-path=\"url(#p76eeb9735f)\" d=\"M 516.819911 10.999219 \r\nL 567.837054 10.999219 \r\nL 567.837054 45.944933 \r\nL 516.819911 45.944933 \r\nL 516.819911 10.999219 \r\n\" style=\"fill:#6caed6;\"/>\r\n    <path clip-path=\"url(#p76eeb9735f)\" d=\"M 567.837054 10.999219 \r\nL 618.854196 10.999219 \r\nL 618.854196 45.944933 \r\nL 567.837054 45.944933 \r\nL 567.837054 10.999219 \r\n\" style=\"fill:#c3daee;\"/>\r\n    <path clip-path=\"url(#p76eeb9735f)\" d=\"M 618.854196 10.999219 \r\nL 669.871339 10.999219 \r\nL 669.871339 45.944933 \r\nL 618.854196 45.944933 \r\nL 618.854196 10.999219 \r\n\" style=\"fill:#5da5d1;\"/>\r\n    <path clip-path=\"url(#p76eeb9735f)\" d=\"M 669.871339 10.999219 \r\nL 720.888482 10.999219 \r\nL 720.888482 45.944933 \r\nL 669.871339 45.944933 \r\nL 669.871339 10.999219 \r\n\" style=\"fill:#91c3de;\"/>\r\n    <path clip-path=\"url(#p76eeb9735f)\" d=\"M 720.888482 10.999219 \r\nL 771.905625 10.999219 \r\nL 771.905625 45.944933 \r\nL 720.888482 45.944933 \r\nL 720.888482 10.999219 \r\n\" style=\"fill:#cbdef1;\"/>\r\n    <path clip-path=\"url(#p76eeb9735f)\" d=\"M 57.665625 45.944933 \r\nL 108.682768 45.944933 \r\nL 108.682768 80.890647 \r\nL 57.665625 80.890647 \r\nL 57.665625 45.944933 \r\n\" style=\"fill:#b5d4e9;\"/>\r\n    <path clip-path=\"url(#p76eeb9735f)\" d=\"M 108.682768 45.944933 \r\nL 159.699911 45.944933 \r\nL 159.699911 80.890647 \r\nL 108.682768 80.890647 \r\nL 108.682768 45.944933 \r\n\" style=\"fill:#08306b;\"/>\r\n    <path clip-path=\"url(#p76eeb9735f)\" d=\"M 159.699911 45.944933 \r\nL 210.717054 45.944933 \r\nL 210.717054 80.890647 \r\nL 159.699911 80.890647 \r\nL 159.699911 45.944933 \r\n\" style=\"fill:#abd0e6;\"/>\r\n    <path clip-path=\"url(#p76eeb9735f)\" d=\"M 210.717054 45.944933 \r\nL 261.734196 45.944933 \r\nL 261.734196 80.890647 \r\nL 210.717054 80.890647 \r\nL 210.717054 45.944933 \r\n\" style=\"fill:#add0e6;\"/>\r\n    <path clip-path=\"url(#p76eeb9735f)\" d=\"M 261.734196 45.944933 \r\nL 312.751339 45.944933 \r\nL 312.751339 80.890647 \r\nL 261.734196 80.890647 \r\nL 261.734196 45.944933 \r\n\" style=\"fill:#c8dcf0;\"/>\r\n    <path clip-path=\"url(#p76eeb9735f)\" d=\"M 312.751339 45.944933 \r\nL 363.768482 45.944933 \r\nL 363.768482 80.890647 \r\nL 312.751339 80.890647 \r\nL 312.751339 45.944933 \r\n\" style=\"fill:#95c5df;\"/>\r\n    <path clip-path=\"url(#p76eeb9735f)\" d=\"M 363.768482 45.944933 \r\nL 414.785625 45.944933 \r\nL 414.785625 80.890647 \r\nL 363.768482 80.890647 \r\nL 363.768482 45.944933 \r\n\" style=\"fill:#add0e6;\"/>\r\n    <path clip-path=\"url(#p76eeb9735f)\" d=\"M 414.785625 45.944933 \r\nL 465.802768 45.944933 \r\nL 465.802768 80.890647 \r\nL 414.785625 80.890647 \r\nL 414.785625 45.944933 \r\n\" style=\"fill:#aacfe5;\"/>\r\n    <path clip-path=\"url(#p76eeb9735f)\" d=\"M 465.802768 45.944933 \r\nL 516.819911 45.944933 \r\nL 516.819911 80.890647 \r\nL 465.802768 80.890647 \r\nL 465.802768 45.944933 \r\n\" style=\"fill:#7db8da;\"/>\r\n    <path clip-path=\"url(#p76eeb9735f)\" d=\"M 516.819911 45.944933 \r\nL 567.837054 45.944933 \r\nL 567.837054 80.890647 \r\nL 516.819911 80.890647 \r\nL 516.819911 45.944933 \r\n\" style=\"fill:#89bedc;\"/>\r\n    <path clip-path=\"url(#p76eeb9735f)\" d=\"M 567.837054 45.944933 \r\nL 618.854196 45.944933 \r\nL 618.854196 80.890647 \r\nL 567.837054 80.890647 \r\nL 567.837054 45.944933 \r\n\" style=\"fill:#a8cee4;\"/>\r\n    <path clip-path=\"url(#p76eeb9735f)\" d=\"M 618.854196 45.944933 \r\nL 669.871339 45.944933 \r\nL 669.871339 80.890647 \r\nL 618.854196 80.890647 \r\nL 618.854196 45.944933 \r\n\" style=\"fill:#84bcdb;\"/>\r\n    <path clip-path=\"url(#p76eeb9735f)\" d=\"M 669.871339 45.944933 \r\nL 720.888482 45.944933 \r\nL 720.888482 80.890647 \r\nL 669.871339 80.890647 \r\nL 669.871339 45.944933 \r\n\" style=\"fill:#6caed6;\"/>\r\n    <path clip-path=\"url(#p76eeb9735f)\" d=\"M 720.888482 45.944933 \r\nL 771.905625 45.944933 \r\nL 771.905625 80.890647 \r\nL 720.888482 80.890647 \r\nL 720.888482 45.944933 \r\n\" style=\"fill:#d2e3f3;\"/>\r\n    <path clip-path=\"url(#p76eeb9735f)\" d=\"M 57.665625 80.890647 \r\nL 108.682768 80.890647 \r\nL 108.682768 115.836362 \r\nL 57.665625 115.836362 \r\nL 57.665625 80.890647 \r\n\" style=\"fill:#afd1e7;\"/>\r\n    <path clip-path=\"url(#p76eeb9735f)\" d=\"M 108.682768 80.890647 \r\nL 159.699911 80.890647 \r\nL 159.699911 115.836362 \r\nL 108.682768 115.836362 \r\nL 108.682768 80.890647 \r\n\" style=\"fill:#abd0e6;\"/>\r\n    <path clip-path=\"url(#p76eeb9735f)\" d=\"M 159.699911 80.890647 \r\nL 210.717054 80.890647 \r\nL 210.717054 115.836362 \r\nL 159.699911 115.836362 \r\nL 159.699911 80.890647 \r\n\" style=\"fill:#08306b;\"/>\r\n    <path clip-path=\"url(#p76eeb9735f)\" d=\"M 210.717054 80.890647 \r\nL 261.734196 80.890647 \r\nL 261.734196 115.836362 \r\nL 210.717054 115.836362 \r\nL 210.717054 80.890647 \r\n\" style=\"fill:#95c5df;\"/>\r\n    <path clip-path=\"url(#p76eeb9735f)\" d=\"M 261.734196 80.890647 \r\nL 312.751339 80.890647 \r\nL 312.751339 115.836362 \r\nL 261.734196 115.836362 \r\nL 261.734196 80.890647 \r\n\" style=\"fill:#b0d2e7;\"/>\r\n    <path clip-path=\"url(#p76eeb9735f)\" d=\"M 312.751339 80.890647 \r\nL 363.768482 80.890647 \r\nL 363.768482 115.836362 \r\nL 312.751339 115.836362 \r\nL 312.751339 80.890647 \r\n\" style=\"fill:#89bedc;\"/>\r\n    <path clip-path=\"url(#p76eeb9735f)\" d=\"M 363.768482 80.890647 \r\nL 414.785625 80.890647 \r\nL 414.785625 115.836362 \r\nL 363.768482 115.836362 \r\nL 363.768482 80.890647 \r\n\" style=\"fill:#97c6df;\"/>\r\n    <path clip-path=\"url(#p76eeb9735f)\" d=\"M 414.785625 80.890647 \r\nL 465.802768 80.890647 \r\nL 465.802768 115.836362 \r\nL 414.785625 115.836362 \r\nL 414.785625 80.890647 \r\n\" style=\"fill:#5aa2cf;\"/>\r\n    <path clip-path=\"url(#p76eeb9735f)\" d=\"M 465.802768 80.890647 \r\nL 516.819911 80.890647 \r\nL 516.819911 115.836362 \r\nL 465.802768 115.836362 \r\nL 465.802768 80.890647 \r\n\" style=\"fill:#e0ecf8;\"/>\r\n    <path clip-path=\"url(#p76eeb9735f)\" d=\"M 516.819911 80.890647 \r\nL 567.837054 80.890647 \r\nL 567.837054 115.836362 \r\nL 516.819911 115.836362 \r\nL 516.819911 80.890647 \r\n\" style=\"fill:#bfd8ed;\"/>\r\n    <path clip-path=\"url(#p76eeb9735f)\" d=\"M 567.837054 80.890647 \r\nL 618.854196 80.890647 \r\nL 618.854196 115.836362 \r\nL 567.837054 115.836362 \r\nL 567.837054 80.890647 \r\n\" style=\"fill:#82bbdb;\"/>\r\n    <path clip-path=\"url(#p76eeb9735f)\" d=\"M 618.854196 80.890647 \r\nL 669.871339 80.890647 \r\nL 669.871339 115.836362 \r\nL 618.854196 115.836362 \r\nL 618.854196 80.890647 \r\n\" style=\"fill:#c6dbef;\"/>\r\n    <path clip-path=\"url(#p76eeb9735f)\" d=\"M 669.871339 80.890647 \r\nL 720.888482 80.890647 \r\nL 720.888482 115.836362 \r\nL 669.871339 115.836362 \r\nL 669.871339 80.890647 \r\n\" style=\"fill:#c2d9ee;\"/>\r\n    <path clip-path=\"url(#p76eeb9735f)\" d=\"M 720.888482 80.890647 \r\nL 771.905625 80.890647 \r\nL 771.905625 115.836362 \r\nL 720.888482 115.836362 \r\nL 720.888482 80.890647 \r\n\" style=\"fill:#3d8dc4;\"/>\r\n    <path clip-path=\"url(#p76eeb9735f)\" d=\"M 57.665625 115.836362 \r\nL 108.682768 115.836362 \r\nL 108.682768 150.782076 \r\nL 57.665625 150.782076 \r\nL 57.665625 115.836362 \r\n\" style=\"fill:#5ca4d0;\"/>\r\n    <path clip-path=\"url(#p76eeb9735f)\" d=\"M 108.682768 115.836362 \r\nL 159.699911 115.836362 \r\nL 159.699911 150.782076 \r\nL 108.682768 150.782076 \r\nL 108.682768 115.836362 \r\n\" style=\"fill:#add0e6;\"/>\r\n    <path clip-path=\"url(#p76eeb9735f)\" d=\"M 159.699911 115.836362 \r\nL 210.717054 115.836362 \r\nL 210.717054 150.782076 \r\nL 159.699911 150.782076 \r\nL 159.699911 115.836362 \r\n\" style=\"fill:#95c5df;\"/>\r\n    <path clip-path=\"url(#p76eeb9735f)\" d=\"M 210.717054 115.836362 \r\nL 261.734196 115.836362 \r\nL 261.734196 150.782076 \r\nL 210.717054 150.782076 \r\nL 210.717054 115.836362 \r\n\" style=\"fill:#08306b;\"/>\r\n    <path clip-path=\"url(#p76eeb9735f)\" d=\"M 261.734196 115.836362 \r\nL 312.751339 115.836362 \r\nL 312.751339 150.782076 \r\nL 261.734196 150.782076 \r\nL 261.734196 115.836362 \r\n\" style=\"fill:#82bbdb;\"/>\r\n    <path clip-path=\"url(#p76eeb9735f)\" d=\"M 312.751339 115.836362 \r\nL 363.768482 115.836362 \r\nL 363.768482 150.782076 \r\nL 312.751339 150.782076 \r\nL 312.751339 115.836362 \r\n\" style=\"fill:#74b3d8;\"/>\r\n    <path clip-path=\"url(#p76eeb9735f)\" d=\"M 363.768482 115.836362 \r\nL 414.785625 115.836362 \r\nL 414.785625 150.782076 \r\nL 363.768482 150.782076 \r\nL 363.768482 115.836362 \r\n\" style=\"fill:#b8d5ea;\"/>\r\n    <path clip-path=\"url(#p76eeb9735f)\" d=\"M 414.785625 115.836362 \r\nL 465.802768 115.836362 \r\nL 465.802768 150.782076 \r\nL 414.785625 150.782076 \r\nL 414.785625 115.836362 \r\n\" style=\"fill:#aacfe5;\"/>\r\n    <path clip-path=\"url(#p76eeb9735f)\" d=\"M 465.802768 115.836362 \r\nL 516.819911 115.836362 \r\nL 516.819911 150.782076 \r\nL 465.802768 150.782076 \r\nL 465.802768 115.836362 \r\n\" style=\"fill:#91c3de;\"/>\r\n    <path clip-path=\"url(#p76eeb9735f)\" d=\"M 516.819911 115.836362 \r\nL 567.837054 115.836362 \r\nL 567.837054 150.782076 \r\nL 516.819911 150.782076 \r\nL 516.819911 115.836362 \r\n\" style=\"fill:#6fb0d7;\"/>\r\n    <path clip-path=\"url(#p76eeb9735f)\" d=\"M 567.837054 115.836362 \r\nL 618.854196 115.836362 \r\nL 618.854196 150.782076 \r\nL 567.837054 150.782076 \r\nL 567.837054 115.836362 \r\n\" style=\"fill:#b9d6ea;\"/>\r\n    <path clip-path=\"url(#p76eeb9735f)\" d=\"M 618.854196 115.836362 \r\nL 669.871339 115.836362 \r\nL 669.871339 150.782076 \r\nL 618.854196 150.782076 \r\nL 618.854196 115.836362 \r\n\" style=\"fill:#87bddc;\"/>\r\n    <path clip-path=\"url(#p76eeb9735f)\" d=\"M 669.871339 115.836362 \r\nL 720.888482 115.836362 \r\nL 720.888482 150.782076 \r\nL 669.871339 150.782076 \r\nL 669.871339 115.836362 \r\n\" style=\"fill:#92c4de;\"/>\r\n    <path clip-path=\"url(#p76eeb9735f)\" d=\"M 720.888482 115.836362 \r\nL 771.905625 115.836362 \r\nL 771.905625 150.782076 \r\nL 720.888482 150.782076 \r\nL 720.888482 115.836362 \r\n\" style=\"fill:#bed8ec;\"/>\r\n    <path clip-path=\"url(#p76eeb9735f)\" d=\"M 57.665625 150.782076 \r\nL 108.682768 150.782076 \r\nL 108.682768 185.72779 \r\nL 57.665625 185.72779 \r\nL 57.665625 150.782076 \r\n\" style=\"fill:#6aaed6;\"/>\r\n    <path clip-path=\"url(#p76eeb9735f)\" d=\"M 108.682768 150.782076 \r\nL 159.699911 150.782076 \r\nL 159.699911 185.72779 \r\nL 108.682768 185.72779 \r\nL 108.682768 150.782076 \r\n\" style=\"fill:#c8dcf0;\"/>\r\n    <path clip-path=\"url(#p76eeb9735f)\" d=\"M 159.699911 150.782076 \r\nL 210.717054 150.782076 \r\nL 210.717054 185.72779 \r\nL 159.699911 185.72779 \r\nL 159.699911 150.782076 \r\n\" style=\"fill:#b0d2e7;\"/>\r\n    <path clip-path=\"url(#p76eeb9735f)\" d=\"M 210.717054 150.782076 \r\nL 261.734196 150.782076 \r\nL 261.734196 185.72779 \r\nL 210.717054 185.72779 \r\nL 210.717054 150.782076 \r\n\" style=\"fill:#82bbdb;\"/>\r\n    <path clip-path=\"url(#p76eeb9735f)\" d=\"M 261.734196 150.782076 \r\nL 312.751339 150.782076 \r\nL 312.751339 185.72779 \r\nL 261.734196 185.72779 \r\nL 261.734196 150.782076 \r\n\" style=\"fill:#08306b;\"/>\r\n    <path clip-path=\"url(#p76eeb9735f)\" d=\"M 312.751339 150.782076 \r\nL 363.768482 150.782076 \r\nL 363.768482 185.72779 \r\nL 312.751339 185.72779 \r\nL 312.751339 150.782076 \r\n\" style=\"fill:#9fcae1;\"/>\r\n    <path clip-path=\"url(#p76eeb9735f)\" d=\"M 363.768482 150.782076 \r\nL 414.785625 150.782076 \r\nL 414.785625 185.72779 \r\nL 363.768482 185.72779 \r\nL 363.768482 150.782076 \r\n\" style=\"fill:#bfd8ed;\"/>\r\n    <path clip-path=\"url(#p76eeb9735f)\" d=\"M 414.785625 150.782076 \r\nL 465.802768 150.782076 \r\nL 465.802768 185.72779 \r\nL 414.785625 185.72779 \r\nL 414.785625 150.782076 \r\n\" style=\"fill:#a3cce3;\"/>\r\n    <path clip-path=\"url(#p76eeb9735f)\" d=\"M 465.802768 150.782076 \r\nL 516.819911 150.782076 \r\nL 516.819911 185.72779 \r\nL 465.802768 185.72779 \r\nL 465.802768 150.782076 \r\n\" style=\"fill:#91c3de;\"/>\r\n    <path clip-path=\"url(#p76eeb9735f)\" d=\"M 516.819911 150.782076 \r\nL 567.837054 150.782076 \r\nL 567.837054 185.72779 \r\nL 516.819911 185.72779 \r\nL 516.819911 150.782076 \r\n\" style=\"fill:#94c4df;\"/>\r\n    <path clip-path=\"url(#p76eeb9735f)\" d=\"M 567.837054 150.782076 \r\nL 618.854196 150.782076 \r\nL 618.854196 185.72779 \r\nL 567.837054 185.72779 \r\nL 567.837054 150.782076 \r\n\" style=\"fill:#a1cbe2;\"/>\r\n    <path clip-path=\"url(#p76eeb9735f)\" d=\"M 618.854196 150.782076 \r\nL 669.871339 150.782076 \r\nL 669.871339 185.72779 \r\nL 618.854196 185.72779 \r\nL 618.854196 150.782076 \r\n\" style=\"fill:#8fc2de;\"/>\r\n    <path clip-path=\"url(#p76eeb9735f)\" d=\"M 669.871339 150.782076 \r\nL 720.888482 150.782076 \r\nL 720.888482 185.72779 \r\nL 669.871339 185.72779 \r\nL 669.871339 150.782076 \r\n\" style=\"fill:#89bedc;\"/>\r\n    <path clip-path=\"url(#p76eeb9735f)\" d=\"M 720.888482 150.782076 \r\nL 771.905625 150.782076 \r\nL 771.905625 185.72779 \r\nL 720.888482 185.72779 \r\nL 720.888482 150.782076 \r\n\" style=\"fill:#b3d3e8;\"/>\r\n    <path clip-path=\"url(#p76eeb9735f)\" d=\"M 57.665625 185.72779 \r\nL 108.682768 185.72779 \r\nL 108.682768 220.673504 \r\nL 57.665625 220.673504 \r\nL 57.665625 185.72779 \r\n\" style=\"fill:#82bbdb;\"/>\r\n    <path clip-path=\"url(#p76eeb9735f)\" d=\"M 108.682768 185.72779 \r\nL 159.699911 185.72779 \r\nL 159.699911 220.673504 \r\nL 108.682768 220.673504 \r\nL 108.682768 185.72779 \r\n\" style=\"fill:#95c5df;\"/>\r\n    <path clip-path=\"url(#p76eeb9735f)\" d=\"M 159.699911 185.72779 \r\nL 210.717054 185.72779 \r\nL 210.717054 220.673504 \r\nL 159.699911 220.673504 \r\nL 159.699911 185.72779 \r\n\" style=\"fill:#89bedc;\"/>\r\n    <path clip-path=\"url(#p76eeb9735f)\" d=\"M 210.717054 185.72779 \r\nL 261.734196 185.72779 \r\nL 261.734196 220.673504 \r\nL 210.717054 220.673504 \r\nL 210.717054 185.72779 \r\n\" style=\"fill:#74b3d8;\"/>\r\n    <path clip-path=\"url(#p76eeb9735f)\" d=\"M 261.734196 185.72779 \r\nL 312.751339 185.72779 \r\nL 312.751339 220.673504 \r\nL 261.734196 220.673504 \r\nL 261.734196 185.72779 \r\n\" style=\"fill:#9fcae1;\"/>\r\n    <path clip-path=\"url(#p76eeb9735f)\" d=\"M 312.751339 185.72779 \r\nL 363.768482 185.72779 \r\nL 363.768482 220.673504 \r\nL 312.751339 220.673504 \r\nL 312.751339 185.72779 \r\n\" style=\"fill:#08306b;\"/>\r\n    <path clip-path=\"url(#p76eeb9735f)\" d=\"M 363.768482 185.72779 \r\nL 414.785625 185.72779 \r\nL 414.785625 220.673504 \r\nL 363.768482 220.673504 \r\nL 363.768482 185.72779 \r\n\" style=\"fill:#b2d2e8;\"/>\r\n    <path clip-path=\"url(#p76eeb9735f)\" d=\"M 414.785625 185.72779 \r\nL 465.802768 185.72779 \r\nL 465.802768 220.673504 \r\nL 414.785625 220.673504 \r\nL 414.785625 185.72779 \r\n\" style=\"fill:#a3cce3;\"/>\r\n    <path clip-path=\"url(#p76eeb9735f)\" d=\"M 465.802768 185.72779 \r\nL 516.819911 185.72779 \r\nL 516.819911 220.673504 \r\nL 465.802768 220.673504 \r\nL 465.802768 185.72779 \r\n\" style=\"fill:#9cc9e1;\"/>\r\n    <path clip-path=\"url(#p76eeb9735f)\" d=\"M 516.819911 185.72779 \r\nL 567.837054 185.72779 \r\nL 567.837054 220.673504 \r\nL 516.819911 220.673504 \r\nL 516.819911 185.72779 \r\n\" style=\"fill:#a0cbe2;\"/>\r\n    <path clip-path=\"url(#p76eeb9735f)\" d=\"M 567.837054 185.72779 \r\nL 618.854196 185.72779 \r\nL 618.854196 220.673504 \r\nL 567.837054 220.673504 \r\nL 567.837054 185.72779 \r\n\" style=\"fill:#add0e6;\"/>\r\n    <path clip-path=\"url(#p76eeb9735f)\" d=\"M 618.854196 185.72779 \r\nL 669.871339 185.72779 \r\nL 669.871339 220.673504 \r\nL 618.854196 220.673504 \r\nL 618.854196 185.72779 \r\n\" style=\"fill:#7db8da;\"/>\r\n    <path clip-path=\"url(#p76eeb9735f)\" d=\"M 669.871339 185.72779 \r\nL 720.888482 185.72779 \r\nL 720.888482 220.673504 \r\nL 669.871339 220.673504 \r\nL 669.871339 185.72779 \r\n\" style=\"fill:#a8cee4;\"/>\r\n    <path clip-path=\"url(#p76eeb9735f)\" d=\"M 720.888482 185.72779 \r\nL 771.905625 185.72779 \r\nL 771.905625 220.673504 \r\nL 720.888482 220.673504 \r\nL 720.888482 185.72779 \r\n\" style=\"fill:#a6cee4;\"/>\r\n    <path clip-path=\"url(#p76eeb9735f)\" d=\"M 57.665625 220.673504 \r\nL 108.682768 220.673504 \r\nL 108.682768 255.619219 \r\nL 57.665625 255.619219 \r\nL 57.665625 220.673504 \r\n\" style=\"fill:#b9d6ea;\"/>\r\n    <path clip-path=\"url(#p76eeb9735f)\" d=\"M 108.682768 220.673504 \r\nL 159.699911 220.673504 \r\nL 159.699911 255.619219 \r\nL 108.682768 255.619219 \r\nL 108.682768 220.673504 \r\n\" style=\"fill:#add0e6;\"/>\r\n    <path clip-path=\"url(#p76eeb9735f)\" d=\"M 159.699911 220.673504 \r\nL 210.717054 220.673504 \r\nL 210.717054 255.619219 \r\nL 159.699911 255.619219 \r\nL 159.699911 220.673504 \r\n\" style=\"fill:#97c6df;\"/>\r\n    <path clip-path=\"url(#p76eeb9735f)\" d=\"M 210.717054 220.673504 \r\nL 261.734196 220.673504 \r\nL 261.734196 255.619219 \r\nL 210.717054 255.619219 \r\nL 210.717054 220.673504 \r\n\" style=\"fill:#b8d5ea;\"/>\r\n    <path clip-path=\"url(#p76eeb9735f)\" d=\"M 261.734196 220.673504 \r\nL 312.751339 220.673504 \r\nL 312.751339 255.619219 \r\nL 261.734196 255.619219 \r\nL 261.734196 220.673504 \r\n\" style=\"fill:#bfd8ed;\"/>\r\n    <path clip-path=\"url(#p76eeb9735f)\" d=\"M 312.751339 220.673504 \r\nL 363.768482 220.673504 \r\nL 363.768482 255.619219 \r\nL 312.751339 255.619219 \r\nL 312.751339 220.673504 \r\n\" style=\"fill:#b2d2e8;\"/>\r\n    <path clip-path=\"url(#p76eeb9735f)\" d=\"M 363.768482 220.673504 \r\nL 414.785625 220.673504 \r\nL 414.785625 255.619219 \r\nL 363.768482 255.619219 \r\nL 363.768482 220.673504 \r\n\" style=\"fill:#08306b;\"/>\r\n    <path clip-path=\"url(#p76eeb9735f)\" d=\"M 414.785625 220.673504 \r\nL 465.802768 220.673504 \r\nL 465.802768 255.619219 \r\nL 414.785625 255.619219 \r\nL 414.785625 220.673504 \r\n\" style=\"fill:#97c6df;\"/>\r\n    <path clip-path=\"url(#p76eeb9735f)\" d=\"M 465.802768 220.673504 \r\nL 516.819911 220.673504 \r\nL 516.819911 255.619219 \r\nL 465.802768 255.619219 \r\nL 465.802768 220.673504 \r\n\" style=\"fill:#afd1e7;\"/>\r\n    <path clip-path=\"url(#p76eeb9735f)\" d=\"M 516.819911 220.673504 \r\nL 567.837054 220.673504 \r\nL 567.837054 255.619219 \r\nL 516.819911 255.619219 \r\nL 516.819911 220.673504 \r\n\" style=\"fill:#add0e6;\"/>\r\n    <path clip-path=\"url(#p76eeb9735f)\" d=\"M 567.837054 220.673504 \r\nL 618.854196 220.673504 \r\nL 618.854196 255.619219 \r\nL 567.837054 255.619219 \r\nL 567.837054 220.673504 \r\n\" style=\"fill:#8abfdd;\"/>\r\n    <path clip-path=\"url(#p76eeb9735f)\" d=\"M 618.854196 220.673504 \r\nL 669.871339 220.673504 \r\nL 669.871339 255.619219 \r\nL 618.854196 255.619219 \r\nL 618.854196 220.673504 \r\n\" style=\"fill:#afd1e7;\"/>\r\n    <path clip-path=\"url(#p76eeb9735f)\" d=\"M 669.871339 220.673504 \r\nL 720.888482 220.673504 \r\nL 720.888482 255.619219 \r\nL 669.871339 255.619219 \r\nL 669.871339 220.673504 \r\n\" style=\"fill:#a4cce3;\"/>\r\n    <path clip-path=\"url(#p76eeb9735f)\" d=\"M 720.888482 220.673504 \r\nL 771.905625 220.673504 \r\nL 771.905625 255.619219 \r\nL 720.888482 255.619219 \r\nL 720.888482 220.673504 \r\n\" style=\"fill:#7fb9da;\"/>\r\n    <path clip-path=\"url(#p76eeb9735f)\" d=\"M 57.665625 255.619219 \r\nL 108.682768 255.619219 \r\nL 108.682768 290.564933 \r\nL 57.665625 290.564933 \r\nL 57.665625 255.619219 \r\n\" style=\"fill:#e0ecf8;\"/>\r\n    <path clip-path=\"url(#p76eeb9735f)\" d=\"M 108.682768 255.619219 \r\nL 159.699911 255.619219 \r\nL 159.699911 290.564933 \r\nL 108.682768 290.564933 \r\nL 108.682768 255.619219 \r\n\" style=\"fill:#aacfe5;\"/>\r\n    <path clip-path=\"url(#p76eeb9735f)\" d=\"M 159.699911 255.619219 \r\nL 210.717054 255.619219 \r\nL 210.717054 290.564933 \r\nL 159.699911 290.564933 \r\nL 159.699911 255.619219 \r\n\" style=\"fill:#5aa2cf;\"/>\r\n    <path clip-path=\"url(#p76eeb9735f)\" d=\"M 210.717054 255.619219 \r\nL 261.734196 255.619219 \r\nL 261.734196 290.564933 \r\nL 210.717054 290.564933 \r\nL 210.717054 255.619219 \r\n\" style=\"fill:#aacfe5;\"/>\r\n    <path clip-path=\"url(#p76eeb9735f)\" d=\"M 261.734196 255.619219 \r\nL 312.751339 255.619219 \r\nL 312.751339 290.564933 \r\nL 261.734196 290.564933 \r\nL 261.734196 255.619219 \r\n\" style=\"fill:#a3cce3;\"/>\r\n    <path clip-path=\"url(#p76eeb9735f)\" d=\"M 312.751339 255.619219 \r\nL 363.768482 255.619219 \r\nL 363.768482 290.564933 \r\nL 312.751339 290.564933 \r\nL 312.751339 255.619219 \r\n\" style=\"fill:#a3cce3;\"/>\r\n    <path clip-path=\"url(#p76eeb9735f)\" d=\"M 363.768482 255.619219 \r\nL 414.785625 255.619219 \r\nL 414.785625 290.564933 \r\nL 363.768482 290.564933 \r\nL 363.768482 255.619219 \r\n\" style=\"fill:#97c6df;\"/>\r\n    <path clip-path=\"url(#p76eeb9735f)\" d=\"M 414.785625 255.619219 \r\nL 465.802768 255.619219 \r\nL 465.802768 290.564933 \r\nL 414.785625 290.564933 \r\nL 414.785625 255.619219 \r\n\" style=\"fill:#08306b;\"/>\r\n    <path clip-path=\"url(#p76eeb9735f)\" d=\"M 465.802768 255.619219 \r\nL 516.819911 255.619219 \r\nL 516.819911 290.564933 \r\nL 465.802768 290.564933 \r\nL 465.802768 255.619219 \r\n\" style=\"fill:#deebf7;\"/>\r\n    <path clip-path=\"url(#p76eeb9735f)\" d=\"M 516.819911 255.619219 \r\nL 567.837054 255.619219 \r\nL 567.837054 290.564933 \r\nL 516.819911 290.564933 \r\nL 516.819911 255.619219 \r\n\" style=\"fill:#dae8f6;\"/>\r\n    <path clip-path=\"url(#p76eeb9735f)\" d=\"M 567.837054 255.619219 \r\nL 618.854196 255.619219 \r\nL 618.854196 290.564933 \r\nL 567.837054 290.564933 \r\nL 567.837054 255.619219 \r\n\" style=\"fill:#4695c8;\"/>\r\n    <path clip-path=\"url(#p76eeb9735f)\" d=\"M 618.854196 255.619219 \r\nL 669.871339 255.619219 \r\nL 669.871339 290.564933 \r\nL 618.854196 290.564933 \r\nL 618.854196 255.619219 \r\n\" style=\"fill:#caddf0;\"/>\r\n    <path clip-path=\"url(#p76eeb9735f)\" d=\"M 669.871339 255.619219 \r\nL 720.888482 255.619219 \r\nL 720.888482 290.564933 \r\nL 669.871339 290.564933 \r\nL 669.871339 255.619219 \r\n\" style=\"fill:#b4d3e9;\"/>\r\n    <path clip-path=\"url(#p76eeb9735f)\" d=\"M 720.888482 255.619219 \r\nL 771.905625 255.619219 \r\nL 771.905625 290.564933 \r\nL 720.888482 290.564933 \r\nL 720.888482 255.619219 \r\n\" style=\"fill:#3f8fc5;\"/>\r\n    <path clip-path=\"url(#p76eeb9735f)\" d=\"M 57.665625 290.564933 \r\nL 108.682768 290.564933 \r\nL 108.682768 325.510647 \r\nL 57.665625 325.510647 \r\nL 57.665625 290.564933 \r\n\" style=\"fill:#89bedc;\"/>\r\n    <path clip-path=\"url(#p76eeb9735f)\" d=\"M 108.682768 290.564933 \r\nL 159.699911 290.564933 \r\nL 159.699911 325.510647 \r\nL 108.682768 325.510647 \r\nL 108.682768 290.564933 \r\n\" style=\"fill:#7db8da;\"/>\r\n    <path clip-path=\"url(#p76eeb9735f)\" d=\"M 159.699911 290.564933 \r\nL 210.717054 290.564933 \r\nL 210.717054 325.510647 \r\nL 159.699911 325.510647 \r\nL 159.699911 290.564933 \r\n\" style=\"fill:#e0ecf8;\"/>\r\n    <path clip-path=\"url(#p76eeb9735f)\" d=\"M 210.717054 290.564933 \r\nL 261.734196 290.564933 \r\nL 261.734196 325.510647 \r\nL 210.717054 325.510647 \r\nL 210.717054 290.564933 \r\n\" style=\"fill:#91c3de;\"/>\r\n    <path clip-path=\"url(#p76eeb9735f)\" d=\"M 261.734196 290.564933 \r\nL 312.751339 290.564933 \r\nL 312.751339 325.510647 \r\nL 261.734196 325.510647 \r\nL 261.734196 290.564933 \r\n\" style=\"fill:#91c3de;\"/>\r\n    <path clip-path=\"url(#p76eeb9735f)\" d=\"M 312.751339 290.564933 \r\nL 363.768482 290.564933 \r\nL 363.768482 325.510647 \r\nL 312.751339 325.510647 \r\nL 312.751339 290.564933 \r\n\" style=\"fill:#9cc9e1;\"/>\r\n    <path clip-path=\"url(#p76eeb9735f)\" d=\"M 363.768482 290.564933 \r\nL 414.785625 290.564933 \r\nL 414.785625 325.510647 \r\nL 363.768482 325.510647 \r\nL 363.768482 290.564933 \r\n\" style=\"fill:#afd1e7;\"/>\r\n    <path clip-path=\"url(#p76eeb9735f)\" d=\"M 414.785625 290.564933 \r\nL 465.802768 290.564933 \r\nL 465.802768 325.510647 \r\nL 414.785625 325.510647 \r\nL 414.785625 290.564933 \r\n\" style=\"fill:#deebf7;\"/>\r\n    <path clip-path=\"url(#p76eeb9735f)\" d=\"M 465.802768 290.564933 \r\nL 516.819911 290.564933 \r\nL 516.819911 325.510647 \r\nL 465.802768 325.510647 \r\nL 465.802768 290.564933 \r\n\" style=\"fill:#08306b;\"/>\r\n    <path clip-path=\"url(#p76eeb9735f)\" d=\"M 516.819911 290.564933 \r\nL 567.837054 290.564933 \r\nL 567.837054 325.510647 \r\nL 516.819911 325.510647 \r\nL 516.819911 290.564933 \r\n\" style=\"fill:#5ba3d0;\"/>\r\n    <path clip-path=\"url(#p76eeb9735f)\" d=\"M 567.837054 290.564933 \r\nL 618.854196 290.564933 \r\nL 618.854196 325.510647 \r\nL 567.837054 325.510647 \r\nL 567.837054 290.564933 \r\n\" style=\"fill:#d0e1f2;\"/>\r\n    <path clip-path=\"url(#p76eeb9735f)\" d=\"M 618.854196 290.564933 \r\nL 669.871339 290.564933 \r\nL 669.871339 325.510647 \r\nL 618.854196 325.510647 \r\nL 618.854196 290.564933 \r\n\" style=\"fill:#84bcdb;\"/>\r\n    <path clip-path=\"url(#p76eeb9735f)\" d=\"M 669.871339 290.564933 \r\nL 720.888482 290.564933 \r\nL 720.888482 325.510647 \r\nL 669.871339 325.510647 \r\nL 669.871339 290.564933 \r\n\" style=\"fill:#6caed6;\"/>\r\n    <path clip-path=\"url(#p76eeb9735f)\" d=\"M 720.888482 290.564933 \r\nL 771.905625 290.564933 \r\nL 771.905625 325.510647 \r\nL 720.888482 325.510647 \r\nL 720.888482 290.564933 \r\n\" style=\"fill:#e6f0f9;\"/>\r\n    <path clip-path=\"url(#p76eeb9735f)\" d=\"M 57.665625 325.510647 \r\nL 108.682768 325.510647 \r\nL 108.682768 360.456362 \r\nL 57.665625 360.456362 \r\nL 57.665625 325.510647 \r\n\" style=\"fill:#6caed6;\"/>\r\n    <path clip-path=\"url(#p76eeb9735f)\" d=\"M 108.682768 325.510647 \r\nL 159.699911 325.510647 \r\nL 159.699911 360.456362 \r\nL 108.682768 360.456362 \r\nL 108.682768 325.510647 \r\n\" style=\"fill:#89bedc;\"/>\r\n    <path clip-path=\"url(#p76eeb9735f)\" d=\"M 159.699911 325.510647 \r\nL 210.717054 325.510647 \r\nL 210.717054 360.456362 \r\nL 159.699911 360.456362 \r\nL 159.699911 325.510647 \r\n\" style=\"fill:#bfd8ed;\"/>\r\n    <path clip-path=\"url(#p76eeb9735f)\" d=\"M 210.717054 325.510647 \r\nL 261.734196 325.510647 \r\nL 261.734196 360.456362 \r\nL 210.717054 360.456362 \r\nL 210.717054 325.510647 \r\n\" style=\"fill:#6fb0d7;\"/>\r\n    <path clip-path=\"url(#p76eeb9735f)\" d=\"M 261.734196 325.510647 \r\nL 312.751339 325.510647 \r\nL 312.751339 360.456362 \r\nL 261.734196 360.456362 \r\nL 261.734196 325.510647 \r\n\" style=\"fill:#94c4df;\"/>\r\n    <path clip-path=\"url(#p76eeb9735f)\" d=\"M 312.751339 325.510647 \r\nL 363.768482 325.510647 \r\nL 363.768482 360.456362 \r\nL 312.751339 360.456362 \r\nL 312.751339 325.510647 \r\n\" style=\"fill:#a0cbe2;\"/>\r\n    <path clip-path=\"url(#p76eeb9735f)\" d=\"M 363.768482 325.510647 \r\nL 414.785625 325.510647 \r\nL 414.785625 360.456362 \r\nL 363.768482 360.456362 \r\nL 363.768482 325.510647 \r\n\" style=\"fill:#add0e6;\"/>\r\n    <path clip-path=\"url(#p76eeb9735f)\" d=\"M 414.785625 325.510647 \r\nL 465.802768 325.510647 \r\nL 465.802768 360.456362 \r\nL 414.785625 360.456362 \r\nL 414.785625 325.510647 \r\n\" style=\"fill:#dae8f6;\"/>\r\n    <path clip-path=\"url(#p76eeb9735f)\" d=\"M 465.802768 325.510647 \r\nL 516.819911 325.510647 \r\nL 516.819911 360.456362 \r\nL 465.802768 360.456362 \r\nL 465.802768 325.510647 \r\n\" style=\"fill:#5ba3d0;\"/>\r\n    <path clip-path=\"url(#p76eeb9735f)\" d=\"M 516.819911 325.510647 \r\nL 567.837054 325.510647 \r\nL 567.837054 360.456362 \r\nL 516.819911 360.456362 \r\nL 516.819911 325.510647 \r\n\" style=\"fill:#08306b;\"/>\r\n    <path clip-path=\"url(#p76eeb9735f)\" d=\"M 567.837054 325.510647 \r\nL 618.854196 325.510647 \r\nL 618.854196 360.456362 \r\nL 567.837054 360.456362 \r\nL 567.837054 325.510647 \r\n\" style=\"fill:#f7fbff;\"/>\r\n    <path clip-path=\"url(#p76eeb9735f)\" d=\"M 618.854196 325.510647 \r\nL 669.871339 325.510647 \r\nL 669.871339 360.456362 \r\nL 618.854196 360.456362 \r\nL 618.854196 325.510647 \r\n\" style=\"fill:#69add5;\"/>\r\n    <path clip-path=\"url(#p76eeb9735f)\" d=\"M 669.871339 325.510647 \r\nL 720.888482 325.510647 \r\nL 720.888482 360.456362 \r\nL 669.871339 360.456362 \r\nL 669.871339 325.510647 \r\n\" style=\"fill:#6caed6;\"/>\r\n    <path clip-path=\"url(#p76eeb9735f)\" d=\"M 720.888482 325.510647 \r\nL 771.905625 325.510647 \r\nL 771.905625 360.456362 \r\nL 720.888482 360.456362 \r\nL 720.888482 325.510647 \r\n\" style=\"fill:#e5eff9;\"/>\r\n    <path clip-path=\"url(#p76eeb9735f)\" d=\"M 57.665625 360.456362 \r\nL 108.682768 360.456362 \r\nL 108.682768 395.402076 \r\nL 57.665625 395.402076 \r\nL 57.665625 360.456362 \r\n\" style=\"fill:#c3daee;\"/>\r\n    <path clip-path=\"url(#p76eeb9735f)\" d=\"M 108.682768 360.456362 \r\nL 159.699911 360.456362 \r\nL 159.699911 395.402076 \r\nL 108.682768 395.402076 \r\nL 108.682768 360.456362 \r\n\" style=\"fill:#a8cee4;\"/>\r\n    <path clip-path=\"url(#p76eeb9735f)\" d=\"M 159.699911 360.456362 \r\nL 210.717054 360.456362 \r\nL 210.717054 395.402076 \r\nL 159.699911 395.402076 \r\nL 159.699911 360.456362 \r\n\" style=\"fill:#82bbdb;\"/>\r\n    <path clip-path=\"url(#p76eeb9735f)\" d=\"M 210.717054 360.456362 \r\nL 261.734196 360.456362 \r\nL 261.734196 395.402076 \r\nL 210.717054 395.402076 \r\nL 210.717054 360.456362 \r\n\" style=\"fill:#b9d6ea;\"/>\r\n    <path clip-path=\"url(#p76eeb9735f)\" d=\"M 261.734196 360.456362 \r\nL 312.751339 360.456362 \r\nL 312.751339 395.402076 \r\nL 261.734196 395.402076 \r\nL 261.734196 360.456362 \r\n\" style=\"fill:#a1cbe2;\"/>\r\n    <path clip-path=\"url(#p76eeb9735f)\" d=\"M 312.751339 360.456362 \r\nL 363.768482 360.456362 \r\nL 363.768482 395.402076 \r\nL 312.751339 395.402076 \r\nL 312.751339 360.456362 \r\n\" style=\"fill:#add0e6;\"/>\r\n    <path clip-path=\"url(#p76eeb9735f)\" d=\"M 363.768482 360.456362 \r\nL 414.785625 360.456362 \r\nL 414.785625 395.402076 \r\nL 363.768482 395.402076 \r\nL 363.768482 360.456362 \r\n\" style=\"fill:#8abfdd;\"/>\r\n    <path clip-path=\"url(#p76eeb9735f)\" d=\"M 414.785625 360.456362 \r\nL 465.802768 360.456362 \r\nL 465.802768 395.402076 \r\nL 414.785625 395.402076 \r\nL 414.785625 360.456362 \r\n\" style=\"fill:#4695c8;\"/>\r\n    <path clip-path=\"url(#p76eeb9735f)\" d=\"M 465.802768 360.456362 \r\nL 516.819911 360.456362 \r\nL 516.819911 395.402076 \r\nL 465.802768 395.402076 \r\nL 465.802768 360.456362 \r\n\" style=\"fill:#d0e1f2;\"/>\r\n    <path clip-path=\"url(#p76eeb9735f)\" d=\"M 516.819911 360.456362 \r\nL 567.837054 360.456362 \r\nL 567.837054 395.402076 \r\nL 516.819911 395.402076 \r\nL 516.819911 360.456362 \r\n\" style=\"fill:#f7fbff;\"/>\r\n    <path clip-path=\"url(#p76eeb9735f)\" d=\"M 567.837054 360.456362 \r\nL 618.854196 360.456362 \r\nL 618.854196 395.402076 \r\nL 567.837054 395.402076 \r\nL 567.837054 360.456362 \r\n\" style=\"fill:#08306b;\"/>\r\n    <path clip-path=\"url(#p76eeb9735f)\" d=\"M 618.854196 360.456362 \r\nL 669.871339 360.456362 \r\nL 669.871339 395.402076 \r\nL 618.854196 395.402076 \r\nL 618.854196 360.456362 \r\n\" style=\"fill:#b2d2e8;\"/>\r\n    <path clip-path=\"url(#p76eeb9735f)\" d=\"M 669.871339 360.456362 \r\nL 720.888482 360.456362 \r\nL 720.888482 395.402076 \r\nL 669.871339 395.402076 \r\nL 669.871339 360.456362 \r\n\" style=\"fill:#b7d4ea;\"/>\r\n    <path clip-path=\"url(#p76eeb9735f)\" d=\"M 720.888482 360.456362 \r\nL 771.905625 360.456362 \r\nL 771.905625 395.402076 \r\nL 720.888482 395.402076 \r\nL 720.888482 360.456362 \r\n\" style=\"fill:#4f9bcb;\"/>\r\n    <path clip-path=\"url(#p76eeb9735f)\" d=\"M 57.665625 395.402076 \r\nL 108.682768 395.402076 \r\nL 108.682768 430.34779 \r\nL 57.665625 430.34779 \r\nL 57.665625 395.402076 \r\n\" style=\"fill:#5da5d1;\"/>\r\n    <path clip-path=\"url(#p76eeb9735f)\" d=\"M 108.682768 395.402076 \r\nL 159.699911 395.402076 \r\nL 159.699911 430.34779 \r\nL 108.682768 430.34779 \r\nL 108.682768 395.402076 \r\n\" style=\"fill:#84bcdb;\"/>\r\n    <path clip-path=\"url(#p76eeb9735f)\" d=\"M 159.699911 395.402076 \r\nL 210.717054 395.402076 \r\nL 210.717054 430.34779 \r\nL 159.699911 430.34779 \r\nL 159.699911 395.402076 \r\n\" style=\"fill:#c6dbef;\"/>\r\n    <path clip-path=\"url(#p76eeb9735f)\" d=\"M 210.717054 395.402076 \r\nL 261.734196 395.402076 \r\nL 261.734196 430.34779 \r\nL 210.717054 430.34779 \r\nL 210.717054 395.402076 \r\n\" style=\"fill:#87bddc;\"/>\r\n    <path clip-path=\"url(#p76eeb9735f)\" d=\"M 261.734196 395.402076 \r\nL 312.751339 395.402076 \r\nL 312.751339 430.34779 \r\nL 261.734196 430.34779 \r\nL 261.734196 395.402076 \r\n\" style=\"fill:#8fc2de;\"/>\r\n    <path clip-path=\"url(#p76eeb9735f)\" d=\"M 312.751339 395.402076 \r\nL 363.768482 395.402076 \r\nL 363.768482 430.34779 \r\nL 312.751339 430.34779 \r\nL 312.751339 395.402076 \r\n\" style=\"fill:#7db8da;\"/>\r\n    <path clip-path=\"url(#p76eeb9735f)\" d=\"M 363.768482 395.402076 \r\nL 414.785625 395.402076 \r\nL 414.785625 430.34779 \r\nL 363.768482 430.34779 \r\nL 363.768482 395.402076 \r\n\" style=\"fill:#afd1e7;\"/>\r\n    <path clip-path=\"url(#p76eeb9735f)\" d=\"M 414.785625 395.402076 \r\nL 465.802768 395.402076 \r\nL 465.802768 430.34779 \r\nL 414.785625 430.34779 \r\nL 414.785625 395.402076 \r\n\" style=\"fill:#caddf0;\"/>\r\n    <path clip-path=\"url(#p76eeb9735f)\" d=\"M 465.802768 395.402076 \r\nL 516.819911 395.402076 \r\nL 516.819911 430.34779 \r\nL 465.802768 430.34779 \r\nL 465.802768 395.402076 \r\n\" style=\"fill:#84bcdb;\"/>\r\n    <path clip-path=\"url(#p76eeb9735f)\" d=\"M 516.819911 395.402076 \r\nL 567.837054 395.402076 \r\nL 567.837054 430.34779 \r\nL 516.819911 430.34779 \r\nL 516.819911 395.402076 \r\n\" style=\"fill:#69add5;\"/>\r\n    <path clip-path=\"url(#p76eeb9735f)\" d=\"M 567.837054 395.402076 \r\nL 618.854196 395.402076 \r\nL 618.854196 430.34779 \r\nL 567.837054 430.34779 \r\nL 567.837054 395.402076 \r\n\" style=\"fill:#b2d2e8;\"/>\r\n    <path clip-path=\"url(#p76eeb9735f)\" d=\"M 618.854196 395.402076 \r\nL 669.871339 395.402076 \r\nL 669.871339 430.34779 \r\nL 618.854196 430.34779 \r\nL 618.854196 395.402076 \r\n\" style=\"fill:#08306b;\"/>\r\n    <path clip-path=\"url(#p76eeb9735f)\" d=\"M 669.871339 395.402076 \r\nL 720.888482 395.402076 \r\nL 720.888482 430.34779 \r\nL 669.871339 430.34779 \r\nL 669.871339 395.402076 \r\n\" style=\"fill:#7ab6d9;\"/>\r\n    <path clip-path=\"url(#p76eeb9735f)\" d=\"M 720.888482 395.402076 \r\nL 771.905625 395.402076 \r\nL 771.905625 430.34779 \r\nL 720.888482 430.34779 \r\nL 720.888482 395.402076 \r\n\" style=\"fill:#dfecf7;\"/>\r\n    <path clip-path=\"url(#p76eeb9735f)\" d=\"M 57.665625 430.34779 \r\nL 108.682768 430.34779 \r\nL 108.682768 465.293504 \r\nL 57.665625 465.293504 \r\nL 57.665625 430.34779 \r\n\" style=\"fill:#91c3de;\"/>\r\n    <path clip-path=\"url(#p76eeb9735f)\" d=\"M 108.682768 430.34779 \r\nL 159.699911 430.34779 \r\nL 159.699911 465.293504 \r\nL 108.682768 465.293504 \r\nL 108.682768 430.34779 \r\n\" style=\"fill:#6caed6;\"/>\r\n    <path clip-path=\"url(#p76eeb9735f)\" d=\"M 159.699911 430.34779 \r\nL 210.717054 430.34779 \r\nL 210.717054 465.293504 \r\nL 159.699911 465.293504 \r\nL 159.699911 430.34779 \r\n\" style=\"fill:#c2d9ee;\"/>\r\n    <path clip-path=\"url(#p76eeb9735f)\" d=\"M 210.717054 430.34779 \r\nL 261.734196 430.34779 \r\nL 261.734196 465.293504 \r\nL 210.717054 465.293504 \r\nL 210.717054 430.34779 \r\n\" style=\"fill:#92c4de;\"/>\r\n    <path clip-path=\"url(#p76eeb9735f)\" d=\"M 261.734196 430.34779 \r\nL 312.751339 430.34779 \r\nL 312.751339 465.293504 \r\nL 261.734196 465.293504 \r\nL 261.734196 430.34779 \r\n\" style=\"fill:#89bedc;\"/>\r\n    <path clip-path=\"url(#p76eeb9735f)\" d=\"M 312.751339 430.34779 \r\nL 363.768482 430.34779 \r\nL 363.768482 465.293504 \r\nL 312.751339 465.293504 \r\nL 312.751339 430.34779 \r\n\" style=\"fill:#a8cee4;\"/>\r\n    <path clip-path=\"url(#p76eeb9735f)\" d=\"M 363.768482 430.34779 \r\nL 414.785625 430.34779 \r\nL 414.785625 465.293504 \r\nL 363.768482 465.293504 \r\nL 363.768482 430.34779 \r\n\" style=\"fill:#a4cce3;\"/>\r\n    <path clip-path=\"url(#p76eeb9735f)\" d=\"M 414.785625 430.34779 \r\nL 465.802768 430.34779 \r\nL 465.802768 465.293504 \r\nL 414.785625 465.293504 \r\nL 414.785625 430.34779 \r\n\" style=\"fill:#b4d3e9;\"/>\r\n    <path clip-path=\"url(#p76eeb9735f)\" d=\"M 465.802768 430.34779 \r\nL 516.819911 430.34779 \r\nL 516.819911 465.293504 \r\nL 465.802768 465.293504 \r\nL 465.802768 430.34779 \r\n\" style=\"fill:#6caed6;\"/>\r\n    <path clip-path=\"url(#p76eeb9735f)\" d=\"M 516.819911 430.34779 \r\nL 567.837054 430.34779 \r\nL 567.837054 465.293504 \r\nL 516.819911 465.293504 \r\nL 516.819911 430.34779 \r\n\" style=\"fill:#6caed6;\"/>\r\n    <path clip-path=\"url(#p76eeb9735f)\" d=\"M 567.837054 430.34779 \r\nL 618.854196 430.34779 \r\nL 618.854196 465.293504 \r\nL 567.837054 465.293504 \r\nL 567.837054 430.34779 \r\n\" style=\"fill:#b7d4ea;\"/>\r\n    <path clip-path=\"url(#p76eeb9735f)\" d=\"M 618.854196 430.34779 \r\nL 669.871339 430.34779 \r\nL 669.871339 465.293504 \r\nL 618.854196 465.293504 \r\nL 618.854196 430.34779 \r\n\" style=\"fill:#7ab6d9;\"/>\r\n    <path clip-path=\"url(#p76eeb9735f)\" d=\"M 669.871339 430.34779 \r\nL 720.888482 430.34779 \r\nL 720.888482 465.293504 \r\nL 669.871339 465.293504 \r\nL 669.871339 430.34779 \r\n\" style=\"fill:#08306b;\"/>\r\n    <path clip-path=\"url(#p76eeb9735f)\" d=\"M 720.888482 430.34779 \r\nL 771.905625 430.34779 \r\nL 771.905625 465.293504 \r\nL 720.888482 465.293504 \r\nL 720.888482 430.34779 \r\n\" style=\"fill:#dae8f6;\"/>\r\n    <path clip-path=\"url(#p76eeb9735f)\" d=\"M 57.665625 465.293504 \r\nL 108.682768 465.293504 \r\nL 108.682768 500.239219 \r\nL 57.665625 500.239219 \r\nL 57.665625 465.293504 \r\n\" style=\"fill:#cbdef1;\"/>\r\n    <path clip-path=\"url(#p76eeb9735f)\" d=\"M 108.682768 465.293504 \r\nL 159.699911 465.293504 \r\nL 159.699911 500.239219 \r\nL 108.682768 500.239219 \r\nL 108.682768 465.293504 \r\n\" style=\"fill:#d2e3f3;\"/>\r\n    <path clip-path=\"url(#p76eeb9735f)\" d=\"M 159.699911 465.293504 \r\nL 210.717054 465.293504 \r\nL 210.717054 500.239219 \r\nL 159.699911 500.239219 \r\nL 159.699911 465.293504 \r\n\" style=\"fill:#3d8dc4;\"/>\r\n    <path clip-path=\"url(#p76eeb9735f)\" d=\"M 210.717054 465.293504 \r\nL 261.734196 465.293504 \r\nL 261.734196 500.239219 \r\nL 210.717054 500.239219 \r\nL 210.717054 465.293504 \r\n\" style=\"fill:#bed8ec;\"/>\r\n    <path clip-path=\"url(#p76eeb9735f)\" d=\"M 261.734196 465.293504 \r\nL 312.751339 465.293504 \r\nL 312.751339 500.239219 \r\nL 261.734196 500.239219 \r\nL 261.734196 465.293504 \r\n\" style=\"fill:#b3d3e8;\"/>\r\n    <path clip-path=\"url(#p76eeb9735f)\" d=\"M 312.751339 465.293504 \r\nL 363.768482 465.293504 \r\nL 363.768482 500.239219 \r\nL 312.751339 500.239219 \r\nL 312.751339 465.293504 \r\n\" style=\"fill:#a6cee4;\"/>\r\n    <path clip-path=\"url(#p76eeb9735f)\" d=\"M 363.768482 465.293504 \r\nL 414.785625 465.293504 \r\nL 414.785625 500.239219 \r\nL 363.768482 500.239219 \r\nL 363.768482 465.293504 \r\n\" style=\"fill:#7fb9da;\"/>\r\n    <path clip-path=\"url(#p76eeb9735f)\" d=\"M 414.785625 465.293504 \r\nL 465.802768 465.293504 \r\nL 465.802768 500.239219 \r\nL 414.785625 500.239219 \r\nL 414.785625 465.293504 \r\n\" style=\"fill:#3f8fc5;\"/>\r\n    <path clip-path=\"url(#p76eeb9735f)\" d=\"M 465.802768 465.293504 \r\nL 516.819911 465.293504 \r\nL 516.819911 500.239219 \r\nL 465.802768 500.239219 \r\nL 465.802768 465.293504 \r\n\" style=\"fill:#e6f0f9;\"/>\r\n    <path clip-path=\"url(#p76eeb9735f)\" d=\"M 516.819911 465.293504 \r\nL 567.837054 465.293504 \r\nL 567.837054 500.239219 \r\nL 516.819911 500.239219 \r\nL 516.819911 465.293504 \r\n\" style=\"fill:#e5eff9;\"/>\r\n    <path clip-path=\"url(#p76eeb9735f)\" d=\"M 567.837054 465.293504 \r\nL 618.854196 465.293504 \r\nL 618.854196 500.239219 \r\nL 567.837054 500.239219 \r\nL 567.837054 465.293504 \r\n\" style=\"fill:#4f9bcb;\"/>\r\n    <path clip-path=\"url(#p76eeb9735f)\" d=\"M 618.854196 465.293504 \r\nL 669.871339 465.293504 \r\nL 669.871339 500.239219 \r\nL 618.854196 500.239219 \r\nL 618.854196 465.293504 \r\n\" style=\"fill:#dfecf7;\"/>\r\n    <path clip-path=\"url(#p76eeb9735f)\" d=\"M 669.871339 465.293504 \r\nL 720.888482 465.293504 \r\nL 720.888482 500.239219 \r\nL 669.871339 500.239219 \r\nL 669.871339 465.293504 \r\n\" style=\"fill:#dae8f6;\"/>\r\n    <path clip-path=\"url(#p76eeb9735f)\" d=\"M 720.888482 465.293504 \r\nL 771.905625 465.293504 \r\nL 771.905625 500.239219 \r\nL 720.888482 500.239219 \r\nL 720.888482 465.293504 \r\n\" style=\"fill:#08306b;\"/>\r\n   </g>\r\n   <g id=\"matplotlib.axis_1\">\r\n    <g id=\"xtick_1\">\r\n     <g id=\"line2d_1\">\r\n      <defs>\r\n       <path d=\"M 0 0 \r\nL 0 3.5 \r\n\" id=\"mae7b1a9d12\" style=\"stroke:#000000;stroke-width:0.8;\"/>\r\n      </defs>\r\n      <g>\r\n       <use style=\"stroke:#000000;stroke-width:0.8;\" x=\"83.174196\" xlink:href=\"#mae7b1a9d12\" y=\"500.239219\"/>\r\n      </g>\r\n     </g>\r\n     <g id=\"text_1\">\r\n      <!-- age -->\r\n      <g transform=\"translate(73.859353 514.837656)scale(0.1 -0.1)\">\r\n       <defs>\r\n        <path d=\"M 34.28125 27.484375 \r\nQ 23.390625 27.484375 19.1875 25 \r\nQ 14.984375 22.515625 14.984375 16.5 \r\nQ 14.984375 11.71875 18.140625 8.90625 \r\nQ 21.296875 6.109375 26.703125 6.109375 \r\nQ 34.1875 6.109375 38.703125 11.40625 \r\nQ 43.21875 16.703125 43.21875 25.484375 \r\nL 43.21875 27.484375 \r\nz\r\nM 52.203125 31.203125 \r\nL 52.203125 0 \r\nL 43.21875 0 \r\nL 43.21875 8.296875 \r\nQ 40.140625 3.328125 35.546875 0.953125 \r\nQ 30.953125 -1.421875 24.3125 -1.421875 \r\nQ 15.921875 -1.421875 10.953125 3.296875 \r\nQ 6 8.015625 6 15.921875 \r\nQ 6 25.140625 12.171875 29.828125 \r\nQ 18.359375 34.515625 30.609375 34.515625 \r\nL 43.21875 34.515625 \r\nL 43.21875 35.40625 \r\nQ 43.21875 41.609375 39.140625 45 \r\nQ 35.0625 48.390625 27.6875 48.390625 \r\nQ 23 48.390625 18.546875 47.265625 \r\nQ 14.109375 46.140625 10.015625 43.890625 \r\nL 10.015625 52.203125 \r\nQ 14.9375 54.109375 19.578125 55.046875 \r\nQ 24.21875 56 28.609375 56 \r\nQ 40.484375 56 46.34375 49.84375 \r\nQ 52.203125 43.703125 52.203125 31.203125 \r\nz\r\n\" id=\"DejaVuSans-97\"/>\r\n        <path d=\"M 45.40625 27.984375 \r\nQ 45.40625 37.75 41.375 43.109375 \r\nQ 37.359375 48.484375 30.078125 48.484375 \r\nQ 22.859375 48.484375 18.828125 43.109375 \r\nQ 14.796875 37.75 14.796875 27.984375 \r\nQ 14.796875 18.265625 18.828125 12.890625 \r\nQ 22.859375 7.515625 30.078125 7.515625 \r\nQ 37.359375 7.515625 41.375 12.890625 \r\nQ 45.40625 18.265625 45.40625 27.984375 \r\nz\r\nM 54.390625 6.78125 \r\nQ 54.390625 -7.171875 48.1875 -13.984375 \r\nQ 42 -20.796875 29.203125 -20.796875 \r\nQ 24.46875 -20.796875 20.265625 -20.09375 \r\nQ 16.0625 -19.390625 12.109375 -17.921875 \r\nL 12.109375 -9.1875 \r\nQ 16.0625 -11.328125 19.921875 -12.34375 \r\nQ 23.78125 -13.375 27.78125 -13.375 \r\nQ 36.625 -13.375 41.015625 -8.765625 \r\nQ 45.40625 -4.15625 45.40625 5.171875 \r\nL 45.40625 9.625 \r\nQ 42.625 4.78125 38.28125 2.390625 \r\nQ 33.9375 0 27.875 0 \r\nQ 17.828125 0 11.671875 7.65625 \r\nQ 5.515625 15.328125 5.515625 27.984375 \r\nQ 5.515625 40.671875 11.671875 48.328125 \r\nQ 17.828125 56 27.875 56 \r\nQ 33.9375 56 38.28125 53.609375 \r\nQ 42.625 51.21875 45.40625 46.390625 \r\nL 45.40625 54.6875 \r\nL 54.390625 54.6875 \r\nz\r\n\" id=\"DejaVuSans-103\"/>\r\n        <path d=\"M 56.203125 29.59375 \r\nL 56.203125 25.203125 \r\nL 14.890625 25.203125 \r\nQ 15.484375 15.921875 20.484375 11.0625 \r\nQ 25.484375 6.203125 34.421875 6.203125 \r\nQ 39.59375 6.203125 44.453125 7.46875 \r\nQ 49.3125 8.734375 54.109375 11.28125 \r\nL 54.109375 2.78125 \r\nQ 49.265625 0.734375 44.1875 -0.34375 \r\nQ 39.109375 -1.421875 33.890625 -1.421875 \r\nQ 20.796875 -1.421875 13.15625 6.1875 \r\nQ 5.515625 13.8125 5.515625 26.8125 \r\nQ 5.515625 40.234375 12.765625 48.109375 \r\nQ 20.015625 56 32.328125 56 \r\nQ 43.359375 56 49.78125 48.890625 \r\nQ 56.203125 41.796875 56.203125 29.59375 \r\nz\r\nM 47.21875 32.234375 \r\nQ 47.125 39.59375 43.09375 43.984375 \r\nQ 39.0625 48.390625 32.421875 48.390625 \r\nQ 24.90625 48.390625 20.390625 44.140625 \r\nQ 15.875 39.890625 15.1875 32.171875 \r\nz\r\n\" id=\"DejaVuSans-101\"/>\r\n       </defs>\r\n       <use xlink:href=\"#DejaVuSans-97\"/>\r\n       <use x=\"61.279297\" xlink:href=\"#DejaVuSans-103\"/>\r\n       <use x=\"124.755859\" xlink:href=\"#DejaVuSans-101\"/>\r\n      </g>\r\n     </g>\r\n    </g>\r\n    <g id=\"xtick_2\">\r\n     <g id=\"line2d_2\">\r\n      <g>\r\n       <use style=\"stroke:#000000;stroke-width:0.8;\" x=\"134.191339\" xlink:href=\"#mae7b1a9d12\" y=\"500.239219\"/>\r\n      </g>\r\n     </g>\r\n     <g id=\"text_2\">\r\n      <!-- sex -->\r\n      <g transform=\"translate(125.638214 514.837656)scale(0.1 -0.1)\">\r\n       <defs>\r\n        <path d=\"M 44.28125 53.078125 \r\nL 44.28125 44.578125 \r\nQ 40.484375 46.53125 36.375 47.5 \r\nQ 32.28125 48.484375 27.875 48.484375 \r\nQ 21.1875 48.484375 17.84375 46.4375 \r\nQ 14.5 44.390625 14.5 40.28125 \r\nQ 14.5 37.15625 16.890625 35.375 \r\nQ 19.28125 33.59375 26.515625 31.984375 \r\nL 29.59375 31.296875 \r\nQ 39.15625 29.25 43.1875 25.515625 \r\nQ 47.21875 21.78125 47.21875 15.09375 \r\nQ 47.21875 7.46875 41.1875 3.015625 \r\nQ 35.15625 -1.421875 24.609375 -1.421875 \r\nQ 20.21875 -1.421875 15.453125 -0.5625 \r\nQ 10.6875 0.296875 5.421875 2 \r\nL 5.421875 11.28125 \r\nQ 10.40625 8.6875 15.234375 7.390625 \r\nQ 20.0625 6.109375 24.8125 6.109375 \r\nQ 31.15625 6.109375 34.5625 8.28125 \r\nQ 37.984375 10.453125 37.984375 14.40625 \r\nQ 37.984375 18.0625 35.515625 20.015625 \r\nQ 33.0625 21.96875 24.703125 23.78125 \r\nL 21.578125 24.515625 \r\nQ 13.234375 26.265625 9.515625 29.90625 \r\nQ 5.8125 33.546875 5.8125 39.890625 \r\nQ 5.8125 47.609375 11.28125 51.796875 \r\nQ 16.75 56 26.8125 56 \r\nQ 31.78125 56 36.171875 55.265625 \r\nQ 40.578125 54.546875 44.28125 53.078125 \r\nz\r\n\" id=\"DejaVuSans-115\"/>\r\n        <path d=\"M 54.890625 54.6875 \r\nL 35.109375 28.078125 \r\nL 55.90625 0 \r\nL 45.3125 0 \r\nL 29.390625 21.484375 \r\nL 13.484375 0 \r\nL 2.875 0 \r\nL 24.125 28.609375 \r\nL 4.6875 54.6875 \r\nL 15.28125 54.6875 \r\nL 29.78125 35.203125 \r\nL 44.28125 54.6875 \r\nz\r\n\" id=\"DejaVuSans-120\"/>\r\n       </defs>\r\n       <use xlink:href=\"#DejaVuSans-115\"/>\r\n       <use x=\"52.099609\" xlink:href=\"#DejaVuSans-101\"/>\r\n       <use x=\"111.873047\" xlink:href=\"#DejaVuSans-120\"/>\r\n      </g>\r\n     </g>\r\n    </g>\r\n    <g id=\"xtick_3\">\r\n     <g id=\"line2d_3\">\r\n      <g>\r\n       <use style=\"stroke:#000000;stroke-width:0.8;\" x=\"185.208482\" xlink:href=\"#mae7b1a9d12\" y=\"500.239219\"/>\r\n      </g>\r\n     </g>\r\n     <g id=\"text_3\">\r\n      <!-- cp -->\r\n      <g transform=\"translate(179.285045 514.837656)scale(0.1 -0.1)\">\r\n       <defs>\r\n        <path d=\"M 48.78125 52.59375 \r\nL 48.78125 44.1875 \r\nQ 44.96875 46.296875 41.140625 47.34375 \r\nQ 37.3125 48.390625 33.40625 48.390625 \r\nQ 24.65625 48.390625 19.8125 42.84375 \r\nQ 14.984375 37.3125 14.984375 27.296875 \r\nQ 14.984375 17.28125 19.8125 11.734375 \r\nQ 24.65625 6.203125 33.40625 6.203125 \r\nQ 37.3125 6.203125 41.140625 7.25 \r\nQ 44.96875 8.296875 48.78125 10.40625 \r\nL 48.78125 2.09375 \r\nQ 45.015625 0.34375 40.984375 -0.53125 \r\nQ 36.96875 -1.421875 32.421875 -1.421875 \r\nQ 20.0625 -1.421875 12.78125 6.34375 \r\nQ 5.515625 14.109375 5.515625 27.296875 \r\nQ 5.515625 40.671875 12.859375 48.328125 \r\nQ 20.21875 56 33.015625 56 \r\nQ 37.15625 56 41.109375 55.140625 \r\nQ 45.0625 54.296875 48.78125 52.59375 \r\nz\r\n\" id=\"DejaVuSans-99\"/>\r\n        <path d=\"M 18.109375 8.203125 \r\nL 18.109375 -20.796875 \r\nL 9.078125 -20.796875 \r\nL 9.078125 54.6875 \r\nL 18.109375 54.6875 \r\nL 18.109375 46.390625 \r\nQ 20.953125 51.265625 25.265625 53.625 \r\nQ 29.59375 56 35.59375 56 \r\nQ 45.5625 56 51.78125 48.09375 \r\nQ 58.015625 40.1875 58.015625 27.296875 \r\nQ 58.015625 14.40625 51.78125 6.484375 \r\nQ 45.5625 -1.421875 35.59375 -1.421875 \r\nQ 29.59375 -1.421875 25.265625 0.953125 \r\nQ 20.953125 3.328125 18.109375 8.203125 \r\nz\r\nM 48.6875 27.296875 \r\nQ 48.6875 37.203125 44.609375 42.84375 \r\nQ 40.53125 48.484375 33.40625 48.484375 \r\nQ 26.265625 48.484375 22.1875 42.84375 \r\nQ 18.109375 37.203125 18.109375 27.296875 \r\nQ 18.109375 17.390625 22.1875 11.75 \r\nQ 26.265625 6.109375 33.40625 6.109375 \r\nQ 40.53125 6.109375 44.609375 11.75 \r\nQ 48.6875 17.390625 48.6875 27.296875 \r\nz\r\n\" id=\"DejaVuSans-112\"/>\r\n       </defs>\r\n       <use xlink:href=\"#DejaVuSans-99\"/>\r\n       <use x=\"54.980469\" xlink:href=\"#DejaVuSans-112\"/>\r\n      </g>\r\n     </g>\r\n    </g>\r\n    <g id=\"xtick_4\">\r\n     <g id=\"line2d_4\">\r\n      <g>\r\n       <use style=\"stroke:#000000;stroke-width:0.8;\" x=\"236.225625\" xlink:href=\"#mae7b1a9d12\" y=\"500.239219\"/>\r\n      </g>\r\n     </g>\r\n     <g id=\"text_4\">\r\n      <!-- trtbps -->\r\n      <g transform=\"translate(221.296719 514.837656)scale(0.1 -0.1)\">\r\n       <defs>\r\n        <path d=\"M 18.3125 70.21875 \r\nL 18.3125 54.6875 \r\nL 36.8125 54.6875 \r\nL 36.8125 47.703125 \r\nL 18.3125 47.703125 \r\nL 18.3125 18.015625 \r\nQ 18.3125 11.328125 20.140625 9.421875 \r\nQ 21.96875 7.515625 27.59375 7.515625 \r\nL 36.8125 7.515625 \r\nL 36.8125 0 \r\nL 27.59375 0 \r\nQ 17.1875 0 13.234375 3.875 \r\nQ 9.28125 7.765625 9.28125 18.015625 \r\nL 9.28125 47.703125 \r\nL 2.6875 47.703125 \r\nL 2.6875 54.6875 \r\nL 9.28125 54.6875 \r\nL 9.28125 70.21875 \r\nz\r\n\" id=\"DejaVuSans-116\"/>\r\n        <path d=\"M 41.109375 46.296875 \r\nQ 39.59375 47.171875 37.8125 47.578125 \r\nQ 36.03125 48 33.890625 48 \r\nQ 26.265625 48 22.1875 43.046875 \r\nQ 18.109375 38.09375 18.109375 28.8125 \r\nL 18.109375 0 \r\nL 9.078125 0 \r\nL 9.078125 54.6875 \r\nL 18.109375 54.6875 \r\nL 18.109375 46.1875 \r\nQ 20.953125 51.171875 25.484375 53.578125 \r\nQ 30.03125 56 36.53125 56 \r\nQ 37.453125 56 38.578125 55.875 \r\nQ 39.703125 55.765625 41.0625 55.515625 \r\nz\r\n\" id=\"DejaVuSans-114\"/>\r\n        <path d=\"M 48.6875 27.296875 \r\nQ 48.6875 37.203125 44.609375 42.84375 \r\nQ 40.53125 48.484375 33.40625 48.484375 \r\nQ 26.265625 48.484375 22.1875 42.84375 \r\nQ 18.109375 37.203125 18.109375 27.296875 \r\nQ 18.109375 17.390625 22.1875 11.75 \r\nQ 26.265625 6.109375 33.40625 6.109375 \r\nQ 40.53125 6.109375 44.609375 11.75 \r\nQ 48.6875 17.390625 48.6875 27.296875 \r\nz\r\nM 18.109375 46.390625 \r\nQ 20.953125 51.265625 25.265625 53.625 \r\nQ 29.59375 56 35.59375 56 \r\nQ 45.5625 56 51.78125 48.09375 \r\nQ 58.015625 40.1875 58.015625 27.296875 \r\nQ 58.015625 14.40625 51.78125 6.484375 \r\nQ 45.5625 -1.421875 35.59375 -1.421875 \r\nQ 29.59375 -1.421875 25.265625 0.953125 \r\nQ 20.953125 3.328125 18.109375 8.203125 \r\nL 18.109375 0 \r\nL 9.078125 0 \r\nL 9.078125 75.984375 \r\nL 18.109375 75.984375 \r\nz\r\n\" id=\"DejaVuSans-98\"/>\r\n       </defs>\r\n       <use xlink:href=\"#DejaVuSans-116\"/>\r\n       <use x=\"39.208984\" xlink:href=\"#DejaVuSans-114\"/>\r\n       <use x=\"80.322266\" xlink:href=\"#DejaVuSans-116\"/>\r\n       <use x=\"119.53125\" xlink:href=\"#DejaVuSans-98\"/>\r\n       <use x=\"183.007812\" xlink:href=\"#DejaVuSans-112\"/>\r\n       <use x=\"246.484375\" xlink:href=\"#DejaVuSans-115\"/>\r\n      </g>\r\n     </g>\r\n    </g>\r\n    <g id=\"xtick_5\">\r\n     <g id=\"line2d_5\">\r\n      <g>\r\n       <use style=\"stroke:#000000;stroke-width:0.8;\" x=\"287.242768\" xlink:href=\"#mae7b1a9d12\" y=\"500.239219\"/>\r\n      </g>\r\n     </g>\r\n     <g id=\"text_5\">\r\n      <!-- chol -->\r\n      <g transform=\"translate(276.876362 514.837656)scale(0.1 -0.1)\">\r\n       <defs>\r\n        <path d=\"M 54.890625 33.015625 \r\nL 54.890625 0 \r\nL 45.90625 0 \r\nL 45.90625 32.71875 \r\nQ 45.90625 40.484375 42.875 44.328125 \r\nQ 39.84375 48.1875 33.796875 48.1875 \r\nQ 26.515625 48.1875 22.3125 43.546875 \r\nQ 18.109375 38.921875 18.109375 30.90625 \r\nL 18.109375 0 \r\nL 9.078125 0 \r\nL 9.078125 75.984375 \r\nL 18.109375 75.984375 \r\nL 18.109375 46.1875 \r\nQ 21.34375 51.125 25.703125 53.5625 \r\nQ 30.078125 56 35.796875 56 \r\nQ 45.21875 56 50.046875 50.171875 \r\nQ 54.890625 44.34375 54.890625 33.015625 \r\nz\r\n\" id=\"DejaVuSans-104\"/>\r\n        <path d=\"M 30.609375 48.390625 \r\nQ 23.390625 48.390625 19.1875 42.75 \r\nQ 14.984375 37.109375 14.984375 27.296875 \r\nQ 14.984375 17.484375 19.15625 11.84375 \r\nQ 23.34375 6.203125 30.609375 6.203125 \r\nQ 37.796875 6.203125 41.984375 11.859375 \r\nQ 46.1875 17.53125 46.1875 27.296875 \r\nQ 46.1875 37.015625 41.984375 42.703125 \r\nQ 37.796875 48.390625 30.609375 48.390625 \r\nz\r\nM 30.609375 56 \r\nQ 42.328125 56 49.015625 48.375 \r\nQ 55.71875 40.765625 55.71875 27.296875 \r\nQ 55.71875 13.875 49.015625 6.21875 \r\nQ 42.328125 -1.421875 30.609375 -1.421875 \r\nQ 18.84375 -1.421875 12.171875 6.21875 \r\nQ 5.515625 13.875 5.515625 27.296875 \r\nQ 5.515625 40.765625 12.171875 48.375 \r\nQ 18.84375 56 30.609375 56 \r\nz\r\n\" id=\"DejaVuSans-111\"/>\r\n        <path d=\"M 9.421875 75.984375 \r\nL 18.40625 75.984375 \r\nL 18.40625 0 \r\nL 9.421875 0 \r\nz\r\n\" id=\"DejaVuSans-108\"/>\r\n       </defs>\r\n       <use xlink:href=\"#DejaVuSans-99\"/>\r\n       <use x=\"54.980469\" xlink:href=\"#DejaVuSans-104\"/>\r\n       <use x=\"118.359375\" xlink:href=\"#DejaVuSans-111\"/>\r\n       <use x=\"179.541016\" xlink:href=\"#DejaVuSans-108\"/>\r\n      </g>\r\n     </g>\r\n    </g>\r\n    <g id=\"xtick_6\">\r\n     <g id=\"line2d_6\">\r\n      <g>\r\n       <use style=\"stroke:#000000;stroke-width:0.8;\" x=\"338.259911\" xlink:href=\"#mae7b1a9d12\" y=\"500.239219\"/>\r\n      </g>\r\n     </g>\r\n     <g id=\"text_6\">\r\n      <!-- fbs -->\r\n      <g transform=\"translate(330.720848 514.837656)scale(0.1 -0.1)\">\r\n       <defs>\r\n        <path d=\"M 37.109375 75.984375 \r\nL 37.109375 68.5 \r\nL 28.515625 68.5 \r\nQ 23.6875 68.5 21.796875 66.546875 \r\nQ 19.921875 64.59375 19.921875 59.515625 \r\nL 19.921875 54.6875 \r\nL 34.71875 54.6875 \r\nL 34.71875 47.703125 \r\nL 19.921875 47.703125 \r\nL 19.921875 0 \r\nL 10.890625 0 \r\nL 10.890625 47.703125 \r\nL 2.296875 47.703125 \r\nL 2.296875 54.6875 \r\nL 10.890625 54.6875 \r\nL 10.890625 58.5 \r\nQ 10.890625 67.625 15.140625 71.796875 \r\nQ 19.390625 75.984375 28.609375 75.984375 \r\nz\r\n\" id=\"DejaVuSans-102\"/>\r\n       </defs>\r\n       <use xlink:href=\"#DejaVuSans-102\"/>\r\n       <use x=\"35.205078\" xlink:href=\"#DejaVuSans-98\"/>\r\n       <use x=\"98.681641\" xlink:href=\"#DejaVuSans-115\"/>\r\n      </g>\r\n     </g>\r\n    </g>\r\n    <g id=\"xtick_7\">\r\n     <g id=\"line2d_7\">\r\n      <g>\r\n       <use style=\"stroke:#000000;stroke-width:0.8;\" x=\"389.277054\" xlink:href=\"#mae7b1a9d12\" y=\"500.239219\"/>\r\n      </g>\r\n     </g>\r\n     <g id=\"text_7\">\r\n      <!-- restecg -->\r\n      <g transform=\"translate(370.692679 514.837656)scale(0.1 -0.1)\">\r\n       <use xlink:href=\"#DejaVuSans-114\"/>\r\n       <use x=\"38.863281\" xlink:href=\"#DejaVuSans-101\"/>\r\n       <use x=\"100.386719\" xlink:href=\"#DejaVuSans-115\"/>\r\n       <use x=\"152.486328\" xlink:href=\"#DejaVuSans-116\"/>\r\n       <use x=\"191.695312\" xlink:href=\"#DejaVuSans-101\"/>\r\n       <use x=\"253.21875\" xlink:href=\"#DejaVuSans-99\"/>\r\n       <use x=\"308.199219\" xlink:href=\"#DejaVuSans-103\"/>\r\n      </g>\r\n     </g>\r\n    </g>\r\n    <g id=\"xtick_8\">\r\n     <g id=\"line2d_8\">\r\n      <g>\r\n       <use style=\"stroke:#000000;stroke-width:0.8;\" x=\"440.294196\" xlink:href=\"#mae7b1a9d12\" y=\"500.239219\"/>\r\n      </g>\r\n     </g>\r\n     <g id=\"text_8\">\r\n      <!-- thalachh -->\r\n      <g transform=\"translate(418.561384 514.837656)scale(0.1 -0.1)\">\r\n       <use xlink:href=\"#DejaVuSans-116\"/>\r\n       <use x=\"39.208984\" xlink:href=\"#DejaVuSans-104\"/>\r\n       <use x=\"102.587891\" xlink:href=\"#DejaVuSans-97\"/>\r\n       <use x=\"163.867188\" xlink:href=\"#DejaVuSans-108\"/>\r\n       <use x=\"191.650391\" xlink:href=\"#DejaVuSans-97\"/>\r\n       <use x=\"252.929688\" xlink:href=\"#DejaVuSans-99\"/>\r\n       <use x=\"307.910156\" xlink:href=\"#DejaVuSans-104\"/>\r\n       <use x=\"371.289062\" xlink:href=\"#DejaVuSans-104\"/>\r\n      </g>\r\n     </g>\r\n    </g>\r\n    <g id=\"xtick_9\">\r\n     <g id=\"line2d_9\">\r\n      <g>\r\n       <use style=\"stroke:#000000;stroke-width:0.8;\" x=\"491.311339\" xlink:href=\"#mae7b1a9d12\" y=\"500.239219\"/>\r\n      </g>\r\n     </g>\r\n     <g id=\"text_9\">\r\n      <!-- exng -->\r\n      <g transform=\"translate(479.019933 514.837656)scale(0.1 -0.1)\">\r\n       <defs>\r\n        <path d=\"M 54.890625 33.015625 \r\nL 54.890625 0 \r\nL 45.90625 0 \r\nL 45.90625 32.71875 \r\nQ 45.90625 40.484375 42.875 44.328125 \r\nQ 39.84375 48.1875 33.796875 48.1875 \r\nQ 26.515625 48.1875 22.3125 43.546875 \r\nQ 18.109375 38.921875 18.109375 30.90625 \r\nL 18.109375 0 \r\nL 9.078125 0 \r\nL 9.078125 54.6875 \r\nL 18.109375 54.6875 \r\nL 18.109375 46.1875 \r\nQ 21.34375 51.125 25.703125 53.5625 \r\nQ 30.078125 56 35.796875 56 \r\nQ 45.21875 56 50.046875 50.171875 \r\nQ 54.890625 44.34375 54.890625 33.015625 \r\nz\r\n\" id=\"DejaVuSans-110\"/>\r\n       </defs>\r\n       <use xlink:href=\"#DejaVuSans-101\"/>\r\n       <use x=\"59.773438\" xlink:href=\"#DejaVuSans-120\"/>\r\n       <use x=\"118.953125\" xlink:href=\"#DejaVuSans-110\"/>\r\n       <use x=\"182.332031\" xlink:href=\"#DejaVuSans-103\"/>\r\n      </g>\r\n     </g>\r\n    </g>\r\n    <g id=\"xtick_10\">\r\n     <g id=\"line2d_10\">\r\n      <g>\r\n       <use style=\"stroke:#000000;stroke-width:0.8;\" x=\"542.328482\" xlink:href=\"#mae7b1a9d12\" y=\"500.239219\"/>\r\n      </g>\r\n     </g>\r\n     <g id=\"text_10\">\r\n      <!-- oldpeak -->\r\n      <g transform=\"translate(522.49567 514.837656)scale(0.1 -0.1)\">\r\n       <defs>\r\n        <path d=\"M 45.40625 46.390625 \r\nL 45.40625 75.984375 \r\nL 54.390625 75.984375 \r\nL 54.390625 0 \r\nL 45.40625 0 \r\nL 45.40625 8.203125 \r\nQ 42.578125 3.328125 38.25 0.953125 \r\nQ 33.9375 -1.421875 27.875 -1.421875 \r\nQ 17.96875 -1.421875 11.734375 6.484375 \r\nQ 5.515625 14.40625 5.515625 27.296875 \r\nQ 5.515625 40.1875 11.734375 48.09375 \r\nQ 17.96875 56 27.875 56 \r\nQ 33.9375 56 38.25 53.625 \r\nQ 42.578125 51.265625 45.40625 46.390625 \r\nz\r\nM 14.796875 27.296875 \r\nQ 14.796875 17.390625 18.875 11.75 \r\nQ 22.953125 6.109375 30.078125 6.109375 \r\nQ 37.203125 6.109375 41.296875 11.75 \r\nQ 45.40625 17.390625 45.40625 27.296875 \r\nQ 45.40625 37.203125 41.296875 42.84375 \r\nQ 37.203125 48.484375 30.078125 48.484375 \r\nQ 22.953125 48.484375 18.875 42.84375 \r\nQ 14.796875 37.203125 14.796875 27.296875 \r\nz\r\n\" id=\"DejaVuSans-100\"/>\r\n        <path d=\"M 9.078125 75.984375 \r\nL 18.109375 75.984375 \r\nL 18.109375 31.109375 \r\nL 44.921875 54.6875 \r\nL 56.390625 54.6875 \r\nL 27.390625 29.109375 \r\nL 57.625 0 \r\nL 45.90625 0 \r\nL 18.109375 26.703125 \r\nL 18.109375 0 \r\nL 9.078125 0 \r\nz\r\n\" id=\"DejaVuSans-107\"/>\r\n       </defs>\r\n       <use xlink:href=\"#DejaVuSans-111\"/>\r\n       <use x=\"61.181641\" xlink:href=\"#DejaVuSans-108\"/>\r\n       <use x=\"88.964844\" xlink:href=\"#DejaVuSans-100\"/>\r\n       <use x=\"152.441406\" xlink:href=\"#DejaVuSans-112\"/>\r\n       <use x=\"215.917969\" xlink:href=\"#DejaVuSans-101\"/>\r\n       <use x=\"277.441406\" xlink:href=\"#DejaVuSans-97\"/>\r\n       <use x=\"338.720703\" xlink:href=\"#DejaVuSans-107\"/>\r\n      </g>\r\n     </g>\r\n    </g>\r\n    <g id=\"xtick_11\">\r\n     <g id=\"line2d_11\">\r\n      <g>\r\n       <use style=\"stroke:#000000;stroke-width:0.8;\" x=\"593.345625\" xlink:href=\"#mae7b1a9d12\" y=\"500.239219\"/>\r\n      </g>\r\n     </g>\r\n     <g id=\"text_11\">\r\n      <!-- slp -->\r\n      <g transform=\"translate(586.177656 514.837656)scale(0.1 -0.1)\">\r\n       <use xlink:href=\"#DejaVuSans-115\"/>\r\n       <use x=\"52.099609\" xlink:href=\"#DejaVuSans-108\"/>\r\n       <use x=\"79.882812\" xlink:href=\"#DejaVuSans-112\"/>\r\n      </g>\r\n     </g>\r\n    </g>\r\n    <g id=\"xtick_12\">\r\n     <g id=\"line2d_12\">\r\n      <g>\r\n       <use style=\"stroke:#000000;stroke-width:0.8;\" x=\"644.362768\" xlink:href=\"#mae7b1a9d12\" y=\"500.239219\"/>\r\n      </g>\r\n     </g>\r\n     <g id=\"text_12\">\r\n      <!-- caa -->\r\n      <g transform=\"translate(635.485424 514.837656)scale(0.1 -0.1)\">\r\n       <use xlink:href=\"#DejaVuSans-99\"/>\r\n       <use x=\"54.980469\" xlink:href=\"#DejaVuSans-97\"/>\r\n       <use x=\"116.259766\" xlink:href=\"#DejaVuSans-97\"/>\r\n      </g>\r\n     </g>\r\n    </g>\r\n    <g id=\"xtick_13\">\r\n     <g id=\"line2d_13\">\r\n      <g>\r\n       <use style=\"stroke:#000000;stroke-width:0.8;\" x=\"695.379911\" xlink:href=\"#mae7b1a9d12\" y=\"500.239219\"/>\r\n      </g>\r\n     </g>\r\n     <g id=\"text_13\">\r\n      <!-- thall -->\r\n      <g transform=\"translate(684.408817 514.837656)scale(0.1 -0.1)\">\r\n       <use xlink:href=\"#DejaVuSans-116\"/>\r\n       <use x=\"39.208984\" xlink:href=\"#DejaVuSans-104\"/>\r\n       <use x=\"102.587891\" xlink:href=\"#DejaVuSans-97\"/>\r\n       <use x=\"163.867188\" xlink:href=\"#DejaVuSans-108\"/>\r\n       <use x=\"191.650391\" xlink:href=\"#DejaVuSans-108\"/>\r\n      </g>\r\n     </g>\r\n    </g>\r\n    <g id=\"xtick_14\">\r\n     <g id=\"line2d_14\">\r\n      <g>\r\n       <use style=\"stroke:#000000;stroke-width:0.8;\" x=\"746.397054\" xlink:href=\"#mae7b1a9d12\" y=\"500.239219\"/>\r\n      </g>\r\n     </g>\r\n     <g id=\"text_14\">\r\n      <!-- output -->\r\n      <g transform=\"translate(729.905647 514.837656)scale(0.1 -0.1)\">\r\n       <defs>\r\n        <path d=\"M 8.5 21.578125 \r\nL 8.5 54.6875 \r\nL 17.484375 54.6875 \r\nL 17.484375 21.921875 \r\nQ 17.484375 14.15625 20.5 10.265625 \r\nQ 23.53125 6.390625 29.59375 6.390625 \r\nQ 36.859375 6.390625 41.078125 11.03125 \r\nQ 45.3125 15.671875 45.3125 23.6875 \r\nL 45.3125 54.6875 \r\nL 54.296875 54.6875 \r\nL 54.296875 0 \r\nL 45.3125 0 \r\nL 45.3125 8.40625 \r\nQ 42.046875 3.421875 37.71875 1 \r\nQ 33.40625 -1.421875 27.6875 -1.421875 \r\nQ 18.265625 -1.421875 13.375 4.4375 \r\nQ 8.5 10.296875 8.5 21.578125 \r\nz\r\nM 31.109375 56 \r\nz\r\n\" id=\"DejaVuSans-117\"/>\r\n       </defs>\r\n       <use xlink:href=\"#DejaVuSans-111\"/>\r\n       <use x=\"61.181641\" xlink:href=\"#DejaVuSans-117\"/>\r\n       <use x=\"124.560547\" xlink:href=\"#DejaVuSans-116\"/>\r\n       <use x=\"163.769531\" xlink:href=\"#DejaVuSans-112\"/>\r\n       <use x=\"227.246094\" xlink:href=\"#DejaVuSans-117\"/>\r\n       <use x=\"290.625\" xlink:href=\"#DejaVuSans-116\"/>\r\n      </g>\r\n     </g>\r\n    </g>\r\n   </g>\r\n   <g id=\"matplotlib.axis_2\">\r\n    <g id=\"ytick_1\">\r\n     <g id=\"line2d_15\">\r\n      <defs>\r\n       <path d=\"M 0 0 \r\nL -3.5 0 \r\n\" id=\"m8182a33cd3\" style=\"stroke:#000000;stroke-width:0.8;\"/>\r\n      </defs>\r\n      <g>\r\n       <use style=\"stroke:#000000;stroke-width:0.8;\" x=\"57.665625\" xlink:href=\"#m8182a33cd3\" y=\"28.472076\"/>\r\n      </g>\r\n     </g>\r\n     <g id=\"text_15\">\r\n      <!-- age -->\r\n      <g transform=\"translate(32.035938 32.271295)scale(0.1 -0.1)\">\r\n       <use xlink:href=\"#DejaVuSans-97\"/>\r\n       <use x=\"61.279297\" xlink:href=\"#DejaVuSans-103\"/>\r\n       <use x=\"124.755859\" xlink:href=\"#DejaVuSans-101\"/>\r\n      </g>\r\n     </g>\r\n    </g>\r\n    <g id=\"ytick_2\">\r\n     <g id=\"line2d_16\">\r\n      <g>\r\n       <use style=\"stroke:#000000;stroke-width:0.8;\" x=\"57.665625\" xlink:href=\"#m8182a33cd3\" y=\"63.41779\"/>\r\n      </g>\r\n     </g>\r\n     <g id=\"text_16\">\r\n      <!-- sex -->\r\n      <g transform=\"translate(33.559375 67.217009)scale(0.1 -0.1)\">\r\n       <use xlink:href=\"#DejaVuSans-115\"/>\r\n       <use x=\"52.099609\" xlink:href=\"#DejaVuSans-101\"/>\r\n       <use x=\"111.873047\" xlink:href=\"#DejaVuSans-120\"/>\r\n      </g>\r\n     </g>\r\n    </g>\r\n    <g id=\"ytick_3\">\r\n     <g id=\"line2d_17\">\r\n      <g>\r\n       <use style=\"stroke:#000000;stroke-width:0.8;\" x=\"57.665625\" xlink:href=\"#m8182a33cd3\" y=\"98.363504\"/>\r\n      </g>\r\n     </g>\r\n     <g id=\"text_17\">\r\n      <!-- cp -->\r\n      <g transform=\"translate(38.81875 102.162723)scale(0.1 -0.1)\">\r\n       <use xlink:href=\"#DejaVuSans-99\"/>\r\n       <use x=\"54.980469\" xlink:href=\"#DejaVuSans-112\"/>\r\n      </g>\r\n     </g>\r\n    </g>\r\n    <g id=\"ytick_4\">\r\n     <g id=\"line2d_18\">\r\n      <g>\r\n       <use style=\"stroke:#000000;stroke-width:0.8;\" x=\"57.665625\" xlink:href=\"#m8182a33cd3\" y=\"133.309219\"/>\r\n      </g>\r\n     </g>\r\n     <g id=\"text_18\">\r\n      <!-- trtbps -->\r\n      <g transform=\"translate(20.807813 137.108438)scale(0.1 -0.1)\">\r\n       <use xlink:href=\"#DejaVuSans-116\"/>\r\n       <use x=\"39.208984\" xlink:href=\"#DejaVuSans-114\"/>\r\n       <use x=\"80.322266\" xlink:href=\"#DejaVuSans-116\"/>\r\n       <use x=\"119.53125\" xlink:href=\"#DejaVuSans-98\"/>\r\n       <use x=\"183.007812\" xlink:href=\"#DejaVuSans-112\"/>\r\n       <use x=\"246.484375\" xlink:href=\"#DejaVuSans-115\"/>\r\n      </g>\r\n     </g>\r\n    </g>\r\n    <g id=\"ytick_5\">\r\n     <g id=\"line2d_19\">\r\n      <g>\r\n       <use style=\"stroke:#000000;stroke-width:0.8;\" x=\"57.665625\" xlink:href=\"#m8182a33cd3\" y=\"168.254933\"/>\r\n      </g>\r\n     </g>\r\n     <g id=\"text_19\">\r\n      <!-- chol -->\r\n      <g transform=\"translate(29.932813 172.054152)scale(0.1 -0.1)\">\r\n       <use xlink:href=\"#DejaVuSans-99\"/>\r\n       <use x=\"54.980469\" xlink:href=\"#DejaVuSans-104\"/>\r\n       <use x=\"118.359375\" xlink:href=\"#DejaVuSans-111\"/>\r\n       <use x=\"179.541016\" xlink:href=\"#DejaVuSans-108\"/>\r\n      </g>\r\n     </g>\r\n    </g>\r\n    <g id=\"ytick_6\">\r\n     <g id=\"line2d_20\">\r\n      <g>\r\n       <use style=\"stroke:#000000;stroke-width:0.8;\" x=\"57.665625\" xlink:href=\"#m8182a33cd3\" y=\"203.200647\"/>\r\n      </g>\r\n     </g>\r\n     <g id=\"text_20\">\r\n      <!-- fbs -->\r\n      <g transform=\"translate(35.5875 206.999866)scale(0.1 -0.1)\">\r\n       <use xlink:href=\"#DejaVuSans-102\"/>\r\n       <use x=\"35.205078\" xlink:href=\"#DejaVuSans-98\"/>\r\n       <use x=\"98.681641\" xlink:href=\"#DejaVuSans-115\"/>\r\n      </g>\r\n     </g>\r\n    </g>\r\n    <g id=\"ytick_7\">\r\n     <g id=\"line2d_21\">\r\n      <g>\r\n       <use style=\"stroke:#000000;stroke-width:0.8;\" x=\"57.665625\" xlink:href=\"#m8182a33cd3\" y=\"238.146362\"/>\r\n      </g>\r\n     </g>\r\n     <g id=\"text_21\">\r\n      <!-- restecg -->\r\n      <g transform=\"translate(13.496875 241.94558)scale(0.1 -0.1)\">\r\n       <use xlink:href=\"#DejaVuSans-114\"/>\r\n       <use x=\"38.863281\" xlink:href=\"#DejaVuSans-101\"/>\r\n       <use x=\"100.386719\" xlink:href=\"#DejaVuSans-115\"/>\r\n       <use x=\"152.486328\" xlink:href=\"#DejaVuSans-116\"/>\r\n       <use x=\"191.695312\" xlink:href=\"#DejaVuSans-101\"/>\r\n       <use x=\"253.21875\" xlink:href=\"#DejaVuSans-99\"/>\r\n       <use x=\"308.199219\" xlink:href=\"#DejaVuSans-103\"/>\r\n      </g>\r\n     </g>\r\n    </g>\r\n    <g id=\"ytick_8\">\r\n     <g id=\"line2d_22\">\r\n      <g>\r\n       <use style=\"stroke:#000000;stroke-width:0.8;\" x=\"57.665625\" xlink:href=\"#m8182a33cd3\" y=\"273.092076\"/>\r\n      </g>\r\n     </g>\r\n     <g id=\"text_22\">\r\n      <!-- thalachh -->\r\n      <g transform=\"translate(7.2 276.891295)scale(0.1 -0.1)\">\r\n       <use xlink:href=\"#DejaVuSans-116\"/>\r\n       <use x=\"39.208984\" xlink:href=\"#DejaVuSans-104\"/>\r\n       <use x=\"102.587891\" xlink:href=\"#DejaVuSans-97\"/>\r\n       <use x=\"163.867188\" xlink:href=\"#DejaVuSans-108\"/>\r\n       <use x=\"191.650391\" xlink:href=\"#DejaVuSans-97\"/>\r\n       <use x=\"252.929688\" xlink:href=\"#DejaVuSans-99\"/>\r\n       <use x=\"307.910156\" xlink:href=\"#DejaVuSans-104\"/>\r\n       <use x=\"371.289062\" xlink:href=\"#DejaVuSans-104\"/>\r\n      </g>\r\n     </g>\r\n    </g>\r\n    <g id=\"ytick_9\">\r\n     <g id=\"line2d_23\">\r\n      <g>\r\n       <use style=\"stroke:#000000;stroke-width:0.8;\" x=\"57.665625\" xlink:href=\"#m8182a33cd3\" y=\"308.03779\"/>\r\n      </g>\r\n     </g>\r\n     <g id=\"text_23\">\r\n      <!-- exng -->\r\n      <g transform=\"translate(26.082813 311.837009)scale(0.1 -0.1)\">\r\n       <use xlink:href=\"#DejaVuSans-101\"/>\r\n       <use x=\"59.773438\" xlink:href=\"#DejaVuSans-120\"/>\r\n       <use x=\"118.953125\" xlink:href=\"#DejaVuSans-110\"/>\r\n       <use x=\"182.332031\" xlink:href=\"#DejaVuSans-103\"/>\r\n      </g>\r\n     </g>\r\n    </g>\r\n    <g id=\"ytick_10\">\r\n     <g id=\"line2d_24\">\r\n      <g>\r\n       <use style=\"stroke:#000000;stroke-width:0.8;\" x=\"57.665625\" xlink:href=\"#m8182a33cd3\" y=\"342.983504\"/>\r\n      </g>\r\n     </g>\r\n     <g id=\"text_24\">\r\n      <!-- oldpeak -->\r\n      <g transform=\"translate(11 346.782723)scale(0.1 -0.1)\">\r\n       <use xlink:href=\"#DejaVuSans-111\"/>\r\n       <use x=\"61.181641\" xlink:href=\"#DejaVuSans-108\"/>\r\n       <use x=\"88.964844\" xlink:href=\"#DejaVuSans-100\"/>\r\n       <use x=\"152.441406\" xlink:href=\"#DejaVuSans-112\"/>\r\n       <use x=\"215.917969\" xlink:href=\"#DejaVuSans-101\"/>\r\n       <use x=\"277.441406\" xlink:href=\"#DejaVuSans-97\"/>\r\n       <use x=\"338.720703\" xlink:href=\"#DejaVuSans-107\"/>\r\n      </g>\r\n     </g>\r\n    </g>\r\n    <g id=\"ytick_11\">\r\n     <g id=\"line2d_25\">\r\n      <g>\r\n       <use style=\"stroke:#000000;stroke-width:0.8;\" x=\"57.665625\" xlink:href=\"#m8182a33cd3\" y=\"377.929219\"/>\r\n      </g>\r\n     </g>\r\n     <g id=\"text_25\">\r\n      <!-- slp -->\r\n      <g transform=\"translate(36.329688 381.728438)scale(0.1 -0.1)\">\r\n       <use xlink:href=\"#DejaVuSans-115\"/>\r\n       <use x=\"52.099609\" xlink:href=\"#DejaVuSans-108\"/>\r\n       <use x=\"79.882812\" xlink:href=\"#DejaVuSans-112\"/>\r\n      </g>\r\n     </g>\r\n    </g>\r\n    <g id=\"ytick_12\">\r\n     <g id=\"line2d_26\">\r\n      <g>\r\n       <use style=\"stroke:#000000;stroke-width:0.8;\" x=\"57.665625\" xlink:href=\"#m8182a33cd3\" y=\"412.874933\"/>\r\n      </g>\r\n     </g>\r\n     <g id=\"text_26\">\r\n      <!-- caa -->\r\n      <g transform=\"translate(32.910938 416.674152)scale(0.1 -0.1)\">\r\n       <use xlink:href=\"#DejaVuSans-99\"/>\r\n       <use x=\"54.980469\" xlink:href=\"#DejaVuSans-97\"/>\r\n       <use x=\"116.259766\" xlink:href=\"#DejaVuSans-97\"/>\r\n      </g>\r\n     </g>\r\n    </g>\r\n    <g id=\"ytick_13\">\r\n     <g id=\"line2d_27\">\r\n      <g>\r\n       <use style=\"stroke:#000000;stroke-width:0.8;\" x=\"57.665625\" xlink:href=\"#m8182a33cd3\" y=\"447.820647\"/>\r\n      </g>\r\n     </g>\r\n     <g id=\"text_27\">\r\n      <!-- thall -->\r\n      <g transform=\"translate(28.723438 451.619866)scale(0.1 -0.1)\">\r\n       <use xlink:href=\"#DejaVuSans-116\"/>\r\n       <use x=\"39.208984\" xlink:href=\"#DejaVuSans-104\"/>\r\n       <use x=\"102.587891\" xlink:href=\"#DejaVuSans-97\"/>\r\n       <use x=\"163.867188\" xlink:href=\"#DejaVuSans-108\"/>\r\n       <use x=\"191.650391\" xlink:href=\"#DejaVuSans-108\"/>\r\n      </g>\r\n     </g>\r\n    </g>\r\n    <g id=\"ytick_14\">\r\n     <g id=\"line2d_28\">\r\n      <g>\r\n       <use style=\"stroke:#000000;stroke-width:0.8;\" x=\"57.665625\" xlink:href=\"#m8182a33cd3\" y=\"482.766362\"/>\r\n      </g>\r\n     </g>\r\n     <g id=\"text_28\">\r\n      <!-- output -->\r\n      <g transform=\"translate(17.682813 486.56558)scale(0.1 -0.1)\">\r\n       <use xlink:href=\"#DejaVuSans-111\"/>\r\n       <use x=\"61.181641\" xlink:href=\"#DejaVuSans-117\"/>\r\n       <use x=\"124.560547\" xlink:href=\"#DejaVuSans-116\"/>\r\n       <use x=\"163.769531\" xlink:href=\"#DejaVuSans-112\"/>\r\n       <use x=\"227.246094\" xlink:href=\"#DejaVuSans-117\"/>\r\n       <use x=\"290.625\" xlink:href=\"#DejaVuSans-116\"/>\r\n      </g>\r\n     </g>\r\n    </g>\r\n   </g>\r\n  </g>\r\n  <g id=\"axes_2\">\r\n   <g id=\"patch_3\">\r\n    <path clip-path=\"url(#pa990ceb40e)\" d=\"M 816.545625 500.239219 \r\nL 816.545625 498.328125 \r\nL 816.545625 12.910313 \r\nL 816.545625 10.999219 \r\nL 841.007625 10.999219 \r\nL 841.007625 12.910313 \r\nL 841.007625 498.328125 \r\nL 841.007625 500.239219 \r\nz\r\n\" style=\"fill:#ffffff;stroke:#ffffff;stroke-linejoin:miter;stroke-width:0.01;\"/>\r\n   </g>\r\n   <image height=\"489\" id=\"image24497fb89d\" transform=\"scale(1 -1)translate(0 -489)\" width=\"24\" x=\"817\" xlink:href=\"data:image/png;base64,\r\niVBORw0KGgoAAAANSUhEUgAAABgAAAHpCAYAAACYzvzwAAACNklEQVR4nO2cQWrFMBQD3ZL7X7eLwk9vkOlGAYmZA+QhS7Lz3ZKvn9/7PkGu7OPP+c4+/pzrPlkJeQVhAa94kOUFBQMe2INn7AES78FATOu3iv4B/R7YA8TtGpk4Mu3BM/YAiffAmCLGFBnw4NgDwB4gEx6092Dh1TE9YGCJjOkz/TF1u0bsAWIPEHuA9PfAmCLGFHG7RuwBYg8Qe4DYAx5gTAljirhdI/YAsQeIPUAGevAJF6HfA7cK5I2YZgfoAWIPEHuADHgw0IN6BZ/0XUX/Elk0oj+meoAM/Ea763+jfcID9ACxBzzAmBIeOMhA0bwUJGwyMrGbZgfYZCT/rYT+JRq4FKxX4C99wh4gA3uRKSJ8dUQGPEgrGLje7zd5YbMzRc+YImQgRQMehAeYIuSNu4rsAN9NkQEP+hUMpCg8QA+QhUNfD4D+Hgws0UBMwwP6Y+prCzLgQf9e1O+BPSD6z4OFI9OYAnqA2APEHiALR2b9n3vtAdHfg4El6o+pRybhVoHoAaIHyIQH/QriA1yiZ4wpogeIHiB6gOgBogf/GRB9/sASqQAxRYgeINcnfK+pB4g9QPo9cIkQFSAL332v90AFhAoQm4yoAMm/thhTQgWIChAPHGTAAxUQ9gB5466i3WQVEBYNGfBABYQKEJuM9Cu4Tv0SnTv7aZg3FOjBM3qATHjQr8AUPaMHSNwDlwgxpogeIHqAXKf+XxEHPBhQYIqe6ffAJUKMKaIHiB4geoDoAfIHwugcjqj9/kcAAAAASUVORK5CYII=\" y=\"-11\"/>\r\n   <g id=\"matplotlib.axis_3\"/>\r\n   <g id=\"matplotlib.axis_4\">\r\n    <g id=\"ytick_15\">\r\n     <g id=\"line2d_29\">\r\n      <defs>\r\n       <path d=\"M 0 0 \r\nL 3.5 0 \r\n\" id=\"m415eeee712\" style=\"stroke:#000000;stroke-width:0.8;\"/>\r\n      </defs>\r\n      <g>\r\n       <use style=\"stroke:#000000;stroke-width:0.8;\" x=\"841.007625\" xlink:href=\"#m415eeee712\" y=\"445.179894\"/>\r\n      </g>\r\n     </g>\r\n     <g id=\"text_29\">\r\n      <!-- −0.4 -->\r\n      <g transform=\"translate(848.007625 448.979113)scale(0.1 -0.1)\">\r\n       <defs>\r\n        <path d=\"M 10.59375 35.5 \r\nL 73.1875 35.5 \r\nL 73.1875 27.203125 \r\nL 10.59375 27.203125 \r\nz\r\n\" id=\"DejaVuSans-8722\"/>\r\n        <path d=\"M 31.78125 66.40625 \r\nQ 24.171875 66.40625 20.328125 58.90625 \r\nQ 16.5 51.421875 16.5 36.375 \r\nQ 16.5 21.390625 20.328125 13.890625 \r\nQ 24.171875 6.390625 31.78125 6.390625 \r\nQ 39.453125 6.390625 43.28125 13.890625 \r\nQ 47.125 21.390625 47.125 36.375 \r\nQ 47.125 51.421875 43.28125 58.90625 \r\nQ 39.453125 66.40625 31.78125 66.40625 \r\nz\r\nM 31.78125 74.21875 \r\nQ 44.046875 74.21875 50.515625 64.515625 \r\nQ 56.984375 54.828125 56.984375 36.375 \r\nQ 56.984375 17.96875 50.515625 8.265625 \r\nQ 44.046875 -1.421875 31.78125 -1.421875 \r\nQ 19.53125 -1.421875 13.0625 8.265625 \r\nQ 6.59375 17.96875 6.59375 36.375 \r\nQ 6.59375 54.828125 13.0625 64.515625 \r\nQ 19.53125 74.21875 31.78125 74.21875 \r\nz\r\n\" id=\"DejaVuSans-48\"/>\r\n        <path d=\"M 10.6875 12.40625 \r\nL 21 12.40625 \r\nL 21 0 \r\nL 10.6875 0 \r\nz\r\n\" id=\"DejaVuSans-46\"/>\r\n        <path d=\"M 37.796875 64.3125 \r\nL 12.890625 25.390625 \r\nL 37.796875 25.390625 \r\nz\r\nM 35.203125 72.90625 \r\nL 47.609375 72.90625 \r\nL 47.609375 25.390625 \r\nL 58.015625 25.390625 \r\nL 58.015625 17.1875 \r\nL 47.609375 17.1875 \r\nL 47.609375 0 \r\nL 37.796875 0 \r\nL 37.796875 17.1875 \r\nL 4.890625 17.1875 \r\nL 4.890625 26.703125 \r\nz\r\n\" id=\"DejaVuSans-52\"/>\r\n       </defs>\r\n       <use xlink:href=\"#DejaVuSans-8722\"/>\r\n       <use x=\"83.789062\" xlink:href=\"#DejaVuSans-48\"/>\r\n       <use x=\"147.412109\" xlink:href=\"#DejaVuSans-46\"/>\r\n       <use x=\"179.199219\" xlink:href=\"#DejaVuSans-52\"/>\r\n      </g>\r\n     </g>\r\n    </g>\r\n    <g id=\"ytick_16\">\r\n     <g id=\"line2d_30\">\r\n      <g>\r\n       <use style=\"stroke:#000000;stroke-width:0.8;\" x=\"841.007625\" xlink:href=\"#m415eeee712\" y=\"383.154083\"/>\r\n      </g>\r\n     </g>\r\n     <g id=\"text_30\">\r\n      <!-- −0.2 -->\r\n      <g transform=\"translate(848.007625 386.953302)scale(0.1 -0.1)\">\r\n       <defs>\r\n        <path d=\"M 19.1875 8.296875 \r\nL 53.609375 8.296875 \r\nL 53.609375 0 \r\nL 7.328125 0 \r\nL 7.328125 8.296875 \r\nQ 12.9375 14.109375 22.625 23.890625 \r\nQ 32.328125 33.6875 34.8125 36.53125 \r\nQ 39.546875 41.84375 41.421875 45.53125 \r\nQ 43.3125 49.21875 43.3125 52.78125 \r\nQ 43.3125 58.59375 39.234375 62.25 \r\nQ 35.15625 65.921875 28.609375 65.921875 \r\nQ 23.96875 65.921875 18.8125 64.3125 \r\nQ 13.671875 62.703125 7.8125 59.421875 \r\nL 7.8125 69.390625 \r\nQ 13.765625 71.78125 18.9375 73 \r\nQ 24.125 74.21875 28.421875 74.21875 \r\nQ 39.75 74.21875 46.484375 68.546875 \r\nQ 53.21875 62.890625 53.21875 53.421875 \r\nQ 53.21875 48.921875 51.53125 44.890625 \r\nQ 49.859375 40.875 45.40625 35.40625 \r\nQ 44.1875 33.984375 37.640625 27.21875 \r\nQ 31.109375 20.453125 19.1875 8.296875 \r\nz\r\n\" id=\"DejaVuSans-50\"/>\r\n       </defs>\r\n       <use xlink:href=\"#DejaVuSans-8722\"/>\r\n       <use x=\"83.789062\" xlink:href=\"#DejaVuSans-48\"/>\r\n       <use x=\"147.412109\" xlink:href=\"#DejaVuSans-46\"/>\r\n       <use x=\"179.199219\" xlink:href=\"#DejaVuSans-50\"/>\r\n      </g>\r\n     </g>\r\n    </g>\r\n    <g id=\"ytick_17\">\r\n     <g id=\"line2d_31\">\r\n      <g>\r\n       <use style=\"stroke:#000000;stroke-width:0.8;\" x=\"841.007625\" xlink:href=\"#m415eeee712\" y=\"321.128272\"/>\r\n      </g>\r\n     </g>\r\n     <g id=\"text_31\">\r\n      <!-- 0.0 -->\r\n      <g transform=\"translate(848.007625 324.927491)scale(0.1 -0.1)\">\r\n       <use xlink:href=\"#DejaVuSans-48\"/>\r\n       <use x=\"63.623047\" xlink:href=\"#DejaVuSans-46\"/>\r\n       <use x=\"95.410156\" xlink:href=\"#DejaVuSans-48\"/>\r\n      </g>\r\n     </g>\r\n    </g>\r\n    <g id=\"ytick_18\">\r\n     <g id=\"line2d_32\">\r\n      <g>\r\n       <use style=\"stroke:#000000;stroke-width:0.8;\" x=\"841.007625\" xlink:href=\"#m415eeee712\" y=\"259.102462\"/>\r\n      </g>\r\n     </g>\r\n     <g id=\"text_32\">\r\n      <!-- 0.2 -->\r\n      <g transform=\"translate(848.007625 262.90168)scale(0.1 -0.1)\">\r\n       <use xlink:href=\"#DejaVuSans-48\"/>\r\n       <use x=\"63.623047\" xlink:href=\"#DejaVuSans-46\"/>\r\n       <use x=\"95.410156\" xlink:href=\"#DejaVuSans-50\"/>\r\n      </g>\r\n     </g>\r\n    </g>\r\n    <g id=\"ytick_19\">\r\n     <g id=\"line2d_33\">\r\n      <g>\r\n       <use style=\"stroke:#000000;stroke-width:0.8;\" x=\"841.007625\" xlink:href=\"#m415eeee712\" y=\"197.076651\"/>\r\n      </g>\r\n     </g>\r\n     <g id=\"text_33\">\r\n      <!-- 0.4 -->\r\n      <g transform=\"translate(848.007625 200.87587)scale(0.1 -0.1)\">\r\n       <use xlink:href=\"#DejaVuSans-48\"/>\r\n       <use x=\"63.623047\" xlink:href=\"#DejaVuSans-46\"/>\r\n       <use x=\"95.410156\" xlink:href=\"#DejaVuSans-52\"/>\r\n      </g>\r\n     </g>\r\n    </g>\r\n    <g id=\"ytick_20\">\r\n     <g id=\"line2d_34\">\r\n      <g>\r\n       <use style=\"stroke:#000000;stroke-width:0.8;\" x=\"841.007625\" xlink:href=\"#m415eeee712\" y=\"135.05084\"/>\r\n      </g>\r\n     </g>\r\n     <g id=\"text_34\">\r\n      <!-- 0.6 -->\r\n      <g transform=\"translate(848.007625 138.850059)scale(0.1 -0.1)\">\r\n       <defs>\r\n        <path d=\"M 33.015625 40.375 \r\nQ 26.375 40.375 22.484375 35.828125 \r\nQ 18.609375 31.296875 18.609375 23.390625 \r\nQ 18.609375 15.53125 22.484375 10.953125 \r\nQ 26.375 6.390625 33.015625 6.390625 \r\nQ 39.65625 6.390625 43.53125 10.953125 \r\nQ 47.40625 15.53125 47.40625 23.390625 \r\nQ 47.40625 31.296875 43.53125 35.828125 \r\nQ 39.65625 40.375 33.015625 40.375 \r\nz\r\nM 52.59375 71.296875 \r\nL 52.59375 62.3125 \r\nQ 48.875 64.0625 45.09375 64.984375 \r\nQ 41.3125 65.921875 37.59375 65.921875 \r\nQ 27.828125 65.921875 22.671875 59.328125 \r\nQ 17.53125 52.734375 16.796875 39.40625 \r\nQ 19.671875 43.65625 24.015625 45.921875 \r\nQ 28.375 48.1875 33.59375 48.1875 \r\nQ 44.578125 48.1875 50.953125 41.515625 \r\nQ 57.328125 34.859375 57.328125 23.390625 \r\nQ 57.328125 12.15625 50.6875 5.359375 \r\nQ 44.046875 -1.421875 33.015625 -1.421875 \r\nQ 20.359375 -1.421875 13.671875 8.265625 \r\nQ 6.984375 17.96875 6.984375 36.375 \r\nQ 6.984375 53.65625 15.1875 63.9375 \r\nQ 23.390625 74.21875 37.203125 74.21875 \r\nQ 40.921875 74.21875 44.703125 73.484375 \r\nQ 48.484375 72.75 52.59375 71.296875 \r\nz\r\n\" id=\"DejaVuSans-54\"/>\r\n       </defs>\r\n       <use xlink:href=\"#DejaVuSans-48\"/>\r\n       <use x=\"63.623047\" xlink:href=\"#DejaVuSans-46\"/>\r\n       <use x=\"95.410156\" xlink:href=\"#DejaVuSans-54\"/>\r\n      </g>\r\n     </g>\r\n    </g>\r\n    <g id=\"ytick_21\">\r\n     <g id=\"line2d_35\">\r\n      <g>\r\n       <use style=\"stroke:#000000;stroke-width:0.8;\" x=\"841.007625\" xlink:href=\"#m415eeee712\" y=\"73.025029\"/>\r\n      </g>\r\n     </g>\r\n     <g id=\"text_35\">\r\n      <!-- 0.8 -->\r\n      <g transform=\"translate(848.007625 76.824248)scale(0.1 -0.1)\">\r\n       <defs>\r\n        <path d=\"M 31.78125 34.625 \r\nQ 24.75 34.625 20.71875 30.859375 \r\nQ 16.703125 27.09375 16.703125 20.515625 \r\nQ 16.703125 13.921875 20.71875 10.15625 \r\nQ 24.75 6.390625 31.78125 6.390625 \r\nQ 38.8125 6.390625 42.859375 10.171875 \r\nQ 46.921875 13.96875 46.921875 20.515625 \r\nQ 46.921875 27.09375 42.890625 30.859375 \r\nQ 38.875 34.625 31.78125 34.625 \r\nz\r\nM 21.921875 38.8125 \r\nQ 15.578125 40.375 12.03125 44.71875 \r\nQ 8.5 49.078125 8.5 55.328125 \r\nQ 8.5 64.0625 14.71875 69.140625 \r\nQ 20.953125 74.21875 31.78125 74.21875 \r\nQ 42.671875 74.21875 48.875 69.140625 \r\nQ 55.078125 64.0625 55.078125 55.328125 \r\nQ 55.078125 49.078125 51.53125 44.71875 \r\nQ 48 40.375 41.703125 38.8125 \r\nQ 48.828125 37.15625 52.796875 32.3125 \r\nQ 56.78125 27.484375 56.78125 20.515625 \r\nQ 56.78125 9.90625 50.3125 4.234375 \r\nQ 43.84375 -1.421875 31.78125 -1.421875 \r\nQ 19.734375 -1.421875 13.25 4.234375 \r\nQ 6.78125 9.90625 6.78125 20.515625 \r\nQ 6.78125 27.484375 10.78125 32.3125 \r\nQ 14.796875 37.15625 21.921875 38.8125 \r\nz\r\nM 18.3125 54.390625 \r\nQ 18.3125 48.734375 21.84375 45.5625 \r\nQ 25.390625 42.390625 31.78125 42.390625 \r\nQ 38.140625 42.390625 41.71875 45.5625 \r\nQ 45.3125 48.734375 45.3125 54.390625 \r\nQ 45.3125 60.0625 41.71875 63.234375 \r\nQ 38.140625 66.40625 31.78125 66.40625 \r\nQ 25.390625 66.40625 21.84375 63.234375 \r\nQ 18.3125 60.0625 18.3125 54.390625 \r\nz\r\n\" id=\"DejaVuSans-56\"/>\r\n       </defs>\r\n       <use xlink:href=\"#DejaVuSans-48\"/>\r\n       <use x=\"63.623047\" xlink:href=\"#DejaVuSans-46\"/>\r\n       <use x=\"95.410156\" xlink:href=\"#DejaVuSans-56\"/>\r\n      </g>\r\n     </g>\r\n    </g>\r\n    <g id=\"ytick_22\">\r\n     <g id=\"line2d_36\">\r\n      <g>\r\n       <use style=\"stroke:#000000;stroke-width:0.8;\" x=\"841.007625\" xlink:href=\"#m415eeee712\" y=\"10.999219\"/>\r\n      </g>\r\n     </g>\r\n     <g id=\"text_36\">\r\n      <!-- 1.0 -->\r\n      <g transform=\"translate(848.007625 14.798438)scale(0.1 -0.1)\">\r\n       <defs>\r\n        <path d=\"M 12.40625 8.296875 \r\nL 28.515625 8.296875 \r\nL 28.515625 63.921875 \r\nL 10.984375 60.40625 \r\nL 10.984375 69.390625 \r\nL 28.421875 72.90625 \r\nL 38.28125 72.90625 \r\nL 38.28125 8.296875 \r\nL 54.390625 8.296875 \r\nL 54.390625 0 \r\nL 12.40625 0 \r\nz\r\n\" id=\"DejaVuSans-49\"/>\r\n       </defs>\r\n       <use xlink:href=\"#DejaVuSans-49\"/>\r\n       <use x=\"63.623047\" xlink:href=\"#DejaVuSans-46\"/>\r\n       <use x=\"95.410156\" xlink:href=\"#DejaVuSans-48\"/>\r\n      </g>\r\n     </g>\r\n    </g>\r\n   </g>\r\n   <g id=\"patch_4\">\r\n    <path d=\"M 816.545625 500.239219 \r\nL 816.545625 498.328125 \r\nL 816.545625 12.910313 \r\nL 816.545625 10.999219 \r\nL 841.007625 10.999219 \r\nL 841.007625 12.910313 \r\nL 841.007625 498.328125 \r\nL 841.007625 500.239219 \r\nz\r\n\" style=\"fill:none;\"/>\r\n   </g>\r\n  </g>\r\n </g>\r\n <defs>\r\n  <clipPath id=\"p76eeb9735f\">\r\n   <rect height=\"489.24\" width=\"714.24\" x=\"57.665625\" y=\"10.999219\"/>\r\n  </clipPath>\r\n  <clipPath id=\"pa990ceb40e\">\r\n   <rect height=\"489.24\" width=\"24.462\" x=\"816.545625\" y=\"10.999219\"/>\r\n  </clipPath>\r\n </defs>\r\n</svg>\r\n",
      "image/png": "[encoded data removed]"
     },
     "metadata": {
      "needs_background": "light"
     }
    }
   ],
   "source": [
    "# FIGURE OUT HOW TO DO THIS IN PLOTLY BECAUSE PLOTLY IS BEST YESSIR!\n",
    "plt.figure(figsize = (16, 9))\n",
    "sns.heatmap(heart_data.corr(), cmap = 'Blues')\n",
    "plt.show()\n"
   ]
  },
  {
   "source": [
    "### We plan on using all the features in this dataset"
   ],
   "cell_type": "markdown",
   "metadata": {}
  },
  {
   "cell_type": "code",
   "execution_count": 41,
   "metadata": {},
   "outputs": [],
   "source": [
    "# Create training, validation, and testing datasets\n",
    "split_ratios = {\n",
    "    'train': 0.70,\n",
    "    'validation': 0.2,\n",
    "    'test': 0.1\n",
    "}\n",
    "\n",
    "train, test = skms.train_test_split(heart_data, train_size = split_ratios['train'])\n",
    "train = train.reset_index()\n",
    "val, test = skms.train_test_split(test, train_size = split_ratios['validation'] / (1 - split_ratios['train']))\n",
    "val = val.reset_index()\n",
    "test = test.reset_index()"
   ]
  },
  {
   "cell_type": "code",
   "execution_count": 42,
   "metadata": {},
   "outputs": [
    {
     "output_type": "execute_result",
     "data": {
      "text/plain": [
       "     index  age  sex  cp  trtbps  chol  fbs  restecg  thalachh  exng  oldpeak  \\\n",
       "0       83   52    1   3     152   298    1        1       178     0      1.2   \n",
       "1       42   45    1   0     104   208    0        0       148     1      3.0   \n",
       "2      183   58    1   2     112   230    0        0       165     0      2.5   \n",
       "3       18   43    1   0     150   247    0        1       171     0      1.5   \n",
       "4       80   41    1   2     112   250    0        1       179     0      0.0   \n",
       "..     ...  ...  ...  ..     ...   ...  ...      ...       ...   ...      ...   \n",
       "207    189   41    1   0     110   172    0        0       158     0      0.0   \n",
       "208    114   55    1   1     130   262    0        1       155     0      0.0   \n",
       "209    164   38    1   2     138   175    0        1       173     0      0.0   \n",
       "210    269   56    1   0     130   283    1        0       103     1      1.6   \n",
       "211    212   39    1   0     118   219    0        1       140     0      1.2   \n",
       "\n",
       "     slp  caa  thall  output  \n",
       "0      1    0      3       1  \n",
       "1      1    0      2       1  \n",
       "2      1    1      3       0  \n",
       "3      2    0      2       1  \n",
       "4      2    0      2       1  \n",
       "..   ...  ...    ...     ...  \n",
       "207    2    0      3       0  \n",
       "208    2    0      2       1  \n",
       "209    2    4      2       1  \n",
       "210    0    0      3       0  \n",
       "211    1    0      3       0  \n",
       "\n",
       "[212 rows x 15 columns]"
      ],
      "text/html": "<div>\n<style scoped>\n    .dataframe tbody tr th:only-of-type {\n        vertical-align: middle;\n    }\n\n    .dataframe tbody tr th {\n        vertical-align: top;\n    }\n\n    .dataframe thead th {\n        text-align: right;\n    }\n</style>\n<table border=\"1\" class=\"dataframe\">\n  <thead>\n    <tr style=\"text-align: right;\">\n      <th></th>\n      <th>index</th>\n      <th>age</th>\n      <th>sex</th>\n      <th>cp</th>\n      <th>trtbps</th>\n      <th>chol</th>\n      <th>fbs</th>\n      <th>restecg</th>\n      <th>thalachh</th>\n      <th>exng</th>\n      <th>oldpeak</th>\n      <th>slp</th>\n      <th>caa</th>\n      <th>thall</th>\n      <th>output</th>\n    </tr>\n  </thead>\n  <tbody>\n    <tr>\n      <th>0</th>\n      <td>83</td>\n      <td>52</td>\n      <td>1</td>\n      <td>3</td>\n      <td>152</td>\n      <td>298</td>\n      <td>1</td>\n      <td>1</td>\n      <td>178</td>\n      <td>0</td>\n      <td>1.2</td>\n      <td>1</td>\n      <td>0</td>\n      <td>3</td>\n      <td>1</td>\n    </tr>\n    <tr>\n      <th>1</th>\n      <td>42</td>\n      <td>45</td>\n      <td>1</td>\n      <td>0</td>\n      <td>104</td>\n      <td>208</td>\n      <td>0</td>\n      <td>0</td>\n      <td>148</td>\n      <td>1</td>\n      <td>3.0</td>\n      <td>1</td>\n      <td>0</td>\n      <td>2</td>\n      <td>1</td>\n    </tr>\n    <tr>\n      <th>2</th>\n      <td>183</td>\n      <td>58</td>\n      <td>1</td>\n      <td>2</td>\n      <td>112</td>\n      <td>230</td>\n      <td>0</td>\n      <td>0</td>\n      <td>165</td>\n      <td>0</td>\n      <td>2.5</td>\n      <td>1</td>\n      <td>1</td>\n      <td>3</td>\n      <td>0</td>\n    </tr>\n    <tr>\n      <th>3</th>\n      <td>18</td>\n      <td>43</td>\n      <td>1</td>\n      <td>0</td>\n      <td>150</td>\n      <td>247</td>\n      <td>0</td>\n      <td>1</td>\n      <td>171</td>\n      <td>0</td>\n      <td>1.5</td>\n      <td>2</td>\n      <td>0</td>\n      <td>2</td>\n      <td>1</td>\n    </tr>\n    <tr>\n      <th>4</th>\n      <td>80</td>\n      <td>41</td>\n      <td>1</td>\n      <td>2</td>\n      <td>112</td>\n      <td>250</td>\n      <td>0</td>\n      <td>1</td>\n      <td>179</td>\n      <td>0</td>\n      <td>0.0</td>\n      <td>2</td>\n      <td>0</td>\n      <td>2</td>\n      <td>1</td>\n    </tr>\n    <tr>\n      <th>...</th>\n      <td>...</td>\n      <td>...</td>\n      <td>...</td>\n      <td>...</td>\n      <td>...</td>\n      <td>...</td>\n      <td>...</td>\n      <td>...</td>\n      <td>...</td>\n      <td>...</td>\n      <td>...</td>\n      <td>...</td>\n      <td>...</td>\n      <td>...</td>\n      <td>...</td>\n    </tr>\n    <tr>\n      <th>207</th>\n      <td>189</td>\n      <td>41</td>\n      <td>1</td>\n      <td>0</td>\n      <td>110</td>\n      <td>172</td>\n      <td>0</td>\n      <td>0</td>\n      <td>158</td>\n      <td>0</td>\n      <td>0.0</td>\n      <td>2</td>\n      <td>0</td>\n      <td>3</td>\n      <td>0</td>\n    </tr>\n    <tr>\n      <th>208</th>\n      <td>114</td>\n      <td>55</td>\n      <td>1</td>\n      <td>1</td>\n      <td>130</td>\n      <td>262</td>\n      <td>0</td>\n      <td>1</td>\n      <td>155</td>\n      <td>0</td>\n      <td>0.0</td>\n      <td>2</td>\n      <td>0</td>\n      <td>2</td>\n      <td>1</td>\n    </tr>\n    <tr>\n      <th>209</th>\n      <td>164</td>\n      <td>38</td>\n      <td>1</td>\n      <td>2</td>\n      <td>138</td>\n      <td>175</td>\n      <td>0</td>\n      <td>1</td>\n      <td>173</td>\n      <td>0</td>\n      <td>0.0</td>\n      <td>2</td>\n      <td>4</td>\n      <td>2</td>\n      <td>1</td>\n    </tr>\n    <tr>\n      <th>210</th>\n      <td>269</td>\n      <td>56</td>\n      <td>1</td>\n      <td>0</td>\n      <td>130</td>\n      <td>283</td>\n      <td>1</td>\n      <td>0</td>\n      <td>103</td>\n      <td>1</td>\n      <td>1.6</td>\n      <td>0</td>\n      <td>0</td>\n      <td>3</td>\n      <td>0</td>\n    </tr>\n    <tr>\n      <th>211</th>\n      <td>212</td>\n      <td>39</td>\n      <td>1</td>\n      <td>0</td>\n      <td>118</td>\n      <td>219</td>\n      <td>0</td>\n      <td>1</td>\n      <td>140</td>\n      <td>0</td>\n      <td>1.2</td>\n      <td>1</td>\n      <td>0</td>\n      <td>3</td>\n      <td>0</td>\n    </tr>\n  </tbody>\n</table>\n<p>212 rows × 15 columns</p>\n</div>"
     },
     "metadata": {},
     "execution_count": 42
    }
   ],
   "source": [
    "train"
   ]
  },
  {
   "cell_type": "code",
   "execution_count": 43,
   "metadata": {},
   "outputs": [
    {
     "output_type": "execute_result",
     "data": {
      "text/plain": [
       "    index  age  sex  cp  trtbps  chol  fbs  restecg  thalachh  exng  oldpeak  \\\n",
       "0     252   62    0   0     138   294    1        1       106     0      1.9   \n",
       "1      98   43    1   2     130   315    0        1       162     0      1.9   \n",
       "2      13   64    1   3     110   211    0        0       144     1      1.8   \n",
       "3     106   69    1   3     160   234    1        0       131     0      0.1   \n",
       "4      11   48    0   2     130   275    0        1       139     0      0.2   \n",
       "5      20   59    1   0     135   234    0        1       161     0      0.5   \n",
       "6     259   38    1   3     120   231    0        1       182     1      3.8   \n",
       "7      63   41    1   1     135   203    0        1       132     0      0.0   \n",
       "8     226   62    1   1     120   281    0        0       103     0      1.4   \n",
       "9     297   59    1   0     164   176    1        0        90     0      1.0   \n",
       "10     21   44    1   2     130   233    0        1       179     1      0.4   \n",
       "11    125   34    0   1     118   210    0        1       192     0      0.7   \n",
       "12     10   54    1   0     140   239    0        1       160     0      1.2   \n",
       "13     89   58    0   0     100   248    0        0       122     0      1.0   \n",
       "14    243   57    1   0     152   274    0        1        88     1      1.2   \n",
       "15    165   67    1   0     160   286    0        0       108     1      1.5   \n",
       "16    116   41    1   2     130   214    0        0       168     0      2.0   \n",
       "17    136   60    0   2     120   178    1        1        96     0      0.0   \n",
       "18    147   60    0   3     150   240    0        1       171     0      0.9   \n",
       "19     78   52    1   1     128   205    1        1       184     0      0.0   \n",
       "20    175   40    1   0     110   167    0        0       114     1      2.0   \n",
       "21     74   43    0   2     122   213    0        1       165     0      0.2   \n",
       "22    262   53    1   0     123   282    0        1        95     1      2.0   \n",
       "23     49   53    0   0     138   234    0        0       160     0      0.0   \n",
       "24     65   35    0   0     138   183    0        1       182     0      1.4   \n",
       "25     12   49    1   1     130   266    0        1       171     0      0.6   \n",
       "26    203   68    1   2     180   274    1        0       150     1      1.6   \n",
       "27    282   59    1   2     126   218    1        1       134     0      2.2   \n",
       "28    172   58    1   1     120   284    0        0       160     0      1.8   \n",
       "29    263   63    0   0     108   269    0        1       169     1      1.8   \n",
       "30    198   62    1   0     120   267    0        1        99     1      1.8   \n",
       "31    153   66    0   2     146   278    0        0       152     0      0.0   \n",
       "32    141   43    1   0     115   303    0        1       181     0      1.2   \n",
       "33    278   58    0   1     136   319    1        0       152     0      0.0   \n",
       "34     54   63    0   2     135   252    0        0       172     0      0.0   \n",
       "35    228   59    1   3     170   288    0        0       159     0      0.2   \n",
       "36     32   44    1   1     130   219    0        0       188     0      0.0   \n",
       "37    293   67    1   2     152   212    0        0       150     0      0.8   \n",
       "38    204   62    0   0     160   164    0        0       145     0      6.2   \n",
       "39    197   67    1   0     125   254    1        1       163     0      0.2   \n",
       "40     70   54    1   2     120   258    0        0       147     0      0.4   \n",
       "41    101   59    1   3     178   270    0        0       145     0      4.2   \n",
       "42     76   51    1   2     125   245    1        0       166     0      2.4   \n",
       "43    173   58    1   2     132   224    0        0       173     0      3.2   \n",
       "44     61   54    1   1     108   309    0        1       156     0      0.0   \n",
       "45    152   64    1   3     170   227    0        0       155     0      0.6   \n",
       "46    123   54    0   2     108   267    0        0       167     0      0.0   \n",
       "47    210   57    1   2     128   229    0        0       150     0      0.4   \n",
       "48    284   61    1   0     140   207    0        0       138     1      1.9   \n",
       "49    191   58    1   0     128   216    0        0       131     1      2.2   \n",
       "50    246   56    0   0     134   409    0        0       150     1      1.9   \n",
       "51    110   64    0   0     180   325    0        1       154     1      0.0   \n",
       "52    113   43    1   0     110   211    0        1       161     0      0.0   \n",
       "53    239   35    1   0     126   282    0        0       156     1      0.0   \n",
       "54     30   41    0   1     105   198    0        1       168     0      0.0   \n",
       "55    181   65    0   0     150   225    0        0       114     0      1.0   \n",
       "56     99   53    1   2     130   246    1        0       173     0      0.0   \n",
       "57     58   34    1   3     118   182    0        0       174     0      0.0   \n",
       "58    258   62    0   0     150   244    0        1       154     1      1.4   \n",
       "59    132   42    1   1     120   295    0        1       162     0      0.0   \n",
       "\n",
       "    slp  caa  thall  output  \n",
       "0     1    3      2       0  \n",
       "1     2    1      2       1  \n",
       "2     1    0      2       1  \n",
       "3     1    1      2       1  \n",
       "4     2    0      2       1  \n",
       "5     1    0      3       1  \n",
       "6     1    0      3       0  \n",
       "7     1    0      1       1  \n",
       "8     1    1      3       0  \n",
       "9     1    2      1       0  \n",
       "10    2    0      2       1  \n",
       "11    2    0      2       1  \n",
       "12    2    0      2       1  \n",
       "13    1    0      2       1  \n",
       "14    1    1      3       0  \n",
       "15    1    3      2       0  \n",
       "16    1    0      2       1  \n",
       "17    2    0      2       1  \n",
       "18    2    0      2       1  \n",
       "19    2    0      2       1  \n",
       "20    1    0      3       0  \n",
       "21    1    0      2       1  \n",
       "22    1    2      3       0  \n",
       "23    2    0      2       1  \n",
       "24    2    0      2       1  \n",
       "25    2    0      2       1  \n",
       "26    1    0      3       0  \n",
       "27    1    1      1       0  \n",
       "28    1    0      2       0  \n",
       "29    1    2      2       0  \n",
       "30    1    2      3       0  \n",
       "31    1    1      2       1  \n",
       "32    1    0      2       1  \n",
       "33    2    2      2       0  \n",
       "34    2    0      2       1  \n",
       "35    1    0      3       0  \n",
       "36    2    0      2       1  \n",
       "37    1    0      3       0  \n",
       "38    0    3      3       0  \n",
       "39    1    2      3       0  \n",
       "40    1    0      3       1  \n",
       "41    0    0      3       1  \n",
       "42    1    0      2       1  \n",
       "43    2    2      3       0  \n",
       "44    2    0      3       1  \n",
       "45    1    0      3       1  \n",
       "46    2    0      2       1  \n",
       "47    1    1      3       0  \n",
       "48    2    1      3       0  \n",
       "49    1    3      3       0  \n",
       "50    1    2      3       0  \n",
       "51    2    0      2       1  \n",
       "52    2    0      3       1  \n",
       "53    2    0      3       0  \n",
       "54    2    1      2       1  \n",
       "55    1    3      3       0  \n",
       "56    2    3      2       1  \n",
       "57    2    0      2       1  \n",
       "58    1    0      2       0  \n",
       "59    2    0      2       1  "
      ],
      "text/html": "<div>\n<style scoped>\n    .dataframe tbody tr th:only-of-type {\n        vertical-align: middle;\n    }\n\n    .dataframe tbody tr th {\n        vertical-align: top;\n    }\n\n    .dataframe thead th {\n        text-align: right;\n    }\n</style>\n<table border=\"1\" class=\"dataframe\">\n  <thead>\n    <tr style=\"text-align: right;\">\n      <th></th>\n      <th>index</th>\n      <th>age</th>\n      <th>sex</th>\n      <th>cp</th>\n      <th>trtbps</th>\n      <th>chol</th>\n      <th>fbs</th>\n      <th>restecg</th>\n      <th>thalachh</th>\n      <th>exng</th>\n      <th>oldpeak</th>\n      <th>slp</th>\n      <th>caa</th>\n      <th>thall</th>\n      <th>output</th>\n    </tr>\n  </thead>\n  <tbody>\n    <tr>\n      <th>0</th>\n      <td>252</td>\n      <td>62</td>\n      <td>0</td>\n      <td>0</td>\n      <td>138</td>\n      <td>294</td>\n      <td>1</td>\n      <td>1</td>\n      <td>106</td>\n      <td>0</td>\n      <td>1.9</td>\n      <td>1</td>\n      <td>3</td>\n      <td>2</td>\n      <td>0</td>\n    </tr>\n    <tr>\n      <th>1</th>\n      <td>98</td>\n      <td>43</td>\n      <td>1</td>\n      <td>2</td>\n      <td>130</td>\n      <td>315</td>\n      <td>0</td>\n      <td>1</td>\n      <td>162</td>\n      <td>0</td>\n      <td>1.9</td>\n      <td>2</td>\n      <td>1</td>\n      <td>2</td>\n      <td>1</td>\n    </tr>\n    <tr>\n      <th>2</th>\n      <td>13</td>\n      <td>64</td>\n      <td>1</td>\n      <td>3</td>\n      <td>110</td>\n      <td>211</td>\n      <td>0</td>\n      <td>0</td>\n      <td>144</td>\n      <td>1</td>\n      <td>1.8</td>\n      <td>1</td>\n      <td>0</td>\n      <td>2</td>\n      <td>1</td>\n    </tr>\n    <tr>\n      <th>3</th>\n      <td>106</td>\n      <td>69</td>\n      <td>1</td>\n      <td>3</td>\n      <td>160</td>\n      <td>234</td>\n      <td>1</td>\n      <td>0</td>\n      <td>131</td>\n      <td>0</td>\n      <td>0.1</td>\n      <td>1</td>\n      <td>1</td>\n      <td>2</td>\n      <td>1</td>\n    </tr>\n    <tr>\n      <th>4</th>\n      <td>11</td>\n      <td>48</td>\n      <td>0</td>\n      <td>2</td>\n      <td>130</td>\n      <td>275</td>\n      <td>0</td>\n      <td>1</td>\n      <td>139</td>\n      <td>0</td>\n      <td>0.2</td>\n      <td>2</td>\n      <td>0</td>\n      <td>2</td>\n      <td>1</td>\n    </tr>\n    <tr>\n      <th>5</th>\n      <td>20</td>\n      <td>59</td>\n      <td>1</td>\n      <td>0</td>\n      <td>135</td>\n      <td>234</td>\n      <td>0</td>\n      <td>1</td>\n      <td>161</td>\n      <td>0</td>\n      <td>0.5</td>\n      <td>1</td>\n      <td>0</td>\n      <td>3</td>\n      <td>1</td>\n    </tr>\n    <tr>\n      <th>6</th>\n      <td>259</td>\n      <td>38</td>\n      <td>1</td>\n      <td>3</td>\n      <td>120</td>\n      <td>231</td>\n      <td>0</td>\n      <td>1</td>\n      <td>182</td>\n      <td>1</td>\n      <td>3.8</td>\n      <td>1</td>\n      <td>0</td>\n      <td>3</td>\n      <td>0</td>\n    </tr>\n    <tr>\n      <th>7</th>\n      <td>63</td>\n      <td>41</td>\n      <td>1</td>\n      <td>1</td>\n      <td>135</td>\n      <td>203</td>\n      <td>0</td>\n      <td>1</td>\n      <td>132</td>\n      <td>0</td>\n      <td>0.0</td>\n      <td>1</td>\n      <td>0</td>\n      <td>1</td>\n      <td>1</td>\n    </tr>\n    <tr>\n      <th>8</th>\n      <td>226</td>\n      <td>62</td>\n      <td>1</td>\n      <td>1</td>\n      <td>120</td>\n      <td>281</td>\n      <td>0</td>\n      <td>0</td>\n      <td>103</td>\n      <td>0</td>\n      <td>1.4</td>\n      <td>1</td>\n      <td>1</td>\n      <td>3</td>\n      <td>0</td>\n    </tr>\n    <tr>\n      <th>9</th>\n      <td>297</td>\n      <td>59</td>\n      <td>1</td>\n      <td>0</td>\n      <td>164</td>\n      <td>176</td>\n      <td>1</td>\n      <td>0</td>\n      <td>90</td>\n      <td>0</td>\n      <td>1.0</td>\n      <td>1</td>\n      <td>2</td>\n      <td>1</td>\n      <td>0</td>\n    </tr>\n    <tr>\n      <th>10</th>\n      <td>21</td>\n      <td>44</td>\n      <td>1</td>\n      <td>2</td>\n      <td>130</td>\n      <td>233</td>\n      <td>0</td>\n      <td>1</td>\n      <td>179</td>\n      <td>1</td>\n      <td>0.4</td>\n      <td>2</td>\n      <td>0</td>\n      <td>2</td>\n      <td>1</td>\n    </tr>\n    <tr>\n      <th>11</th>\n      <td>125</td>\n      <td>34</td>\n      <td>0</td>\n      <td>1</td>\n      <td>118</td>\n      <td>210</td>\n      <td>0</td>\n      <td>1</td>\n      <td>192</td>\n      <td>0</td>\n      <td>0.7</td>\n      <td>2</td>\n      <td>0</td>\n      <td>2</td>\n      <td>1</td>\n    </tr>\n    <tr>\n      <th>12</th>\n      <td>10</td>\n      <td>54</td>\n      <td>1</td>\n      <td>0</td>\n      <td>140</td>\n      <td>239</td>\n      <td>0</td>\n      <td>1</td>\n      <td>160</td>\n      <td>0</td>\n      <td>1.2</td>\n      <td>2</td>\n      <td>0</td>\n      <td>2</td>\n      <td>1</td>\n    </tr>\n    <tr>\n      <th>13</th>\n      <td>89</td>\n      <td>58</td>\n      <td>0</td>\n      <td>0</td>\n      <td>100</td>\n      <td>248</td>\n      <td>0</td>\n      <td>0</td>\n      <td>122</td>\n      <td>0</td>\n      <td>1.0</td>\n      <td>1</td>\n      <td>0</td>\n      <td>2</td>\n      <td>1</td>\n    </tr>\n    <tr>\n      <th>14</th>\n      <td>243</td>\n      <td>57</td>\n      <td>1</td>\n      <td>0</td>\n      <td>152</td>\n      <td>274</td>\n      <td>0</td>\n      <td>1</td>\n      <td>88</td>\n      <td>1</td>\n      <td>1.2</td>\n      <td>1</td>\n      <td>1</td>\n      <td>3</td>\n      <td>0</td>\n    </tr>\n    <tr>\n      <th>15</th>\n      <td>165</td>\n      <td>67</td>\n      <td>1</td>\n      <td>0</td>\n      <td>160</td>\n      <td>286</td>\n      <td>0</td>\n      <td>0</td>\n      <td>108</td>\n      <td>1</td>\n      <td>1.5</td>\n      <td>1</td>\n      <td>3</td>\n      <td>2</td>\n      <td>0</td>\n    </tr>\n    <tr>\n      <th>16</th>\n      <td>116</td>\n      <td>41</td>\n      <td>1</td>\n      <td>2</td>\n      <td>130</td>\n      <td>214</td>\n      <td>0</td>\n      <td>0</td>\n      <td>168</td>\n      <td>0</td>\n      <td>2.0</td>\n      <td>1</td>\n      <td>0</td>\n      <td>2</td>\n      <td>1</td>\n    </tr>\n    <tr>\n      <th>17</th>\n      <td>136</td>\n      <td>60</td>\n      <td>0</td>\n      <td>2</td>\n      <td>120</td>\n      <td>178</td>\n      <td>1</td>\n      <td>1</td>\n      <td>96</td>\n      <td>0</td>\n      <td>0.0</td>\n      <td>2</td>\n      <td>0</td>\n      <td>2</td>\n      <td>1</td>\n    </tr>\n    <tr>\n      <th>18</th>\n      <td>147</td>\n      <td>60</td>\n      <td>0</td>\n      <td>3</td>\n      <td>150</td>\n      <td>240</td>\n      <td>0</td>\n      <td>1</td>\n      <td>171</td>\n      <td>0</td>\n      <td>0.9</td>\n      <td>2</td>\n      <td>0</td>\n      <td>2</td>\n      <td>1</td>\n    </tr>\n    <tr>\n      <th>19</th>\n      <td>78</td>\n      <td>52</td>\n      <td>1</td>\n      <td>1</td>\n      <td>128</td>\n      <td>205</td>\n      <td>1</td>\n      <td>1</td>\n      <td>184</td>\n      <td>0</td>\n      <td>0.0</td>\n      <td>2</td>\n      <td>0</td>\n      <td>2</td>\n      <td>1</td>\n    </tr>\n    <tr>\n      <th>20</th>\n      <td>175</td>\n      <td>40</td>\n      <td>1</td>\n      <td>0</td>\n      <td>110</td>\n      <td>167</td>\n      <td>0</td>\n      <td>0</td>\n      <td>114</td>\n      <td>1</td>\n      <td>2.0</td>\n      <td>1</td>\n      <td>0</td>\n      <td>3</td>\n      <td>0</td>\n    </tr>\n    <tr>\n      <th>21</th>\n      <td>74</td>\n      <td>43</td>\n      <td>0</td>\n      <td>2</td>\n      <td>122</td>\n      <td>213</td>\n      <td>0</td>\n      <td>1</td>\n      <td>165</td>\n      <td>0</td>\n      <td>0.2</td>\n      <td>1</td>\n      <td>0</td>\n      <td>2</td>\n      <td>1</td>\n    </tr>\n    <tr>\n      <th>22</th>\n      <td>262</td>\n      <td>53</td>\n      <td>1</td>\n      <td>0</td>\n      <td>123</td>\n      <td>282</td>\n      <td>0</td>\n      <td>1</td>\n      <td>95</td>\n      <td>1</td>\n      <td>2.0</td>\n      <td>1</td>\n      <td>2</td>\n      <td>3</td>\n      <td>0</td>\n    </tr>\n    <tr>\n      <th>23</th>\n      <td>49</td>\n      <td>53</td>\n      <td>0</td>\n      <td>0</td>\n      <td>138</td>\n      <td>234</td>\n      <td>0</td>\n      <td>0</td>\n      <td>160</td>\n      <td>0</td>\n      <td>0.0</td>\n      <td>2</td>\n      <td>0</td>\n      <td>2</td>\n      <td>1</td>\n    </tr>\n    <tr>\n      <th>24</th>\n      <td>65</td>\n      <td>35</td>\n      <td>0</td>\n      <td>0</td>\n      <td>138</td>\n      <td>183</td>\n      <td>0</td>\n      <td>1</td>\n      <td>182</td>\n      <td>0</td>\n      <td>1.4</td>\n      <td>2</td>\n      <td>0</td>\n      <td>2</td>\n      <td>1</td>\n    </tr>\n    <tr>\n      <th>25</th>\n      <td>12</td>\n      <td>49</td>\n      <td>1</td>\n      <td>1</td>\n      <td>130</td>\n      <td>266</td>\n      <td>0</td>\n      <td>1</td>\n      <td>171</td>\n      <td>0</td>\n      <td>0.6</td>\n      <td>2</td>\n      <td>0</td>\n      <td>2</td>\n      <td>1</td>\n    </tr>\n    <tr>\n      <th>26</th>\n      <td>203</td>\n      <td>68</td>\n      <td>1</td>\n      <td>2</td>\n      <td>180</td>\n      <td>274</td>\n      <td>1</td>\n      <td>0</td>\n      <td>150</td>\n      <td>1</td>\n      <td>1.6</td>\n      <td>1</td>\n      <td>0</td>\n      <td>3</td>\n      <td>0</td>\n    </tr>\n    <tr>\n      <th>27</th>\n      <td>282</td>\n      <td>59</td>\n      <td>1</td>\n      <td>2</td>\n      <td>126</td>\n      <td>218</td>\n      <td>1</td>\n      <td>1</td>\n      <td>134</td>\n      <td>0</td>\n      <td>2.2</td>\n      <td>1</td>\n      <td>1</td>\n      <td>1</td>\n      <td>0</td>\n    </tr>\n    <tr>\n      <th>28</th>\n      <td>172</td>\n      <td>58</td>\n      <td>1</td>\n      <td>1</td>\n      <td>120</td>\n      <td>284</td>\n      <td>0</td>\n      <td>0</td>\n      <td>160</td>\n      <td>0</td>\n      <td>1.8</td>\n      <td>1</td>\n      <td>0</td>\n      <td>2</td>\n      <td>0</td>\n    </tr>\n    <tr>\n      <th>29</th>\n      <td>263</td>\n      <td>63</td>\n      <td>0</td>\n      <td>0</td>\n      <td>108</td>\n      <td>269</td>\n      <td>0</td>\n      <td>1</td>\n      <td>169</td>\n      <td>1</td>\n      <td>1.8</td>\n      <td>1</td>\n      <td>2</td>\n      <td>2</td>\n      <td>0</td>\n    </tr>\n    <tr>\n      <th>30</th>\n      <td>198</td>\n      <td>62</td>\n      <td>1</td>\n      <td>0</td>\n      <td>120</td>\n      <td>267</td>\n      <td>0</td>\n      <td>1</td>\n      <td>99</td>\n      <td>1</td>\n      <td>1.8</td>\n      <td>1</td>\n      <td>2</td>\n      <td>3</td>\n      <td>0</td>\n    </tr>\n    <tr>\n      <th>31</th>\n      <td>153</td>\n      <td>66</td>\n      <td>0</td>\n      <td>2</td>\n      <td>146</td>\n      <td>278</td>\n      <td>0</td>\n      <td>0</td>\n      <td>152</td>\n      <td>0</td>\n      <td>0.0</td>\n      <td>1</td>\n      <td>1</td>\n      <td>2</td>\n      <td>1</td>\n    </tr>\n    <tr>\n      <th>32</th>\n      <td>141</td>\n      <td>43</td>\n      <td>1</td>\n      <td>0</td>\n      <td>115</td>\n      <td>303</td>\n      <td>0</td>\n      <td>1</td>\n      <td>181</td>\n      <td>0</td>\n      <td>1.2</td>\n      <td>1</td>\n      <td>0</td>\n      <td>2</td>\n      <td>1</td>\n    </tr>\n    <tr>\n      <th>33</th>\n      <td>278</td>\n      <td>58</td>\n      <td>0</td>\n      <td>1</td>\n      <td>136</td>\n      <td>319</td>\n      <td>1</td>\n      <td>0</td>\n      <td>152</td>\n      <td>0</td>\n      <td>0.0</td>\n      <td>2</td>\n      <td>2</td>\n      <td>2</td>\n      <td>0</td>\n    </tr>\n    <tr>\n      <th>34</th>\n      <td>54</td>\n      <td>63</td>\n      <td>0</td>\n      <td>2</td>\n      <td>135</td>\n      <td>252</td>\n      <td>0</td>\n      <td>0</td>\n      <td>172</td>\n      <td>0</td>\n      <td>0.0</td>\n      <td>2</td>\n      <td>0</td>\n      <td>2</td>\n      <td>1</td>\n    </tr>\n    <tr>\n      <th>35</th>\n      <td>228</td>\n      <td>59</td>\n      <td>1</td>\n      <td>3</td>\n      <td>170</td>\n      <td>288</td>\n      <td>0</td>\n      <td>0</td>\n      <td>159</td>\n      <td>0</td>\n      <td>0.2</td>\n      <td>1</td>\n      <td>0</td>\n      <td>3</td>\n      <td>0</td>\n    </tr>\n    <tr>\n      <th>36</th>\n      <td>32</td>\n      <td>44</td>\n      <td>1</td>\n      <td>1</td>\n      <td>130</td>\n      <td>219</td>\n      <td>0</td>\n      <td>0</td>\n      <td>188</td>\n      <td>0</td>\n      <td>0.0</td>\n      <td>2</td>\n      <td>0</td>\n      <td>2</td>\n      <td>1</td>\n    </tr>\n    <tr>\n      <th>37</th>\n      <td>293</td>\n      <td>67</td>\n      <td>1</td>\n      <td>2</td>\n      <td>152</td>\n      <td>212</td>\n      <td>0</td>\n      <td>0</td>\n      <td>150</td>\n      <td>0</td>\n      <td>0.8</td>\n      <td>1</td>\n      <td>0</td>\n      <td>3</td>\n      <td>0</td>\n    </tr>\n    <tr>\n      <th>38</th>\n      <td>204</td>\n      <td>62</td>\n      <td>0</td>\n      <td>0</td>\n      <td>160</td>\n      <td>164</td>\n      <td>0</td>\n      <td>0</td>\n      <td>145</td>\n      <td>0</td>\n      <td>6.2</td>\n      <td>0</td>\n      <td>3</td>\n      <td>3</td>\n      <td>0</td>\n    </tr>\n    <tr>\n      <th>39</th>\n      <td>197</td>\n      <td>67</td>\n      <td>1</td>\n      <td>0</td>\n      <td>125</td>\n      <td>254</td>\n      <td>1</td>\n      <td>1</td>\n      <td>163</td>\n      <td>0</td>\n      <td>0.2</td>\n      <td>1</td>\n      <td>2</td>\n      <td>3</td>\n      <td>0</td>\n    </tr>\n    <tr>\n      <th>40</th>\n      <td>70</td>\n      <td>54</td>\n      <td>1</td>\n      <td>2</td>\n      <td>120</td>\n      <td>258</td>\n      <td>0</td>\n      <td>0</td>\n      <td>147</td>\n      <td>0</td>\n      <td>0.4</td>\n      <td>1</td>\n      <td>0</td>\n      <td>3</td>\n      <td>1</td>\n    </tr>\n    <tr>\n      <th>41</th>\n      <td>101</td>\n      <td>59</td>\n      <td>1</td>\n      <td>3</td>\n      <td>178</td>\n      <td>270</td>\n      <td>0</td>\n      <td>0</td>\n      <td>145</td>\n      <td>0</td>\n      <td>4.2</td>\n      <td>0</td>\n      <td>0</td>\n      <td>3</td>\n      <td>1</td>\n    </tr>\n    <tr>\n      <th>42</th>\n      <td>76</td>\n      <td>51</td>\n      <td>1</td>\n      <td>2</td>\n      <td>125</td>\n      <td>245</td>\n      <td>1</td>\n      <td>0</td>\n      <td>166</td>\n      <td>0</td>\n      <td>2.4</td>\n      <td>1</td>\n      <td>0</td>\n      <td>2</td>\n      <td>1</td>\n    </tr>\n    <tr>\n      <th>43</th>\n      <td>173</td>\n      <td>58</td>\n      <td>1</td>\n      <td>2</td>\n      <td>132</td>\n      <td>224</td>\n      <td>0</td>\n      <td>0</td>\n      <td>173</td>\n      <td>0</td>\n      <td>3.2</td>\n      <td>2</td>\n      <td>2</td>\n      <td>3</td>\n      <td>0</td>\n    </tr>\n    <tr>\n      <th>44</th>\n      <td>61</td>\n      <td>54</td>\n      <td>1</td>\n      <td>1</td>\n      <td>108</td>\n      <td>309</td>\n      <td>0</td>\n      <td>1</td>\n      <td>156</td>\n      <td>0</td>\n      <td>0.0</td>\n      <td>2</td>\n      <td>0</td>\n      <td>3</td>\n      <td>1</td>\n    </tr>\n    <tr>\n      <th>45</th>\n      <td>152</td>\n      <td>64</td>\n      <td>1</td>\n      <td>3</td>\n      <td>170</td>\n      <td>227</td>\n      <td>0</td>\n      <td>0</td>\n      <td>155</td>\n      <td>0</td>\n      <td>0.6</td>\n      <td>1</td>\n      <td>0</td>\n      <td>3</td>\n      <td>1</td>\n    </tr>\n    <tr>\n      <th>46</th>\n      <td>123</td>\n      <td>54</td>\n      <td>0</td>\n      <td>2</td>\n      <td>108</td>\n      <td>267</td>\n      <td>0</td>\n      <td>0</td>\n      <td>167</td>\n      <td>0</td>\n      <td>0.0</td>\n      <td>2</td>\n      <td>0</td>\n      <td>2</td>\n      <td>1</td>\n    </tr>\n    <tr>\n      <th>47</th>\n      <td>210</td>\n      <td>57</td>\n      <td>1</td>\n      <td>2</td>\n      <td>128</td>\n      <td>229</td>\n      <td>0</td>\n      <td>0</td>\n      <td>150</td>\n      <td>0</td>\n      <td>0.4</td>\n      <td>1</td>\n      <td>1</td>\n      <td>3</td>\n      <td>0</td>\n    </tr>\n    <tr>\n      <th>48</th>\n      <td>284</td>\n      <td>61</td>\n      <td>1</td>\n      <td>0</td>\n      <td>140</td>\n      <td>207</td>\n      <td>0</td>\n      <td>0</td>\n      <td>138</td>\n      <td>1</td>\n      <td>1.9</td>\n      <td>2</td>\n      <td>1</td>\n      <td>3</td>\n      <td>0</td>\n    </tr>\n    <tr>\n      <th>49</th>\n      <td>191</td>\n      <td>58</td>\n      <td>1</td>\n      <td>0</td>\n      <td>128</td>\n      <td>216</td>\n      <td>0</td>\n      <td>0</td>\n      <td>131</td>\n      <td>1</td>\n      <td>2.2</td>\n      <td>1</td>\n      <td>3</td>\n      <td>3</td>\n      <td>0</td>\n    </tr>\n    <tr>\n      <th>50</th>\n      <td>246</td>\n      <td>56</td>\n      <td>0</td>\n      <td>0</td>\n      <td>134</td>\n      <td>409</td>\n      <td>0</td>\n      <td>0</td>\n      <td>150</td>\n      <td>1</td>\n      <td>1.9</td>\n      <td>1</td>\n      <td>2</td>\n      <td>3</td>\n      <td>0</td>\n    </tr>\n    <tr>\n      <th>51</th>\n      <td>110</td>\n      <td>64</td>\n      <td>0</td>\n      <td>0</td>\n      <td>180</td>\n      <td>325</td>\n      <td>0</td>\n      <td>1</td>\n      <td>154</td>\n      <td>1</td>\n      <td>0.0</td>\n      <td>2</td>\n      <td>0</td>\n      <td>2</td>\n      <td>1</td>\n    </tr>\n    <tr>\n      <th>52</th>\n      <td>113</td>\n      <td>43</td>\n      <td>1</td>\n      <td>0</td>\n      <td>110</td>\n      <td>211</td>\n      <td>0</td>\n      <td>1</td>\n      <td>161</td>\n      <td>0</td>\n      <td>0.0</td>\n      <td>2</td>\n      <td>0</td>\n      <td>3</td>\n      <td>1</td>\n    </tr>\n    <tr>\n      <th>53</th>\n      <td>239</td>\n      <td>35</td>\n      <td>1</td>\n      <td>0</td>\n      <td>126</td>\n      <td>282</td>\n      <td>0</td>\n      <td>0</td>\n      <td>156</td>\n      <td>1</td>\n      <td>0.0</td>\n      <td>2</td>\n      <td>0</td>\n      <td>3</td>\n      <td>0</td>\n    </tr>\n    <tr>\n      <th>54</th>\n      <td>30</td>\n      <td>41</td>\n      <td>0</td>\n      <td>1</td>\n      <td>105</td>\n      <td>198</td>\n      <td>0</td>\n      <td>1</td>\n      <td>168</td>\n      <td>0</td>\n      <td>0.0</td>\n      <td>2</td>\n      <td>1</td>\n      <td>2</td>\n      <td>1</td>\n    </tr>\n    <tr>\n      <th>55</th>\n      <td>181</td>\n      <td>65</td>\n      <td>0</td>\n      <td>0</td>\n      <td>150</td>\n      <td>225</td>\n      <td>0</td>\n      <td>0</td>\n      <td>114</td>\n      <td>0</td>\n      <td>1.0</td>\n      <td>1</td>\n      <td>3</td>\n      <td>3</td>\n      <td>0</td>\n    </tr>\n    <tr>\n      <th>56</th>\n      <td>99</td>\n      <td>53</td>\n      <td>1</td>\n      <td>2</td>\n      <td>130</td>\n      <td>246</td>\n      <td>1</td>\n      <td>0</td>\n      <td>173</td>\n      <td>0</td>\n      <td>0.0</td>\n      <td>2</td>\n      <td>3</td>\n      <td>2</td>\n      <td>1</td>\n    </tr>\n    <tr>\n      <th>57</th>\n      <td>58</td>\n      <td>34</td>\n      <td>1</td>\n      <td>3</td>\n      <td>118</td>\n      <td>182</td>\n      <td>0</td>\n      <td>0</td>\n      <td>174</td>\n      <td>0</td>\n      <td>0.0</td>\n      <td>2</td>\n      <td>0</td>\n      <td>2</td>\n      <td>1</td>\n    </tr>\n    <tr>\n      <th>58</th>\n      <td>258</td>\n      <td>62</td>\n      <td>0</td>\n      <td>0</td>\n      <td>150</td>\n      <td>244</td>\n      <td>0</td>\n      <td>1</td>\n      <td>154</td>\n      <td>1</td>\n      <td>1.4</td>\n      <td>1</td>\n      <td>0</td>\n      <td>2</td>\n      <td>0</td>\n    </tr>\n    <tr>\n      <th>59</th>\n      <td>132</td>\n      <td>42</td>\n      <td>1</td>\n      <td>1</td>\n      <td>120</td>\n      <td>295</td>\n      <td>0</td>\n      <td>1</td>\n      <td>162</td>\n      <td>0</td>\n      <td>0.0</td>\n      <td>2</td>\n      <td>0</td>\n      <td>2</td>\n      <td>1</td>\n    </tr>\n  </tbody>\n</table>\n</div>"
     },
     "metadata": {},
     "execution_count": 43
    }
   ],
   "source": [
    "val"
   ]
  },
  {
   "cell_type": "code",
   "execution_count": 44,
   "metadata": {},
   "outputs": [
    {
     "output_type": "execute_result",
     "data": {
      "text/plain": [
       "    index  age  sex  cp  trtbps  chol  fbs  restecg  thalachh  exng  oldpeak  \\\n",
       "0     268   54    1   0     122   286    0        0       116     1      3.2   \n",
       "1     249   69    1   2     140   254    0        0       146     0      2.0   \n",
       "2      51   66    1   0     120   302    0        0       151     0      0.4   \n",
       "3     273   58    1   0     100   234    0        1       156     0      0.1   \n",
       "4     247   66    1   1     160   246    0        1       120     1      0.0   \n",
       "5     289   55    0   0     128   205    0        2       130     1      2.0   \n",
       "6      46   44    1   2     140   235    0        0       180     0      0.0   \n",
       "7     283   40    1   0     152   223    0        1       181     0      0.0   \n",
       "8     291   58    1   0     114   318    0        2       140     0      4.4   \n",
       "9     272   67    1   0     120   237    0        1        71     0      1.0   \n",
       "10    119   46    0   0     138   243    0        0       152     1      0.0   \n",
       "11    187   54    1   0     124   266    0        0       109     1      2.2   \n",
       "12    245   48    1   0     124   274    0        0       166     0      0.5   \n",
       "13    248   54    1   1     192   283    0        0       195     0      0.0   \n",
       "14     50   51    0   2     130   256    0        0       149     0      0.5   \n",
       "15    186   60    1   0     130   253    0        1       144     1      1.4   \n",
       "16      2   41    0   1     130   204    0        0       172     0      1.4   \n",
       "17     48   53    0   2     128   216    0        0       115     0      0.0   \n",
       "18     31   65    1   0     120   177    0        1       140     0      0.4   \n",
       "19    103   42    1   2     120   240    1        1       194     0      0.8   \n",
       "20    286   59    1   3     134   204    0        1       162     0      0.8   \n",
       "21     17   66    0   3     150   226    0        1       114     0      2.6   \n",
       "22    222   65    1   3     138   282    1        0       174     0      1.4   \n",
       "23    255   45    1   0     142   309    0        0       147     1      0.0   \n",
       "24     22   42    1   0     140   226    0        1       178     0      0.0   \n",
       "25    195   59    1   0     170   326    0        0       140     1      3.4   \n",
       "26    160   56    1   1     120   240    0        1       169     0      0.0   \n",
       "27      0   63    1   3     145   233    1        0       150     0      2.3   \n",
       "28    241   59    0   0     174   249    0        1       143     1      0.0   \n",
       "29    235   51    1   0     140   299    0        1       173     1      1.6   \n",
       "30     69   62    0   0     124   209    0        1       163     0      0.0   \n",
       "\n",
       "    slp  caa  thall  output  \n",
       "0     1    2      2       0  \n",
       "1     1    3      3       0  \n",
       "2     1    0      2       1  \n",
       "3     2    1      3       0  \n",
       "4     1    3      1       0  \n",
       "5     1    1      3       0  \n",
       "6     2    0      2       1  \n",
       "7     2    0      3       0  \n",
       "8     0    3      1       0  \n",
       "9     1    0      2       0  \n",
       "10    1    0      2       1  \n",
       "11    1    1      3       0  \n",
       "12    1    0      3       0  \n",
       "13    2    1      3       0  \n",
       "14    2    0      2       1  \n",
       "15    2    1      3       0  \n",
       "16    2    0      2       1  \n",
       "17    2    0      0       1  \n",
       "18    2    0      3       1  \n",
       "19    0    0      3       1  \n",
       "20    2    2      2       0  \n",
       "21    0    0      2       1  \n",
       "22    1    1      2       0  \n",
       "23    1    3      3       0  \n",
       "24    2    0      2       1  \n",
       "25    0    0      3       0  \n",
       "26    0    0      2       1  \n",
       "27    0    0      1       1  \n",
       "28    1    0      2       0  \n",
       "29    2    0      3       0  \n",
       "30    2    0      2       1  "
      ],
      "text/html": "<div>\n<style scoped>\n    .dataframe tbody tr th:only-of-type {\n        vertical-align: middle;\n    }\n\n    .dataframe tbody tr th {\n        vertical-align: top;\n    }\n\n    .dataframe thead th {\n        text-align: right;\n    }\n</style>\n<table border=\"1\" class=\"dataframe\">\n  <thead>\n    <tr style=\"text-align: right;\">\n      <th></th>\n      <th>index</th>\n      <th>age</th>\n      <th>sex</th>\n      <th>cp</th>\n      <th>trtbps</th>\n      <th>chol</th>\n      <th>fbs</th>\n      <th>restecg</th>\n      <th>thalachh</th>\n      <th>exng</th>\n      <th>oldpeak</th>\n      <th>slp</th>\n      <th>caa</th>\n      <th>thall</th>\n      <th>output</th>\n    </tr>\n  </thead>\n  <tbody>\n    <tr>\n      <th>0</th>\n      <td>268</td>\n      <td>54</td>\n      <td>1</td>\n      <td>0</td>\n      <td>122</td>\n      <td>286</td>\n      <td>0</td>\n      <td>0</td>\n      <td>116</td>\n      <td>1</td>\n      <td>3.2</td>\n      <td>1</td>\n      <td>2</td>\n      <td>2</td>\n      <td>0</td>\n    </tr>\n    <tr>\n      <th>1</th>\n      <td>249</td>\n      <td>69</td>\n      <td>1</td>\n      <td>2</td>\n      <td>140</td>\n      <td>254</td>\n      <td>0</td>\n      <td>0</td>\n      <td>146</td>\n      <td>0</td>\n      <td>2.0</td>\n      <td>1</td>\n      <td>3</td>\n      <td>3</td>\n      <td>0</td>\n    </tr>\n    <tr>\n      <th>2</th>\n      <td>51</td>\n      <td>66</td>\n      <td>1</td>\n      <td>0</td>\n      <td>120</td>\n      <td>302</td>\n      <td>0</td>\n      <td>0</td>\n      <td>151</td>\n      <td>0</td>\n      <td>0.4</td>\n      <td>1</td>\n      <td>0</td>\n      <td>2</td>\n      <td>1</td>\n    </tr>\n    <tr>\n      <th>3</th>\n      <td>273</td>\n      <td>58</td>\n      <td>1</td>\n      <td>0</td>\n      <td>100</td>\n      <td>234</td>\n      <td>0</td>\n      <td>1</td>\n      <td>156</td>\n      <td>0</td>\n      <td>0.1</td>\n      <td>2</td>\n      <td>1</td>\n      <td>3</td>\n      <td>0</td>\n    </tr>\n    <tr>\n      <th>4</th>\n      <td>247</td>\n      <td>66</td>\n      <td>1</td>\n      <td>1</td>\n      <td>160</td>\n      <td>246</td>\n      <td>0</td>\n      <td>1</td>\n      <td>120</td>\n      <td>1</td>\n      <td>0.0</td>\n      <td>1</td>\n      <td>3</td>\n      <td>1</td>\n      <td>0</td>\n    </tr>\n    <tr>\n      <th>5</th>\n      <td>289</td>\n      <td>55</td>\n      <td>0</td>\n      <td>0</td>\n      <td>128</td>\n      <td>205</td>\n      <td>0</td>\n      <td>2</td>\n      <td>130</td>\n      <td>1</td>\n      <td>2.0</td>\n      <td>1</td>\n      <td>1</td>\n      <td>3</td>\n      <td>0</td>\n    </tr>\n    <tr>\n      <th>6</th>\n      <td>46</td>\n      <td>44</td>\n      <td>1</td>\n      <td>2</td>\n      <td>140</td>\n      <td>235</td>\n      <td>0</td>\n      <td>0</td>\n      <td>180</td>\n      <td>0</td>\n      <td>0.0</td>\n      <td>2</td>\n      <td>0</td>\n      <td>2</td>\n      <td>1</td>\n    </tr>\n    <tr>\n      <th>7</th>\n      <td>283</td>\n      <td>40</td>\n      <td>1</td>\n      <td>0</td>\n      <td>152</td>\n      <td>223</td>\n      <td>0</td>\n      <td>1</td>\n      <td>181</td>\n      <td>0</td>\n      <td>0.0</td>\n      <td>2</td>\n      <td>0</td>\n      <td>3</td>\n      <td>0</td>\n    </tr>\n    <tr>\n      <th>8</th>\n      <td>291</td>\n      <td>58</td>\n      <td>1</td>\n      <td>0</td>\n      <td>114</td>\n      <td>318</td>\n      <td>0</td>\n      <td>2</td>\n      <td>140</td>\n      <td>0</td>\n      <td>4.4</td>\n      <td>0</td>\n      <td>3</td>\n      <td>1</td>\n      <td>0</td>\n    </tr>\n    <tr>\n      <th>9</th>\n      <td>272</td>\n      <td>67</td>\n      <td>1</td>\n      <td>0</td>\n      <td>120</td>\n      <td>237</td>\n      <td>0</td>\n      <td>1</td>\n      <td>71</td>\n      <td>0</td>\n      <td>1.0</td>\n      <td>1</td>\n      <td>0</td>\n      <td>2</td>\n      <td>0</td>\n    </tr>\n    <tr>\n      <th>10</th>\n      <td>119</td>\n      <td>46</td>\n      <td>0</td>\n      <td>0</td>\n      <td>138</td>\n      <td>243</td>\n      <td>0</td>\n      <td>0</td>\n      <td>152</td>\n      <td>1</td>\n      <td>0.0</td>\n      <td>1</td>\n      <td>0</td>\n      <td>2</td>\n      <td>1</td>\n    </tr>\n    <tr>\n      <th>11</th>\n      <td>187</td>\n      <td>54</td>\n      <td>1</td>\n      <td>0</td>\n      <td>124</td>\n      <td>266</td>\n      <td>0</td>\n      <td>0</td>\n      <td>109</td>\n      <td>1</td>\n      <td>2.2</td>\n      <td>1</td>\n      <td>1</td>\n      <td>3</td>\n      <td>0</td>\n    </tr>\n    <tr>\n      <th>12</th>\n      <td>245</td>\n      <td>48</td>\n      <td>1</td>\n      <td>0</td>\n      <td>124</td>\n      <td>274</td>\n      <td>0</td>\n      <td>0</td>\n      <td>166</td>\n      <td>0</td>\n      <td>0.5</td>\n      <td>1</td>\n      <td>0</td>\n      <td>3</td>\n      <td>0</td>\n    </tr>\n    <tr>\n      <th>13</th>\n      <td>248</td>\n      <td>54</td>\n      <td>1</td>\n      <td>1</td>\n      <td>192</td>\n      <td>283</td>\n      <td>0</td>\n      <td>0</td>\n      <td>195</td>\n      <td>0</td>\n      <td>0.0</td>\n      <td>2</td>\n      <td>1</td>\n      <td>3</td>\n      <td>0</td>\n    </tr>\n    <tr>\n      <th>14</th>\n      <td>50</td>\n      <td>51</td>\n      <td>0</td>\n      <td>2</td>\n      <td>130</td>\n      <td>256</td>\n      <td>0</td>\n      <td>0</td>\n      <td>149</td>\n      <td>0</td>\n      <td>0.5</td>\n      <td>2</td>\n      <td>0</td>\n      <td>2</td>\n      <td>1</td>\n    </tr>\n    <tr>\n      <th>15</th>\n      <td>186</td>\n      <td>60</td>\n      <td>1</td>\n      <td>0</td>\n      <td>130</td>\n      <td>253</td>\n      <td>0</td>\n      <td>1</td>\n      <td>144</td>\n      <td>1</td>\n      <td>1.4</td>\n      <td>2</td>\n      <td>1</td>\n      <td>3</td>\n      <td>0</td>\n    </tr>\n    <tr>\n      <th>16</th>\n      <td>2</td>\n      <td>41</td>\n      <td>0</td>\n      <td>1</td>\n      <td>130</td>\n      <td>204</td>\n      <td>0</td>\n      <td>0</td>\n      <td>172</td>\n      <td>0</td>\n      <td>1.4</td>\n      <td>2</td>\n      <td>0</td>\n      <td>2</td>\n      <td>1</td>\n    </tr>\n    <tr>\n      <th>17</th>\n      <td>48</td>\n      <td>53</td>\n      <td>0</td>\n      <td>2</td>\n      <td>128</td>\n      <td>216</td>\n      <td>0</td>\n      <td>0</td>\n      <td>115</td>\n      <td>0</td>\n      <td>0.0</td>\n      <td>2</td>\n      <td>0</td>\n      <td>0</td>\n      <td>1</td>\n    </tr>\n    <tr>\n      <th>18</th>\n      <td>31</td>\n      <td>65</td>\n      <td>1</td>\n      <td>0</td>\n      <td>120</td>\n      <td>177</td>\n      <td>0</td>\n      <td>1</td>\n      <td>140</td>\n      <td>0</td>\n      <td>0.4</td>\n      <td>2</td>\n      <td>0</td>\n      <td>3</td>\n      <td>1</td>\n    </tr>\n    <tr>\n      <th>19</th>\n      <td>103</td>\n      <td>42</td>\n      <td>1</td>\n      <td>2</td>\n      <td>120</td>\n      <td>240</td>\n      <td>1</td>\n      <td>1</td>\n      <td>194</td>\n      <td>0</td>\n      <td>0.8</td>\n      <td>0</td>\n      <td>0</td>\n      <td>3</td>\n      <td>1</td>\n    </tr>\n    <tr>\n      <th>20</th>\n      <td>286</td>\n      <td>59</td>\n      <td>1</td>\n      <td>3</td>\n      <td>134</td>\n      <td>204</td>\n      <td>0</td>\n      <td>1</td>\n      <td>162</td>\n      <td>0</td>\n      <td>0.8</td>\n      <td>2</td>\n      <td>2</td>\n      <td>2</td>\n      <td>0</td>\n    </tr>\n    <tr>\n      <th>21</th>\n      <td>17</td>\n      <td>66</td>\n      <td>0</td>\n      <td>3</td>\n      <td>150</td>\n      <td>226</td>\n      <td>0</td>\n      <td>1</td>\n      <td>114</td>\n      <td>0</td>\n      <td>2.6</td>\n      <td>0</td>\n      <td>0</td>\n      <td>2</td>\n      <td>1</td>\n    </tr>\n    <tr>\n      <th>22</th>\n      <td>222</td>\n      <td>65</td>\n      <td>1</td>\n      <td>3</td>\n      <td>138</td>\n      <td>282</td>\n      <td>1</td>\n      <td>0</td>\n      <td>174</td>\n      <td>0</td>\n      <td>1.4</td>\n      <td>1</td>\n      <td>1</td>\n      <td>2</td>\n      <td>0</td>\n    </tr>\n    <tr>\n      <th>23</th>\n      <td>255</td>\n      <td>45</td>\n      <td>1</td>\n      <td>0</td>\n      <td>142</td>\n      <td>309</td>\n      <td>0</td>\n      <td>0</td>\n      <td>147</td>\n      <td>1</td>\n      <td>0.0</td>\n      <td>1</td>\n      <td>3</td>\n      <td>3</td>\n      <td>0</td>\n    </tr>\n    <tr>\n      <th>24</th>\n      <td>22</td>\n      <td>42</td>\n      <td>1</td>\n      <td>0</td>\n      <td>140</td>\n      <td>226</td>\n      <td>0</td>\n      <td>1</td>\n      <td>178</td>\n      <td>0</td>\n      <td>0.0</td>\n      <td>2</td>\n      <td>0</td>\n      <td>2</td>\n      <td>1</td>\n    </tr>\n    <tr>\n      <th>25</th>\n      <td>195</td>\n      <td>59</td>\n      <td>1</td>\n      <td>0</td>\n      <td>170</td>\n      <td>326</td>\n      <td>0</td>\n      <td>0</td>\n      <td>140</td>\n      <td>1</td>\n      <td>3.4</td>\n      <td>0</td>\n      <td>0</td>\n      <td>3</td>\n      <td>0</td>\n    </tr>\n    <tr>\n      <th>26</th>\n      <td>160</td>\n      <td>56</td>\n      <td>1</td>\n      <td>1</td>\n      <td>120</td>\n      <td>240</td>\n      <td>0</td>\n      <td>1</td>\n      <td>169</td>\n      <td>0</td>\n      <td>0.0</td>\n      <td>0</td>\n      <td>0</td>\n      <td>2</td>\n      <td>1</td>\n    </tr>\n    <tr>\n      <th>27</th>\n      <td>0</td>\n      <td>63</td>\n      <td>1</td>\n      <td>3</td>\n      <td>145</td>\n      <td>233</td>\n      <td>1</td>\n      <td>0</td>\n      <td>150</td>\n      <td>0</td>\n      <td>2.3</td>\n      <td>0</td>\n      <td>0</td>\n      <td>1</td>\n      <td>1</td>\n    </tr>\n    <tr>\n      <th>28</th>\n      <td>241</td>\n      <td>59</td>\n      <td>0</td>\n      <td>0</td>\n      <td>174</td>\n      <td>249</td>\n      <td>0</td>\n      <td>1</td>\n      <td>143</td>\n      <td>1</td>\n      <td>0.0</td>\n      <td>1</td>\n      <td>0</td>\n      <td>2</td>\n      <td>0</td>\n    </tr>\n    <tr>\n      <th>29</th>\n      <td>235</td>\n      <td>51</td>\n      <td>1</td>\n      <td>0</td>\n      <td>140</td>\n      <td>299</td>\n      <td>0</td>\n      <td>1</td>\n      <td>173</td>\n      <td>1</td>\n      <td>1.6</td>\n      <td>2</td>\n      <td>0</td>\n      <td>3</td>\n      <td>0</td>\n    </tr>\n    <tr>\n      <th>30</th>\n      <td>69</td>\n      <td>62</td>\n      <td>0</td>\n      <td>0</td>\n      <td>124</td>\n      <td>209</td>\n      <td>0</td>\n      <td>1</td>\n      <td>163</td>\n      <td>0</td>\n      <td>0.0</td>\n      <td>2</td>\n      <td>0</td>\n      <td>2</td>\n      <td>1</td>\n    </tr>\n  </tbody>\n</table>\n</div>"
     },
     "metadata": {},
     "execution_count": 44
    }
   ],
   "source": [
    "test"
   ]
  }
 ]
}